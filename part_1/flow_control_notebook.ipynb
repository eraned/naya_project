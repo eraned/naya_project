{
  "nbformat": 4,
  "nbformat_minor": 0,
  "metadata": {
    "colab": {
      "name": "flow_control_notebook.ipynb",
      "provenance": [],
      "collapsed_sections": [
        "vgBux9ieUly1",
        "BTeWzQrSUlzD",
        "_WpGV4DlUlzJ",
        "IJJPX86-UlzN",
        "d0mkkuM4UlzO",
        "KLMbOmi2UlzX",
        "Npt4WZ_KUlzX",
        "daF2I81U-Ddh",
        "u3FvKUbC-Ddl",
        "bVJYJm8b-Ddn",
        "cHISPXtZ-Ddq",
        "BCEB0T6fUlzZ",
        "ufObtYQOCNCY",
        "HElFihnFUlzc",
        "l6IUNxkaCQmV",
        "P9ncoyrJUlzh",
        "g-3-QvfnGwsT",
        "YdZT-GlxJiJZ",
        "xzxZByGhJkHA",
        "qZ6GdguXUlz6",
        "7ozV2qG-Ulz7",
        "pWe5wdFoUlz_",
        "I5vbakPwUl0C",
        "q75-cGzDUl0W",
        "CamTJBd8Ul0X",
        "9pDR7sY6Ul0a",
        "deKHd4vhUl0g",
        "wlguLjRAUl0k",
        "2_9vC_JyUl0n",
        "uTdelnoFUl1V",
        "Y51alZL0Ul2L",
        "rBMPlPwLWE8m",
        "vR7LYHwhUl2P",
        "9joIgUoGWOc9",
        "6YvXFbX6-DeC",
        "MtSqAAoq-DeF",
        "-VOfleK2-DeJ",
        "Ki_b-hytUl2Q",
        "5aQN11tG-DeU",
        "f42nWBmz-DeU",
        "RM_Gmd-bXT93",
        "dFiq_yxdXYAu",
        "J7KT-VpN-Def",
        "xWALJXGFUl2S",
        "XqUKsCUVXj4M",
        "q9SqjHpw-Den",
        "bSkv9Rxc-Deq",
        "GXSpoinI-Dew",
        "8veh-O8jUl2X",
        "788WSowTUl2Y",
        "b4nZ4zTlUl2Z",
        "YXDfHYdCUl2h",
        "KgU1TxeYUl2h",
        "w8RflKy-Ul2k",
        "xEo0QM0RUl2l",
        "GJuE9SWcUl2m",
        "5Tjp7rk9Ul2n",
        "5sT81-ZReP3m",
        "PMJKJ_hDUl2p",
        "rWCzH0Pv4ILm",
        "C8_TSM01Ul2q",
        "rb8cCYME4NJl",
        "tromvJfl-DfH",
        "WV91_AbD-DfL",
        "kUTajvWzUl2q",
        "O2_qmGNh4Z8P",
        "poqFj-I7-DfU",
        "yspyt2u4-DfX",
        "3nhJ2ShsUl2y",
        "sMkQnUNiUl2z",
        "3OgBUfIN7r9m",
        "O0xWc4xlUl3C",
        "qaBg9BuL--fW",
        "d0dQCw1AUl3D",
        "wMxGbCB3Ul3H",
        "HdbRL7oKUl3Q"
      ]
    },
    "language_info": {
      "codemirror_mode": {
        "name": "ipython",
        "version": 3
      },
      "file_extension": ".py",
      "mimetype": "text/x-python",
      "name": "python",
      "nbconvert_exporter": "python",
      "pygments_lexer": "ipython3",
      "version": "3.7.1"
    },
    "kernelspec": {
      "display_name": "Python 3",
      "language": "python",
      "name": "python3"
    }
  },
  "cells": [
    {
      "cell_type": "markdown",
      "metadata": {
        "id": "E1xhQKW0Uly0"
      },
      "source": [
        "The default behavior of the interpreter is to execute the lines of code one after the other. However, the tools we will see in this chapter provide means for manipulating this behavior and control the \"flow\" of the code.\n",
        "\n",
        "The two main categories of flow control are:\n",
        "\n",
        "* **conditioning** the execution of specific code parts by some preliminary test\n",
        "* Repeated execution of specific code parts in **loops**"
      ]
    },
    {
      "cell_type": "markdown",
      "metadata": {
        "id": "vgBux9ieUly1"
      },
      "source": [
        "# The *if* statement (and friends)"
      ]
    },
    {
      "cell_type": "markdown",
      "metadata": {
        "id": "_F5Q23n1Uly2"
      },
      "source": [
        "The code block within an _if_ statement will be executed only if the specified condition is fulfilled."
      ]
    },
    {
      "cell_type": "code",
      "metadata": {
        "id": "T7yG_lFVUly2"
      },
      "source": [
        "word = 'Schwarzenegger'\n",
        "if len(word) > 10:\n",
        "    print ('This is a long word...!')\n",
        "if len(word) <= 10:\n",
        "    print ('This word is not so long.')\n",
        "print(\"Done!\")"
      ],
      "execution_count": null,
      "outputs": []
    },
    {
      "cell_type": "markdown",
      "metadata": {
        "id": "yFmxFc39-2wX"
      },
      "source": [
        "> **Note:** The `print(\"Done!\")` is added to illustrate the indentation."
      ]
    },
    {
      "cell_type": "markdown",
      "metadata": {
        "id": "FkoYA2LBUly9"
      },
      "source": [
        "It should be noted that the term after the word _if_ is not necessarily a \"test\", but is actually a **variable**. Usually it is a Boolean variable, but we will see later that this is not necessarily the case."
      ]
    },
    {
      "cell_type": "code",
      "metadata": {
        "id": "vjKNhT_NUly-"
      },
      "source": [
        "word = 'Schwarzenegger'\n",
        "is_long_word = len(word) > 10\n",
        "if is_long_word:\n",
        "    print ('This is a long word...!')\n",
        "if not is_long_word:\n",
        "    print ('This word is not so long.')\n",
        "print (\"Done!\")"
      ],
      "execution_count": null,
      "outputs": []
    },
    {
      "cell_type": "markdown",
      "metadata": {
        "id": "BTeWzQrSUlzD"
      },
      "source": [
        "#### Example"
      ]
    },
    {
      "cell_type": "markdown",
      "metadata": {
        "id": "jZDeGEVyUlzD"
      },
      "source": [
        "Print the largest number from a list of three numbers."
      ]
    },
    {
      "cell_type": "code",
      "metadata": {
        "id": "qL-SMPmXUlzE"
      },
      "source": [
        "numbers = [200, 123, 63]\n",
        "\n",
        "# Initializing\n",
        "largest = numbers[0]\n",
        "\n",
        "# Update\n",
        "if numbers[1] > largest:\n",
        "    largest = numbers[1]\n",
        "if numbers[2] > largest:\n",
        "    largest = numbers[2]\n",
        "\n",
        "print (largest)"
      ],
      "execution_count": null,
      "outputs": []
    },
    {
      "cell_type": "markdown",
      "metadata": {
        "id": "_WpGV4DlUlzJ"
      },
      "source": [
        "## _elif_ and _else_"
      ]
    },
    {
      "cell_type": "markdown",
      "metadata": {
        "id": "qGo5A_3NUlzK"
      },
      "source": [
        "A series of conditions may be tested in order to choose the relevant code block, and to do that we use the _elif_ and _else_ statements. _elif_ is a short for \"else if\", which is used when we wish to make another optional testing. The _else_ statement does not make any more tests, but rather execute the code block it holds if no other test was True\n",
        "\n",
        "The key point for understanding the logic of an _if...elif...else_ section is that **only the code block of the first fulfilled condition is executed**."
      ]
    },
    {
      "cell_type": "code",
      "metadata": {
        "id": "6g8eRDi6UlzK"
      },
      "source": [
        "age = 14\n",
        "if age < 6:\n",
        "    print ('I can\\'t believe how much you\\'ve grown.')\n",
        "elif age < 18:\n",
        "    print ('How\\'s school?')\n",
        "elif age < 90:\n",
        "    print ('Let\\'s have a beer!')\n",
        "else:\n",
        "    print ('Sooo... no teeth, ha?')"
      ],
      "execution_count": null,
      "outputs": []
    },
    {
      "cell_type": "markdown",
      "metadata": {
        "id": "VoQqBalx-chF"
      },
      "source": [
        "To understand the importance of the order between the conditions, consider the implications of this order:"
      ]
    },
    {
      "cell_type": "code",
      "metadata": {
        "id": "goWJ0Aqy-lrK"
      },
      "source": [
        "age = 14\n",
        "if age < 90:\n",
        "    print ('Let\\'s have a beer!')\n",
        "elif age < 18:\n",
        "    print ('How\\'s school?')\n",
        "elif age < 6:\n",
        "    print ('I can\\'t believe how much you\\'ve grown.')\n",
        "else:\n",
        "    print ('Sooo... no teeth, ha?')"
      ],
      "execution_count": null,
      "outputs": []
    },
    {
      "cell_type": "markdown",
      "metadata": {
        "id": "n_WESQQw_Jr1"
      },
      "source": [
        "> **Your turn:** \n",
        "> * Part 1 - Write a short script that defines a string variable `word` and prints whether `word` contains more than 2 vowels or not\n",
        "> * Part 2 - Write a short script that defines a string variable `my_string` and prints whether `my_string` starts with an upper-case letter, a lower-case letter or neither."
      ]
    },
    {
      "cell_type": "markdown",
      "metadata": {
        "id": "IJJPX86-UlzN"
      },
      "source": [
        "## Nested `if`"
      ]
    },
    {
      "cell_type": "markdown",
      "metadata": {
        "id": "xVQXP3qbUlzO"
      },
      "source": [
        "_if_ statements can be **nested** as long as we **keep our indentations correctly**."
      ]
    },
    {
      "cell_type": "markdown",
      "metadata": {
        "id": "d0mkkuM4UlzO"
      },
      "source": [
        "#### Example"
      ]
    },
    {
      "cell_type": "markdown",
      "metadata": {
        "id": "Bu2ZFFn7UlzP"
      },
      "source": [
        "Given a `world_dict` dictionary (see below), write a script that receives a location of type `list` and is of the form `[continet, country, city]`, and prints whether this location is already in the dictionary or not."
      ]
    },
    {
      "cell_type": "code",
      "metadata": {
        "id": "8B3wdxDEUlzQ"
      },
      "source": [
        "world_dict = {'Europe':\n",
        "                  {'Spain': ['Madrid', 'Barcelona'],\n",
        "                   'France': ['Paris', 'Lyon']},\n",
        "              'Asia':\n",
        "                  {'Japan': ['Tokyo', 'Hiroshima'],\n",
        "                   'China': ['Beijing', 'Shanghai']}}"
      ],
      "execution_count": null,
      "outputs": []
    },
    {
      "cell_type": "markdown",
      "metadata": {
        "id": "lQM6CNdmAnKS"
      },
      "source": [
        "> **Note:** The indentation above is not mandatory, but it makes it easier to read."
      ]
    },
    {
      "cell_type": "code",
      "metadata": {
        "id": "NiwKME3KUlzS"
      },
      "source": [
        "location = ['Europe', 'France', 'Paris']\n",
        "# location = ['Europe', 'France', 'Marseille']\n",
        "# location = ['Europe', 'Germany', 'Berlin']\n",
        "# location = ['Africa', 'Egypt', 'Alexandria']\n",
        "# location = ['Europe', 'Germany', '']"
      ],
      "execution_count": null,
      "outputs": []
    },
    {
      "cell_type": "code",
      "metadata": {
        "id": "4qpk5DrTUlzU"
      },
      "source": [
        "continent = location[0]\n",
        "if continent in world_dict:\n",
        "    country = location[1]\n",
        "    if country in world_dict[continent]:\n",
        "        city = location[2]\n",
        "        if city in world_dict[continent][country]:\n",
        "            print (\"Your city is already in the dictionary\")\n",
        "        else:\n",
        "            print (\"Your city is not in the dictionary\")\n",
        "    else:\n",
        "        print (\"Your country is not in the dictionary\")\n",
        "else:\n",
        "    print (\"Your continent is not in the dictionary\")\n",
        "print (\"Done!\")"
      ],
      "execution_count": null,
      "outputs": []
    },
    {
      "cell_type": "markdown",
      "metadata": {
        "id": "KLMbOmi2UlzX"
      },
      "source": [
        "## Exercises"
      ]
    },
    {
      "cell_type": "markdown",
      "metadata": {
        "id": "Npt4WZ_KUlzX"
      },
      "source": [
        "### Exercise 1"
      ]
    },
    {
      "cell_type": "markdown",
      "metadata": {
        "id": "cVWwtahQUlzY"
      },
      "source": [
        "Choose a number and assign it to a variable called `n`. Then write a code to check whether `n` is divisible by 2, 3 and 5 (all of them). Is your code efficient?"
      ]
    },
    {
      "cell_type": "markdown",
      "metadata": {
        "id": "1MQlDN96Bp0U"
      },
      "source": [
        "> **Reminder:** `n` is divisible by `d` if  `n % d == 0`"
      ]
    },
    {
      "cell_type": "code",
      "metadata": {
        "id": "nbZHZZ9F-Dde"
      },
      "source": [
        "num = 120"
      ],
      "execution_count": null,
      "outputs": []
    },
    {
      "cell_type": "markdown",
      "metadata": {
        "id": "XQuWCBlljWo5"
      },
      "source": [
        "### Solution"
      ]
    },
    {
      "cell_type": "markdown",
      "metadata": {
        "id": "daF2I81U-Ddh"
      },
      "source": [
        "#### Solution 1 - `if...else`"
      ]
    },
    {
      "cell_type": "code",
      "metadata": {
        "id": "XUdKOyjr-Ddi"
      },
      "source": [
        "if num % 2 == 0 and num % 3 == 0 and num % 5 == 0:\n",
        "    print (str(num) + \" is divisible by 2, 3 and 5!\")\n",
        "else:\n",
        "    print (str(num) + \" is NOT divisible by 2, 3 and 5!\")"
      ],
      "execution_count": null,
      "outputs": []
    },
    {
      "cell_type": "markdown",
      "metadata": {
        "id": "u3FvKUbC-Ddl"
      },
      "source": [
        "#### Solution 2 - nested `if`"
      ]
    },
    {
      "cell_type": "code",
      "metadata": {
        "id": "toaCvpYi-Ddl"
      },
      "source": [
        "if num % 2 == 0:\n",
        "    if num % 3 == 0:\n",
        "        if num % 5 == 0:\n",
        "            print (str(num) + \" is divisible by 2, 3 and 5!\")\n",
        "        else:\n",
        "            print (str(num) + \" is NOT divisible by 2, 3 and 5!\")\n",
        "    else:\n",
        "        print (str(num) + \" is NOT divisible by 2, 3 and 5!\")\n",
        "else:\n",
        "    print (str(num) + \" is NOT divisible by 2, 3 and 5!\")"
      ],
      "execution_count": null,
      "outputs": []
    },
    {
      "cell_type": "markdown",
      "metadata": {
        "id": "bVJYJm8b-Ddn"
      },
      "source": [
        "#### Solution 3 - `if...elif...else`"
      ]
    },
    {
      "cell_type": "code",
      "metadata": {
        "id": "Evu_DEsw-Ddo"
      },
      "source": [
        "if num % 2 != 0:\n",
        "    print (str(num) + \" is NOT divisible by 2, 3 and 5!\")\n",
        "elif num % 3 != 0:\n",
        "    print (str(num) + \" is NOT divisible by 2, 3 and 5!\")\n",
        "elif num % 5 != 0:\n",
        "    print (str(num) + \" is NOT divisible by 2, 3 and 5!\")\n",
        "else:\n",
        "    print (str(num) + \" is divisible by 2, 3 and 5!\")"
      ],
      "execution_count": null,
      "outputs": []
    },
    {
      "cell_type": "markdown",
      "metadata": {
        "id": "cHISPXtZ-Ddq"
      },
      "source": [
        "#### Solution 4 - yet another approach"
      ]
    },
    {
      "cell_type": "code",
      "metadata": {
        "id": "X1-8cCJa-Ddr"
      },
      "source": [
        "if num % 30 == 0:\n",
        "    print (str(num) + \" is divisible by 2, 3 and 5!\")\n",
        "else:\n",
        "    print (str(num) + \" is NOT divisible by 2, 3 and 5!\")"
      ],
      "execution_count": null,
      "outputs": []
    },
    {
      "cell_type": "markdown",
      "metadata": {
        "id": "BCEB0T6fUlzZ"
      },
      "source": [
        "### Exercise 2"
      ]
    },
    {
      "cell_type": "markdown",
      "metadata": {
        "id": "SCrfb-lPUlza"
      },
      "source": [
        "Create a list with 3 words of different lengths, and write a code that prints the longest word in the list."
      ]
    },
    {
      "cell_type": "markdown",
      "metadata": {
        "id": "ufObtYQOCNCY"
      },
      "source": [
        "#### Solution"
      ]
    },
    {
      "cell_type": "code",
      "metadata": {
        "id": "5MYnjjDvCOK7"
      },
      "source": [
        "x = ['I', 'am', 'bad']\n",
        "#x = ['Python', 'is', 'cool']\n",
        "\n",
        "longest = x[0]\n",
        "if len(x[1]) > len(longest):\n",
        "    longest = x[1]\n",
        "if len(x[2]) > len(longest):\n",
        "    longest = x[2]\n",
        "\n",
        "print (longest)"
      ],
      "execution_count": null,
      "outputs": []
    },
    {
      "cell_type": "markdown",
      "metadata": {
        "id": "HElFihnFUlzc"
      },
      "source": [
        "### Exercise 3"
      ]
    },
    {
      "cell_type": "markdown",
      "metadata": {
        "id": "INT8w_uYUlzd"
      },
      "source": [
        "Create a dictionary with 3 items of the form `{name, age}`, and write a code that prints the sentence “**name** is the oldest one, and his age is **age**”."
      ]
    },
    {
      "cell_type": "markdown",
      "metadata": {
        "id": "l6IUNxkaCQmV"
      },
      "source": [
        "#### Solution"
      ]
    },
    {
      "cell_type": "code",
      "metadata": {
        "id": "atXQmiGLCT_c"
      },
      "source": [
        "my_dict = {'Arthur': 34, 'Benjamin': 57, 'Carl': 42}\n",
        "\n",
        "my_keys = list(my_dict.keys())\n",
        "oldest = my_keys[0]\n",
        "if my_dict[my_keys[1]] > my_dict[oldest]:\n",
        "    oldest = my_keys[1]\n",
        "if my_dict[my_keys[2]] > my_dict[oldest]:\n",
        "    oldest = my_keys[2]\n",
        "\n",
        "print (\"The oldest guy is \" + oldest + \" and his age is \" + str(my_dict[oldest]))"
      ],
      "execution_count": null,
      "outputs": []
    },
    {
      "cell_type": "markdown",
      "metadata": {
        "id": "mOlZrxHcUlzf"
      },
      "source": [
        "# The `for` loop"
      ]
    },
    {
      "cell_type": "markdown",
      "metadata": {
        "id": "ugQnAgR1Ulzf"
      },
      "source": [
        "The _for_ loop enables to exeucte a specific block of code a predefined number of times, dictated by the **iterable** object on which the loop is running. Every repetition of the block of code is called **iteration**, and with each iteration the **iteration variable** is assigned a new value from the loop iterable."
      ]
    },
    {
      "cell_type": "markdown",
      "metadata": {
        "id": "P9ncoyrJUlzh"
      },
      "source": [
        "## Basic Examples"
      ]
    },
    {
      "cell_type": "code",
      "metadata": {
        "id": "DaJkBaPgUlzi"
      },
      "source": [
        "for i in [1, 2, 3, 4, 5]:\n",
        "    print(i)"
      ],
      "execution_count": null,
      "outputs": []
    },
    {
      "cell_type": "code",
      "metadata": {
        "id": "q9fejQcIUlzn"
      },
      "source": [
        "for num in [2.2, -0.6, 7.03]:\n",
        "    print(int(num**2), end=' ')"
      ],
      "execution_count": null,
      "outputs": []
    },
    {
      "cell_type": "markdown",
      "metadata": {
        "id": "4W78Wa-tIGmj"
      },
      "source": [
        "> **Note:** It is a convention that we call the iterable `i` if and only if it iterates integers. Otherwise we must use a different name!"
      ]
    },
    {
      "cell_type": "code",
      "metadata": {
        "id": "tzfnuFz7Ulzr"
      },
      "source": [
        "for name in ['Averbuch', 'Blumenfeld', 'Clementine']:\n",
        "    print(name, end=' ')"
      ],
      "execution_count": null,
      "outputs": []
    },
    {
      "cell_type": "code",
      "metadata": {
        "id": "49NzdFd1Ulzx"
      },
      "source": [
        "for name, age in [('Alexandra', 23), ('Belle', 28), ('Craig', 15)]:\n",
        "    print(name, \"is\", age, \"years old\")"
      ],
      "execution_count": null,
      "outputs": []
    },
    {
      "cell_type": "markdown",
      "metadata": {
        "id": "X_VwPlNkUl0L"
      },
      "source": [
        "> **Your turn:** Create a list of words called `words`, and then iterate it and for each word print the sentence \"The word _'word'_ has _x_ letters\". Do it in 2 ways: by iterating the words themselves and by iterating the index of the list."
      ]
    },
    {
      "cell_type": "markdown",
      "metadata": {
        "id": "g-3-QvfnGwsT"
      },
      "source": [
        "## The `range()` function"
      ]
    },
    {
      "cell_type": "markdown",
      "metadata": {
        "id": "9Q3URVGzG-Gh"
      },
      "source": [
        "[`range()`](https://docs.python.org/3/library/stdtypes.html#range) is a utility function which generates an iterable sequence of integers. The full syntax allows three inputs - `start`, `stop` & `step`, where the resulted iterable iterates from `start` to `stop` (not including) in steps of `step`."
      ]
    },
    {
      "cell_type": "code",
      "metadata": {
        "id": "bjJ-qVdbGziy"
      },
      "source": [
        "for i in range(9):\n",
        "    print(i, end=' ')"
      ],
      "execution_count": null,
      "outputs": []
    },
    {
      "cell_type": "code",
      "metadata": {
        "id": "bEjijR01IcyG"
      },
      "source": [
        "for i in range(3, 9):\n",
        "    print(i**2, end=' ')"
      ],
      "execution_count": null,
      "outputs": []
    },
    {
      "cell_type": "markdown",
      "metadata": {
        "id": "YdZT-GlxJiJZ"
      },
      "source": [
        "#### Example"
      ]
    },
    {
      "cell_type": "markdown",
      "metadata": {
        "id": "oz7Ga4iPJXVM"
      },
      "source": [
        "Find all the numbers from 11 to 999 which are made only from a single digit."
      ]
    },
    {
      "cell_type": "code",
      "metadata": {
        "id": "vuoVVwM_IjLF"
      },
      "source": [
        "for i in range(10, 1000):\n",
        "    if len(set(str(i))) == 1:\n",
        "        print(i, end=' ')"
      ],
      "execution_count": null,
      "outputs": []
    },
    {
      "cell_type": "markdown",
      "metadata": {
        "id": "xzxZByGhJkHA"
      },
      "source": [
        "#### Example"
      ]
    },
    {
      "cell_type": "markdown",
      "metadata": {
        "id": "TfL3yP-3Jl5Z"
      },
      "source": [
        "Find all the multiples of 7 from 1 to 100."
      ]
    },
    {
      "cell_type": "code",
      "metadata": {
        "id": "kH2JE0odI_zg"
      },
      "source": [
        "for i in range(7, 100, 7):\n",
        "    print(i, end=' ')"
      ],
      "execution_count": null,
      "outputs": []
    },
    {
      "cell_type": "markdown",
      "metadata": {
        "id": "jMYzwiN7J_R7"
      },
      "source": [
        "> **Discussion:** In Python we have **Iterables**, **Iterators** & **Generators**. `range()` does not return a simple list, but a generator, which is out of the scope of this course. For now, all we need to know about iterators and generators is that we can (1) iterate over them, and (2) see their content with `list()` (e.g. `nums = list(range(10))`."
      ]
    },
    {
      "cell_type": "markdown",
      "metadata": {
        "id": "lQXc_vhALVZW"
      },
      "source": [
        "> **Further reading:** More about generators can be found in [Python's Wiki page about generators](https://wiki.python.org/moin/Generators) and in [Programiz](https://www.programiz.com/python-programming/generator). If you are new to Python, I would wait until learning about functions... "
      ]
    },
    {
      "cell_type": "markdown",
      "metadata": {
        "id": "qZ6GdguXUlz6"
      },
      "source": [
        "## Initialization"
      ]
    },
    {
      "cell_type": "markdown",
      "metadata": {
        "id": "YO6v0CLmUlz7"
      },
      "source": [
        "Many times, each iteration will modify a common object, until finally the object will get its final form. If this is the case, then usually an initialization of the object and the relevant variables is necessary."
      ]
    },
    {
      "cell_type": "markdown",
      "metadata": {
        "id": "7ozV2qG-Ulz7"
      },
      "source": [
        "#### Example"
      ]
    },
    {
      "cell_type": "markdown",
      "metadata": {
        "id": "7PPCAA3eUlz8"
      },
      "source": [
        "Choose a number _n_ and find: <Br>\n",
        "* Part A - the sum of the numbers from 1 to n <br>\n",
        "* Part B - the sum of the numbers from 1 to n that are divisible by 3. <br>"
      ]
    },
    {
      "cell_type": "code",
      "metadata": {
        "id": "-GTTJMznUlz8"
      },
      "source": [
        "n = 100"
      ],
      "execution_count": null,
      "outputs": []
    },
    {
      "cell_type": "markdown",
      "metadata": {
        "id": "pWe5wdFoUlz_"
      },
      "source": [
        "##### Part A"
      ]
    },
    {
      "cell_type": "code",
      "metadata": {
        "id": "2l3NqN17Ul0A"
      },
      "source": [
        "# Initialization\n",
        "sum_all = 0\n",
        "# Iteration\n",
        "for i in range(1, n+1):\n",
        "    sum_all += i  # equivalent to \"sum_all = sum_all + i\"\n",
        "print (sum_all)"
      ],
      "execution_count": null,
      "outputs": []
    },
    {
      "cell_type": "markdown",
      "metadata": {
        "id": "I5vbakPwUl0C"
      },
      "source": [
        "##### Part B"
      ]
    },
    {
      "cell_type": "code",
      "metadata": {
        "id": "QX-ZbGKzUl0C"
      },
      "source": [
        "# %%timeit\n",
        "# Initialization\n",
        "sum_by_3 = 0\n",
        "# Iteration\n",
        "for i in range(1, n+1):\n",
        "    if i % 3 == 0:\n",
        "        sum_by_3 += i\n",
        "print (sum_by_3)"
      ],
      "execution_count": null,
      "outputs": []
    },
    {
      "cell_type": "markdown",
      "metadata": {
        "id": "mnKq_SpAUl0E"
      },
      "source": [
        "> **Your turn:** Improve the solution to part B by iterating only the relevant numbers."
      ]
    },
    {
      "cell_type": "markdown",
      "metadata": {
        "id": "q75-cGzDUl0W"
      },
      "source": [
        "## Everyting (almost) is iterable"
      ]
    },
    {
      "cell_type": "markdown",
      "metadata": {
        "id": "-MK_augHUl0W"
      },
      "source": [
        "The fact that `for`-loops in Python can iterate the actual elements of objects is very useful. In the examples below we see that nearly all the data types and data structures we know are actually iterables."
      ]
    },
    {
      "cell_type": "markdown",
      "metadata": {
        "id": "CamTJBd8Ul0X"
      },
      "source": [
        "#### Strings"
      ]
    },
    {
      "cell_type": "markdown",
      "metadata": {
        "id": "KoFCTaeGUl0Y"
      },
      "source": [
        "The iteration is done on the characters."
      ]
    },
    {
      "cell_type": "code",
      "metadata": {
        "id": "VHBhccu7Ul0Y"
      },
      "source": [
        "my_string = 'Beautiful'\n",
        "for ch in my_string:  # \"ch\" for \"character\"\n",
        "    print (ch, end= ' ')"
      ],
      "execution_count": null,
      "outputs": []
    },
    {
      "cell_type": "markdown",
      "metadata": {
        "id": "9pDR7sY6Ul0a"
      },
      "source": [
        "#### Lists"
      ]
    },
    {
      "cell_type": "markdown",
      "metadata": {
        "id": "hXqaMftaUl0b"
      },
      "source": [
        "The iteration is done on the elements in their native order."
      ]
    },
    {
      "cell_type": "code",
      "metadata": {
        "id": "EgMH4ebJUl0b"
      },
      "source": [
        "my_list = ['Apple', 'Banana', 'Carrot', 'Fig']\n",
        "for el in my_list:  # \"el\" for \"element\"\n",
        "    print (el, end= ' ')"
      ],
      "execution_count": null,
      "outputs": []
    },
    {
      "cell_type": "markdown",
      "metadata": {
        "id": "oQVMjbaLUl0e"
      },
      "source": [
        "These, of course, can be combined..."
      ]
    },
    {
      "cell_type": "code",
      "metadata": {
        "id": "w8zJpaILUl0e"
      },
      "source": [
        "my_list = ['Apple', 'Banana', 'Carrot', 'Fig']\n",
        "for el in my_list:  # \"el\" for \"element\"\n",
        "    for ch in el:\n",
        "        print (ch, end=' ')\n",
        "    print ('-->', end=' ')"
      ],
      "execution_count": null,
      "outputs": []
    },
    {
      "cell_type": "markdown",
      "metadata": {
        "id": "deKHd4vhUl0g"
      },
      "source": [
        "#### Tuples"
      ]
    },
    {
      "cell_type": "markdown",
      "metadata": {
        "id": "2Sd67RHjUl0h"
      },
      "source": [
        "Like all sequences before, the iteration is done on the elements in their native order."
      ]
    },
    {
      "cell_type": "code",
      "metadata": {
        "id": "y5oLslHWUl0h"
      },
      "source": [
        "my_tuple = tuple(my_list)\n",
        "for el in my_tuple:  # \"el\" for \"element\"\n",
        "    print (el, end=' ')"
      ],
      "execution_count": null,
      "outputs": []
    },
    {
      "cell_type": "markdown",
      "metadata": {
        "id": "wlguLjRAUl0k"
      },
      "source": [
        "#### Sets"
      ]
    },
    {
      "cell_type": "markdown",
      "metadata": {
        "id": "uT-bMIb1Ul0l"
      },
      "source": [
        "The iteration is done on the elements, and is **unordered**."
      ]
    },
    {
      "cell_type": "code",
      "metadata": {
        "id": "krUnksDpUl0l"
      },
      "source": [
        "my_set = set('Sets have no order and no duplication')\n",
        "for el in my_set:\n",
        "    print (el, end=' ')"
      ],
      "execution_count": null,
      "outputs": []
    },
    {
      "cell_type": "markdown",
      "metadata": {
        "id": "2_9vC_JyUl0n"
      },
      "source": [
        "#### Dictionaries"
      ]
    },
    {
      "cell_type": "markdown",
      "metadata": {
        "id": "kSBsc34aUl0o"
      },
      "source": [
        "The default iteration is through the keys"
      ]
    },
    {
      "cell_type": "code",
      "metadata": {
        "id": "aCrddbFrUl0p"
      },
      "source": [
        "my_dict = {'Avi': '12-Oct-1982', 'Betty': '7-Jun-1979',\n",
        "           'Carl': '31-Jan-1977', 'David': '15-Mar-1968'}"
      ],
      "execution_count": null,
      "outputs": []
    },
    {
      "cell_type": "code",
      "metadata": {
        "id": "lhwxGbvvUl0s"
      },
      "source": [
        "for name in my_dict:\n",
        "    print (name)"
      ],
      "execution_count": null,
      "outputs": []
    },
    {
      "cell_type": "markdown",
      "metadata": {
        "id": "fa3yJLY_Ul05"
      },
      "source": [
        "The iteration can also be performed through the **views** `keys()`,  `values()` and `items()`."
      ]
    },
    {
      "cell_type": "code",
      "metadata": {
        "id": "eLTyWwOSUl06"
      },
      "source": [
        "for key in my_dict.keys():\n",
        "    print (key)"
      ],
      "execution_count": null,
      "outputs": []
    },
    {
      "cell_type": "code",
      "metadata": {
        "id": "q5wCKHahUl0_"
      },
      "source": [
        "for val in my_dict.values():\n",
        "    print (val)"
      ],
      "execution_count": null,
      "outputs": []
    },
    {
      "cell_type": "code",
      "metadata": {
        "id": "zeobm49TUl1D"
      },
      "source": [
        "for item in my_dict.items():\n",
        "    print(item)"
      ],
      "execution_count": null,
      "outputs": []
    },
    {
      "cell_type": "code",
      "metadata": {
        "id": "EBQ2KpwVUl1F"
      },
      "source": [
        "for item in my_dict.items():\n",
        "    print (item[0], '\\t', item[1])"
      ],
      "execution_count": null,
      "outputs": []
    },
    {
      "cell_type": "markdown",
      "metadata": {
        "id": "PcPTT7iEUl1I"
      },
      "source": [
        "`dictionary.items()` generate a sequence of *tuples* in the form of (key, value). we can iterate over these tuples as in the example above, or we can **unpack** the tuples to different varaibles. This is another use-case where using unpacking make our code cleaner and easier to read."
      ]
    },
    {
      "cell_type": "code",
      "metadata": {
        "id": "q2r6mcn_Ul1J"
      },
      "source": [
        "for item in my_dict.items():\n",
        "    name, birthday = item\n",
        "    print (name, '\\t', birthday)"
      ],
      "execution_count": null,
      "outputs": []
    },
    {
      "cell_type": "markdown",
      "metadata": {
        "id": "-kZN3vzYUl1P"
      },
      "source": [
        "but we can also perform the unpacking inside the `for` loop and avoid unnecessary extra assignment"
      ]
    },
    {
      "cell_type": "code",
      "metadata": {
        "id": "3eaPoYuuUl1S"
      },
      "source": [
        "for name, birthday in my_dict.items():\n",
        "    print (name, '\\t', birthday)"
      ],
      "execution_count": null,
      "outputs": []
    },
    {
      "cell_type": "markdown",
      "metadata": {
        "id": "YdKMWASoUl1U"
      },
      "source": [
        "> **Further reading:** Although this technique is called \"tuple unpacking\", we can perform unpacking to any iterable object (such as lists). you can read more about tuple-unpacking in this [link][1]\n",
        "\n",
        "[1]: https://treyhunner.com/2018/03/tuple-unpacking-improves-python-code-readability/ \"tuple unpacking blog post\""
      ]
    },
    {
      "cell_type": "markdown",
      "metadata": {
        "id": "uTdelnoFUl1V"
      },
      "source": [
        "#### Example"
      ]
    },
    {
      "cell_type": "markdown",
      "metadata": {
        "id": "t6JuR8NkUl1W"
      },
      "source": [
        "Write a sentence, and create a dictionary `d_counter` of the form `{letter: count}`, where `count` is the number of times `letter` appears in the sentence.\n",
        "\n",
        "Notes:\n",
        "* Only letters that appear in the sentence should appear in the dictionary\n",
        "* Do not make a distinction between upper-case and lower-case letters (e.g. 'a' and 'A' should be \"grouped\").\n",
        "* Use the string method `isalpha()` to decide whether a character is a letter or not."
      ]
    },
    {
      "cell_type": "code",
      "metadata": {
        "id": "Mk78Gvb4Ul1W"
      },
      "source": [
        "sentence = \"God will forgive me. That's his job. (Heinrich Heine, 1797 - 1856)\""
      ],
      "execution_count": 4,
      "outputs": []
    },
    {
      "cell_type": "code",
      "metadata": {
        "id": "ED09qnicjtmJ"
      },
      "source": [
        "d_counter = {}\n",
        "lower_sentence = sentence.lower()\n",
        "characters = set(lower_sentence)\n",
        "for ch in characters:\n",
        "    if ch.isalpha():\n",
        "        d_counter[ch] = lower_sentence.count(ch)\n",
        "print(d_counter)"
      ],
      "execution_count": null,
      "outputs": []
    },
    {
      "cell_type": "markdown",
      "metadata": {
        "id": "LJk4kvksRNsh"
      },
      "source": [
        "> **Your turn:** Iterate the dictionary `d_counter` and answer the question which letter is the most frequent."
      ]
    },
    {
      "cell_type": "markdown",
      "metadata": {
        "id": "zSC0r6hbUmFo"
      },
      "source": [
        "> **Discussion:** It is not advised to change mutable object while iterating them. Consider what should be printed by the following script:\n",
        ">\n",
        "> ```python\n",
        "> lst = ['a', 'b', 'c', 'd', 'e', 'f']\n",
        "> for letter in lst:\n",
        ">     print(lst.pop())\n",
        "```"
      ]
    },
    {
      "cell_type": "markdown",
      "metadata": {
        "id": "x3VFpAskUhMP"
      },
      "source": [
        "## Exercises"
      ]
    },
    {
      "cell_type": "markdown",
      "metadata": {
        "id": "Y51alZL0Ul2L"
      },
      "source": [
        "### Exercise 1"
      ]
    },
    {
      "cell_type": "markdown",
      "metadata": {
        "id": "2jPuFohTUl2M"
      },
      "source": [
        "Write a sentence and count the number of times the letter ‘m’ appears in it using a for-loop."
      ]
    },
    {
      "cell_type": "markdown",
      "metadata": {
        "id": "rBMPlPwLWE8m"
      },
      "source": [
        "#### Solution"
      ]
    },
    {
      "cell_type": "code",
      "metadata": {
        "id": "cJvok3Tl-Dd5"
      },
      "source": [
        "sentence = \"This is my magnificent example.\"\n",
        "my_letter = 'm'"
      ],
      "execution_count": null,
      "outputs": []
    },
    {
      "cell_type": "code",
      "metadata": {
        "id": "3oTi10SW-Dd8"
      },
      "source": [
        "counter = 0\n",
        "for letter in sentence:\n",
        "    if letter == my_letter:\n",
        "        counter += 1\n",
        "print(counter)"
      ],
      "execution_count": null,
      "outputs": []
    },
    {
      "cell_type": "markdown",
      "metadata": {
        "id": "vR7LYHwhUl2P"
      },
      "source": [
        "### Exercise 2"
      ]
    },
    {
      "cell_type": "markdown",
      "metadata": {
        "id": "lay0IERmUl2Q"
      },
      "source": [
        "Write a sentence and do the following:\n",
        "\n",
        "1. Count how many vowels are in it, including repetitions (e.g. ‘abracadabra’ $\\rightarrow$ 5)\n",
        "2. Count how many vowels are in it, excluding repetitions (e.g. ‘abracadabra’ $\\rightarrow$ 1)\n",
        "3. Create a dictionary with items of the form {letter: number of occurrences}. Note that letters which are not in the sentence should not appear as keys in the dictionary."
      ]
    },
    {
      "cell_type": "markdown",
      "metadata": {
        "id": "9joIgUoGWOc9"
      },
      "source": [
        "#### Solution"
      ]
    },
    {
      "cell_type": "code",
      "metadata": {
        "id": "MgBpPefK-DeA"
      },
      "source": [
        "pangram = \"the quick brown fox jumps over the lazy dog\".lower()"
      ],
      "execution_count": null,
      "outputs": []
    },
    {
      "cell_type": "markdown",
      "metadata": {
        "id": "YhxyJbbMWiZa"
      },
      "source": [
        "> **Reference:** What is so special about the sentence [the quick brown fox jumps over the lazy dog](https://en.wikipedia.org/wiki/The_quick_brown_fox_jumps_over_the_lazy_dog)?"
      ]
    },
    {
      "cell_type": "markdown",
      "metadata": {
        "id": "6YvXFbX6-DeC"
      },
      "source": [
        "##### Part I"
      ]
    },
    {
      "cell_type": "code",
      "metadata": {
        "id": "HesGlker-DeD"
      },
      "source": [
        "counter = 0\n",
        "for x in 'aeiou':\n",
        "    counter += pangram.count(x)\n",
        "print (counter)"
      ],
      "execution_count": null,
      "outputs": []
    },
    {
      "cell_type": "markdown",
      "metadata": {
        "id": "MtSqAAoq-DeF"
      },
      "source": [
        "##### Part II"
      ]
    },
    {
      "cell_type": "code",
      "metadata": {
        "id": "wUZJZeQn-DeG"
      },
      "source": [
        "counter = 0\n",
        "for x in 'aeiou':\n",
        "    counter += x in pangram\n",
        "print (counter)"
      ],
      "execution_count": null,
      "outputs": []
    },
    {
      "cell_type": "markdown",
      "metadata": {
        "id": "6WRP56rB-DeI"
      },
      "source": [
        "> **Note:** The fact that Booleans can be summed as 0 and 1 saves an _if_ statement."
      ]
    },
    {
      "cell_type": "markdown",
      "metadata": {
        "id": "-VOfleK2-DeJ"
      },
      "source": [
        "##### Part III"
      ]
    },
    {
      "cell_type": "code",
      "metadata": {
        "id": "iFuzBIIQ-DeK"
      },
      "source": [
        "counter_dict = {}\n",
        "for ch in set(pangram):\n",
        "    if ch.isalpha():\n",
        "        counter_dict[ch] = pangram.count(ch)\n",
        "print(counter_dict)"
      ],
      "execution_count": null,
      "outputs": []
    },
    {
      "cell_type": "markdown",
      "metadata": {
        "id": "Ki_b-hytUl2Q"
      },
      "source": [
        "### Exercise 3"
      ]
    },
    {
      "cell_type": "markdown",
      "metadata": {
        "id": "lwymABA3Ul2Q"
      },
      "source": [
        "Write a code that reverses a given list, where…\n",
        "1.\tthe flipped list is a new list.\n",
        "2.\tthe flipping is done in-place. **(difficult)**"
      ]
    },
    {
      "cell_type": "markdown",
      "metadata": {
        "id": "5aQN11tG-DeU"
      },
      "source": [
        "#### Solution"
      ]
    },
    {
      "cell_type": "markdown",
      "metadata": {
        "id": "f42nWBmz-DeU"
      },
      "source": [
        "##### Part I"
      ]
    },
    {
      "cell_type": "code",
      "metadata": {
        "id": "WFaS0fnR-DeV"
      },
      "source": [
        "my_list = ['a', 'b', 'c', [], 1, 2, 3, {}, True, False]"
      ],
      "execution_count": null,
      "outputs": []
    },
    {
      "cell_type": "markdown",
      "metadata": {
        "id": "RM_Gmd-bXT93"
      },
      "source": [
        "###### Solution 1"
      ]
    },
    {
      "cell_type": "code",
      "metadata": {
        "id": "yV27ukNQ-DeY"
      },
      "source": [
        "flipped = []\n",
        "for el in my_list:\n",
        "    flipped.insert(0, el)\n",
        "#     print flipped\n",
        "print (flipped)"
      ],
      "execution_count": null,
      "outputs": []
    },
    {
      "cell_type": "markdown",
      "metadata": {
        "id": "dFiq_yxdXYAu"
      },
      "source": [
        "###### Solution 2"
      ]
    },
    {
      "cell_type": "code",
      "metadata": {
        "id": "4rr9PDSn-Dec",
        "outputId": "7ccf186d-12a2-488d-ca5a-94cbbb485f2e"
      },
      "source": [
        "flipped = []\n",
        "for i in range(len(my_list)):\n",
        "    flipped.append(my_list[len(my_list)-1-i])\n",
        "#     print flipped\n",
        "print (flipped)"
      ],
      "execution_count": null,
      "outputs": [
        {
          "output_type": "stream",
          "text": [
            "[False, True, {}, 3, 2, 1, [], 'c', 'b', 'a']\n"
          ],
          "name": "stdout"
        }
      ]
    },
    {
      "cell_type": "markdown",
      "metadata": {
        "id": "J7KT-VpN-Def"
      },
      "source": [
        "##### Part II"
      ]
    },
    {
      "cell_type": "markdown",
      "metadata": {
        "id": "LZhndFql-Deg"
      },
      "source": [
        "Note that this solution changes _my_\\__list_ during iterations, which is not advised."
      ]
    },
    {
      "cell_type": "code",
      "metadata": {
        "id": "zxAs8y4c-Deh"
      },
      "source": [
        "for i in range(len(my_list)):\n",
        "    my_list.insert(0, my_list.pop(i))\n",
        "print (my_list)"
      ],
      "execution_count": null,
      "outputs": []
    },
    {
      "cell_type": "markdown",
      "metadata": {
        "id": "xWALJXGFUl2S"
      },
      "source": [
        "### Exercise 4"
      ]
    },
    {
      "cell_type": "markdown",
      "metadata": {
        "id": "kq-6rrkCUl2S"
      },
      "source": [
        "1. Create a dictionary with 10 items of the form {name: age}.\n",
        "2. Calculate the average age of the guys on the dictionary.\n",
        "3. Remove from the dictionary all the guys below the average age."
      ]
    },
    {
      "cell_type": "markdown",
      "metadata": {
        "id": "XqUKsCUVXj4M"
      },
      "source": [
        "#### Solution"
      ]
    },
    {
      "cell_type": "code",
      "metadata": {
        "id": "uxEZFIkp-Del"
      },
      "source": [
        "tribes = {'Reuven': 23, 'Simeon': 34, 'Levi': 51, 'Judah': 36,\n",
        "          'Dan': 36, 'Naphtali': 25, 'Gad': 36, 'Asher': 27,\n",
        "          'Issachar': 41, 'Zebulun': 19, 'Joseph': 24, 'Benjamin': 28}"
      ],
      "execution_count": null,
      "outputs": []
    },
    {
      "cell_type": "markdown",
      "metadata": {
        "id": "q9SqjHpw-Den"
      },
      "source": [
        "##### Part I"
      ]
    },
    {
      "cell_type": "code",
      "metadata": {
        "id": "oWzkBmYu-Deo",
        "outputId": "080191d6-4928-44e9-9cb3-389ff1670627",
        "colab": {
          "base_uri": "https://localhost:8080/",
          "height": 35
        }
      },
      "source": [
        "sum_of_ages = 0.0 \n",
        "for age in tribes.values():\n",
        "    sum_of_ages += age\n",
        "average_age = sum_of_ages / len(tribes)\n",
        "print (average_age)"
      ],
      "execution_count": null,
      "outputs": [
        {
          "output_type": "stream",
          "text": [
            "39.0\n"
          ],
          "name": "stdout"
        }
      ]
    },
    {
      "cell_type": "markdown",
      "metadata": {
        "id": "bSkv9Rxc-Deq"
      },
      "source": [
        "##### Part II"
      ]
    },
    {
      "cell_type": "code",
      "metadata": {
        "id": "b1Szavq2-Der",
        "outputId": "f7625f4f-dbd9-4efc-ddbd-20c2ab70a3bd",
        "colab": {
          "base_uri": "https://localhost:8080/",
          "height": 35
        }
      },
      "source": [
        "to_remove = []\n",
        "for tribe, age in tribes.items():\n",
        "    if age < average_age:\n",
        "        to_remove.append(tribe)\n",
        "        \n",
        "for item in to_remove:\n",
        "    tribes.pop(item)\n",
        "\n",
        "print (tribes)"
      ],
      "execution_count": null,
      "outputs": [
        {
          "output_type": "stream",
          "text": [
            "{'Simeon': 34, 'Levi': 51, 'Judah': 36, 'Dan': 36, 'Gad': 36, 'Issachar': 41}\n"
          ],
          "name": "stdout"
        }
      ]
    },
    {
      "cell_type": "markdown",
      "metadata": {
        "id": "8PxskEMPUl2T"
      },
      "source": [
        "### Exercise 5"
      ]
    },
    {
      "cell_type": "markdown",
      "metadata": {
        "id": "FbNYzZaKUl2U"
      },
      "source": [
        "Summing the integers from 1 (1, 2, 3...), at which integer the sum will exceed 1000?\n",
        "\n",
        "> Can you answer the question without unnecessary printouts. **(difficult)**"
      ]
    },
    {
      "cell_type": "markdown",
      "metadata": {
        "id": "5VRhXQJO-Dev"
      },
      "source": [
        "#### Solution"
      ]
    },
    {
      "cell_type": "markdown",
      "metadata": {
        "id": "GXSpoinI-Dew"
      },
      "source": [
        "##### Part I"
      ]
    },
    {
      "cell_type": "code",
      "metadata": {
        "id": "L1fxHATE-Dex"
      },
      "source": [
        "sum_of_nums = 0\n",
        "for i in range(1, 50):\n",
        "    sum_of_nums += i\n",
        "    if sum_of_nums > 1000:\n",
        "        print (\"The number is\", i)"
      ],
      "execution_count": null,
      "outputs": []
    },
    {
      "cell_type": "markdown",
      "metadata": {
        "id": "yIZF4STu-De0"
      },
      "source": [
        "##### Part II"
      ]
    },
    {
      "cell_type": "markdown",
      "metadata": {
        "id": "zR5g0U3--De1"
      },
      "source": [
        "We can use a Boolean **flag** to indicate when there is no need for further printing."
      ]
    },
    {
      "cell_type": "code",
      "metadata": {
        "id": "nQ_Bsc6S-De2"
      },
      "source": [
        "sum_of_nums = 0\n",
        "reached = False\n",
        "for i in range(1, 100):\n",
        "    if sum_of_nums < 1000:\n",
        "        sum_of_nums += i\n",
        "    elif sum_of_nums > 1000 and not reached:\n",
        "        print (\"The number is\", i-1)\n",
        "        reached = True"
      ],
      "execution_count": null,
      "outputs": []
    },
    {
      "cell_type": "markdown",
      "metadata": {
        "id": "dleUW3tY58sJ"
      },
      "source": [
        "### Exercise 6"
      ]
    },
    {
      "cell_type": "markdown",
      "metadata": {
        "id": "illgx7zh6Anj"
      },
      "source": [
        "There are $n<200$ houses in the street, and the sum of the numbers below the $k$-th house is equal to the sum of numbers above it. How many houses are in the street? Can you find it without Python?"
      ]
    },
    {
      "cell_type": "markdown",
      "metadata": {
        "id": "ZteuQkFH6Bpv"
      },
      "source": [
        "#### Solution"
      ]
    },
    {
      "cell_type": "code",
      "metadata": {
        "id": "x_CMLxG_6DA_"
      },
      "source": [
        "for n_houses in range(2, 200):\n",
        "    for k in range(1, n_houses):\n",
        "        if sum(range(1, k)) == sum(range(k+1, n_houses)):\n",
        "            print(k, n_houses)"
      ],
      "execution_count": null,
      "outputs": []
    },
    {
      "cell_type": "markdown",
      "metadata": {
        "id": "8veh-O8jUl2X"
      },
      "source": [
        "# List comprehension"
      ]
    },
    {
      "cell_type": "markdown",
      "metadata": {
        "id": "oHbIE8DpUl2X"
      },
      "source": [
        "The combined utilization of lists and _for_ loops is so common, that there is a special syntax for it called **list comprehension**. This syntax is never mandatory, but it is so simple and clean, that it became a standard for Python code writing, and it is definitely a sign of coding maturity."
      ]
    },
    {
      "cell_type": "markdown",
      "metadata": {
        "id": "788WSowTUl2Y"
      },
      "source": [
        "### Basic approach"
      ]
    },
    {
      "cell_type": "markdown",
      "metadata": {
        "id": "tNwcNpEsUl2Y"
      },
      "source": [
        "In short - list comprehension is a compact way for creating a list from another list. It aimes to save some of the standard syntax and some of the lines and to yield a one-liner readible code. The syntax for creating _list2_ from _list1_ is `list2 = [ f(x) for x in list1 ]`, and the proper way to \"read\" this line is: **\"For every element *x* in _list1_, apply the function *f* to _x_ and append the result to *list2*\"**."
      ]
    },
    {
      "cell_type": "markdown",
      "metadata": {
        "id": "b4nZ4zTlUl2Z"
      },
      "source": [
        "#### Illustration"
      ]
    },
    {
      "cell_type": "markdown",
      "metadata": {
        "id": "vfWVsFFjUl2Z"
      },
      "source": [
        "We wish to make a list of all the squares (1, 4, 9, 16...) up to $10^{2}=100$. We are talking about making a new list of values from the list `range(1, 11)`, so list comprehension is very suitable here. Let's compare the standard syntax with the syntax of list comprehension."
      ]
    },
    {
      "cell_type": "code",
      "metadata": {
        "id": "gua47ebkUl2a"
      },
      "source": [
        "squares = []\n",
        "for i in range(1, 11):\n",
        "    squares.append(i ** 2)\n",
        "print(squares)"
      ],
      "execution_count": null,
      "outputs": []
    },
    {
      "cell_type": "markdown",
      "metadata": {
        "id": "w8LplCucUl2b"
      },
      "source": [
        "While the iterating is still visible (`for...in`), The initialization and appending are done internally."
      ]
    },
    {
      "cell_type": "code",
      "metadata": {
        "id": "fgd2JQHZUl2f"
      },
      "source": [
        "squares = [i**2 for i in range(1,11)]\n",
        "print(squares)"
      ],
      "execution_count": null,
      "outputs": []
    },
    {
      "cell_type": "markdown",
      "metadata": {
        "id": "YXDfHYdCUl2h"
      },
      "source": [
        "### Adding conditioning"
      ]
    },
    {
      "cell_type": "markdown",
      "metadata": {
        "id": "b3NlL77BUl2h"
      },
      "source": [
        "Another feature of the list comprehension syntax is the conditioning, which allows to apply the function `f()` and to append the result to `list2` only if a specific condition `cond()` is fulfilled. The syntax for this is an extension of the syntax above: `list2 = [f(x) for x in list1 if cond(x)]`"
      ]
    },
    {
      "cell_type": "markdown",
      "metadata": {
        "id": "KgU1TxeYUl2h"
      },
      "source": [
        "#### Illustration"
      ]
    },
    {
      "cell_type": "markdown",
      "metadata": {
        "id": "nr0Arjp3Ul2i"
      },
      "source": [
        "Repeat example 1, but include only the squares of the odd numbers. Again, we compare both syntaxes."
      ]
    },
    {
      "cell_type": "code",
      "metadata": {
        "id": "fqkZYvxEUl2i"
      },
      "source": [
        "squares = []\n",
        "for i in range(1, 11):\n",
        "    if i % 2 == 1:\n",
        "        squares.append(i ** 2)\n",
        "print(squares)"
      ],
      "execution_count": null,
      "outputs": []
    },
    {
      "cell_type": "code",
      "metadata": {
        "id": "8YLdIcH3Ul2j"
      },
      "source": [
        "print([i**2 for i in range(1, 11) if i % 2 == 1])"
      ],
      "execution_count": null,
      "outputs": []
    },
    {
      "cell_type": "markdown",
      "metadata": {
        "id": "w8RflKy-Ul2k"
      },
      "source": [
        "#### Example"
      ]
    },
    {
      "cell_type": "markdown",
      "metadata": {
        "id": "aRSX4YwaUl2k"
      },
      "source": [
        "* Part I - For a given number, create the list of its divisors.\n",
        "* Part II - Create a dictionary of the form {i, divisors} for all numbers from 1 to 10.\n",
        "* Part III - Create a list of all the numbers from 1 to 10 that have exactly 4 divisors."
      ]
    },
    {
      "cell_type": "markdown",
      "metadata": {
        "id": "xEo0QM0RUl2l"
      },
      "source": [
        "##### Part I"
      ]
    },
    {
      "cell_type": "code",
      "metadata": {
        "id": "DESJtROtUl2l"
      },
      "source": [
        "N = 10\n",
        "div_list = [d for d in range(1, N+1) if N % d == 0]\n",
        "print (div_list)"
      ],
      "execution_count": null,
      "outputs": []
    },
    {
      "cell_type": "markdown",
      "metadata": {
        "id": "GJuE9SWcUl2m"
      },
      "source": [
        "##### Part II"
      ]
    },
    {
      "cell_type": "code",
      "metadata": {
        "id": "1FCJPRkoUl2m"
      },
      "source": [
        "div_dict = {}\n",
        "for n in range(1, N+1):\n",
        "    div_dict[n] = [d for d in range(1, n+1) if n % d == 0]\n",
        "div_dict"
      ],
      "execution_count": null,
      "outputs": []
    },
    {
      "cell_type": "markdown",
      "metadata": {
        "id": "5Tjp7rk9Ul2n"
      },
      "source": [
        "##### Part III"
      ]
    },
    {
      "cell_type": "code",
      "metadata": {
        "id": "GQhzxZm4Ul2n"
      },
      "source": [
        "[i for i, i_divs in div_dict.items() if len(i_divs) == 4]"
      ],
      "execution_count": null,
      "outputs": []
    },
    {
      "cell_type": "markdown",
      "metadata": {
        "id": "9YtkgTqOeXyB"
      },
      "source": [
        "> **Your turn:** Create a list of \"random\" words, and then use list comprehension to create a list of all the words that contain at least one letter more than once (e.g. dad, mummy, ~car~, roar, ~israel~)."
      ]
    },
    {
      "cell_type": "markdown",
      "metadata": {
        "id": "8HbP-sVhUl2r"
      },
      "source": [
        "> **Further reading:** Dictionary comprehension and Set comprehension are also supported with intuitive syntax as illustrated below. More about that can be found at the [official Python docs about data structures](https://docs.python.org/3/tutorial/datastructures.html).\n",
        ">\n",
        "> ```python\n",
        "sentence = \"God will forgive me. That's his job. (Heinrich Heine)\"\n",
        "counter = {ch: sentence.lower().count(ch) for ch in sentence}\n",
        "letters = {ch for ch in sentence.lower() if ch.isalpha()}\n",
        "```"
      ]
    },
    {
      "cell_type": "markdown",
      "metadata": {
        "id": "5sT81-ZReP3m"
      },
      "source": [
        "## Exercises"
      ]
    },
    {
      "cell_type": "markdown",
      "metadata": {
        "id": "PMJKJ_hDUl2p"
      },
      "source": [
        "### Exercise 1"
      ]
    },
    {
      "cell_type": "markdown",
      "metadata": {
        "id": "eyff7F8zUl2p"
      },
      "source": [
        "Write a sentence and count the number of times the letter ‘m’ appears in it using a for-loop."
      ]
    },
    {
      "cell_type": "markdown",
      "metadata": {
        "id": "rWCzH0Pv4ILm"
      },
      "source": [
        "#### Solution"
      ]
    },
    {
      "cell_type": "code",
      "metadata": {
        "id": "gIqov9-m-De9"
      },
      "source": [
        "sentence = \"This is my magnificent example.\"\n",
        "my_letter = 'm'"
      ],
      "execution_count": null,
      "outputs": []
    },
    {
      "cell_type": "code",
      "metadata": {
        "id": "TUrMwS1a-De_",
        "outputId": "38286076-dc18-477c-c335-d5059ea2d1c9"
      },
      "source": [
        "print (len([letter for letter in sentence if letter == my_letter]))"
      ],
      "execution_count": null,
      "outputs": [
        {
          "output_type": "stream",
          "text": [
            "3\n"
          ],
          "name": "stdout"
        }
      ]
    },
    {
      "cell_type": "markdown",
      "metadata": {
        "id": "C8_TSM01Ul2q"
      },
      "source": [
        "### Exercise 2"
      ]
    },
    {
      "cell_type": "markdown",
      "metadata": {
        "id": "4_ssle5RUl2q"
      },
      "source": [
        "Create a list of 10 words.\n",
        "\n",
        "1. Create a list of the lengths of the words.\n",
        "2. Create a list of the words which have more than 4 letters."
      ]
    },
    {
      "cell_type": "markdown",
      "metadata": {
        "id": "rb8cCYME4NJl"
      },
      "source": [
        "#### Solution"
      ]
    },
    {
      "cell_type": "code",
      "metadata": {
        "id": "e-UqkoKe-DfC"
      },
      "source": [
        "sentence_string = \"An investment in knowledge pays the best interest (Benjamin Franklin)\"\n",
        "sentence_list = sentence_string.split()"
      ],
      "execution_count": null,
      "outputs": []
    },
    {
      "cell_type": "markdown",
      "metadata": {
        "id": "tromvJfl-DfH"
      },
      "source": [
        "##### Part I"
      ]
    },
    {
      "cell_type": "code",
      "metadata": {
        "id": "hJqARzvt-DfI",
        "outputId": "21abde7c-0345-4f25-c287-db476697617e"
      },
      "source": [
        "print ([len(word) for word in sentence_list])"
      ],
      "execution_count": null,
      "outputs": [
        {
          "output_type": "stream",
          "text": [
            "[2, 10, 2, 9, 4, 3, 4, 8, 9, 9]\n"
          ],
          "name": "stdout"
        }
      ]
    },
    {
      "cell_type": "markdown",
      "metadata": {
        "id": "WV91_AbD-DfL"
      },
      "source": [
        "##### Part II"
      ]
    },
    {
      "cell_type": "code",
      "metadata": {
        "id": "5c2qB336-DfO",
        "outputId": "069654c0-a37d-4cf0-fd08-454a3d098fd0"
      },
      "source": [
        "print ([word for word in sentence_list if len(word)>=4])"
      ],
      "execution_count": null,
      "outputs": [
        {
          "output_type": "stream",
          "text": [
            "['investment', 'knowledge', 'pays', 'best', 'interest', '(Benjamin', 'Franklin)']\n"
          ],
          "name": "stdout"
        }
      ]
    },
    {
      "cell_type": "markdown",
      "metadata": {
        "id": "kUTajvWzUl2q"
      },
      "source": [
        "### Exercise 3"
      ]
    },
    {
      "cell_type": "markdown",
      "metadata": {
        "id": "HWRDgLJdUl2q"
      },
      "source": [
        "Write a code that reverses a given list, where…\n",
        "\n",
        "1. the flipped list is a new list.\n",
        "2. the flipping is done in-place. **(difficult)**"
      ]
    },
    {
      "cell_type": "markdown",
      "metadata": {
        "id": "O2_qmGNh4Z8P"
      },
      "source": [
        "#### Solution"
      ]
    },
    {
      "cell_type": "markdown",
      "metadata": {
        "id": "poqFj-I7-DfU"
      },
      "source": [
        "##### Part I - new list"
      ]
    },
    {
      "cell_type": "code",
      "metadata": {
        "id": "HJCuvsuJ-DfU"
      },
      "source": [
        "my_list = ['a', 'b', 'c', [], 1, 2, 3, {}, True, False]\n",
        "\n",
        "N = len(my_list)\n",
        "flipped = [my_list[N-i] for i in range(1, N+1)]\n",
        "print (flipped)"
      ],
      "execution_count": null,
      "outputs": []
    },
    {
      "cell_type": "markdown",
      "metadata": {
        "id": "yspyt2u4-DfX"
      },
      "source": [
        "##### Part II - in-place"
      ]
    },
    {
      "cell_type": "code",
      "metadata": {
        "id": "M_89Qdau-DfY"
      },
      "source": [
        "my_list = ['a', 'b', 'c', [], 1, 2, 3, {}, True, False]\n",
        "\n",
        "[my_list.insert(0, my_list.pop(i)) for i in range(len(my_list))]\n",
        "print (my_list)"
      ],
      "execution_count": null,
      "outputs": []
    },
    {
      "cell_type": "markdown",
      "metadata": {
        "id": "3nhJ2ShsUl2y"
      },
      "source": [
        "# The _while_ loop"
      ]
    },
    {
      "cell_type": "markdown",
      "metadata": {
        "id": "OUGFNE2rUl2z"
      },
      "source": [
        "The `while` statement executes a block of code as long as a specified **iteration condition** is fulfilled. Unlike the `for` loop, it does not utilize an iteration variable, but rather depends on the results during the execution of the code, which may change the truth value of the iteration condition. The `while` loop is specifically useful when the theoretical number of iterations is infinite or unknown.\n",
        "\n",
        "It is very often a confusing matter to apply the `while` loop properly, and below are some things to consider when implementing such a loop:\n",
        "\n",
        "* The \"testing\" of the iteration condition happens `before` any iteration is executed. That includes the first iteration.\n",
        "* If nothing is changed inside the loop, then the condition will never be fulfilled, and the loop will run infinitely.\n",
        "* One of the vulnerabilities of `while` loops are the **edge cases**. Deal with them carefully."
      ]
    },
    {
      "cell_type": "markdown",
      "metadata": {
        "id": "sMkQnUNiUl2z"
      },
      "source": [
        "### Example"
      ]
    },
    {
      "cell_type": "markdown",
      "metadata": {
        "id": "_2VHvUXVUl20"
      },
      "source": [
        "Find the first number to have exactly 20 divisors."
      ]
    },
    {
      "cell_type": "code",
      "metadata": {
        "id": "uLuQMQ5MUl20"
      },
      "source": [
        "n = 0\n",
        "n_divs = 0\n",
        "while n_divs != 20:\n",
        "    n += 1\n",
        "    n_divs = len([d for d in range(1, n+1) if n % d == 0])\n",
        "print (n)"
      ],
      "execution_count": null,
      "outputs": []
    },
    {
      "cell_type": "markdown",
      "metadata": {
        "id": "pmTG8DyYUl22"
      },
      "source": [
        "> **Discussion:** The order of actions is very important within the `while` loop due to the edge cases. In the example above, if the two lines of the iteration block are flipped, the result is wrong."
      ]
    },
    {
      "cell_type": "markdown",
      "metadata": {
        "id": "7OKO0gio74B_"
      },
      "source": [
        "> **Your turn:** Find the third number to have exactly 20 divisors."
      ]
    },
    {
      "cell_type": "markdown",
      "metadata": {
        "id": "3OgBUfIN7r9m"
      },
      "source": [
        "## Exercises"
      ]
    },
    {
      "cell_type": "markdown",
      "metadata": {
        "id": "O0xWc4xlUl3C"
      },
      "source": [
        "### Exercise 1"
      ]
    },
    {
      "cell_type": "markdown",
      "metadata": {
        "id": "uSAutLE5Ul3C"
      },
      "source": [
        "Summing the integers from 1 (1, 2, 3...), at which integer the sum will exceed 1000?"
      ]
    },
    {
      "cell_type": "markdown",
      "metadata": {
        "id": "qaBg9BuL--fW"
      },
      "source": [
        "#### Solution"
      ]
    },
    {
      "cell_type": "code",
      "metadata": {
        "id": "CTNURFq4AGf4"
      },
      "source": [
        "i = 0\n",
        "sum_of_nums = 0\n",
        "while sum_of_nums <= 1000:\n",
        "    i += 1\n",
        "    sum_of_nums += i\n",
        "print (\"The number is\", i)"
      ],
      "execution_count": null,
      "outputs": []
    },
    {
      "cell_type": "markdown",
      "metadata": {
        "id": "UCSV5ugFUl3D"
      },
      "source": [
        "# Skipping iterations"
      ]
    },
    {
      "cell_type": "markdown",
      "metadata": {
        "id": "7lO8o6WyUl3D"
      },
      "source": [
        "There are situations in which you wish to skip an iteration or even completely terminate the loop, and this behavior can be achieved by two special words:\n",
        "\n",
        "* **continue** will quit the current iteration and start the next one.\n",
        "* **break** will terminate the entire loop and proceed with the outer code execution.\n",
        "\n",
        "The following should be noted for both statements:\n",
        "\n",
        "* They are applicable only within a _for_- or a _while_-loop. Otherwise an error will be raised.\n",
        "* They refer only to the inner-most loop in which they are called.\n",
        "* They can be used within infinte loops as well"
      ]
    },
    {
      "cell_type": "markdown",
      "metadata": {
        "id": "d0dQCw1AUl3D"
      },
      "source": [
        "### Basic examples"
      ]
    },
    {
      "cell_type": "markdown",
      "metadata": {
        "id": "uxRIqVJrUl3D"
      },
      "source": [
        "The following code will print the letters of the word 'Python' which are not vowels."
      ]
    },
    {
      "cell_type": "code",
      "metadata": {
        "id": "SqpZrG7OUl3E"
      },
      "source": [
        "for letter in \"Python\":\n",
        "    if letter in 'aeiou':\n",
        "        continue\n",
        "    print (letter, end=' ')"
      ],
      "execution_count": null,
      "outputs": []
    },
    {
      "cell_type": "markdown",
      "metadata": {
        "id": "lBqupCMvUl3E"
      },
      "source": [
        "The following code will print the letters of the word 'Python' **until** it reaches a vowel."
      ]
    },
    {
      "cell_type": "code",
      "metadata": {
        "id": "4rIEo-VNUl3F"
      },
      "source": [
        "for letter in \"Python\":\n",
        "    if letter in 'aeiou':\n",
        "        break\n",
        "    print (letter, end=' ')"
      ],
      "execution_count": null,
      "outputs": []
    },
    {
      "cell_type": "markdown",
      "metadata": {
        "id": "AlDoZeAXUl3G"
      },
      "source": [
        "The following code will do the following for each word in the sentence:\n",
        "\n",
        "* If the letter 'r' is in the word, it will do nothing\n",
        "* If the letter 'r' is not in the word, then letters of the word will be printed until the letter 'n' (if exists), and then it will show the original word."
      ]
    },
    {
      "cell_type": "code",
      "metadata": {
        "id": "CcjboSfpUl3G"
      },
      "source": [
        "sentence = \"Continue and break are useful\"\n",
        "for word in sentence.split():\n",
        "    if 'r' in word:\n",
        "        continue\n",
        "    for letter in word:\n",
        "        if letter == 'n':\n",
        "            break\n",
        "        print (letter, end=' ')\n",
        "    print (\"-\", word)"
      ],
      "execution_count": null,
      "outputs": []
    },
    {
      "cell_type": "markdown",
      "metadata": {
        "id": "wMxGbCB3Ul3H"
      },
      "source": [
        "### Example"
      ]
    },
    {
      "cell_type": "markdown",
      "metadata": {
        "id": "1e0K9ox-Ul3H"
      },
      "source": [
        "Make the list of all the numbers between 1 and 1000 that are divisible by **all of** 6, 15 & 35."
      ]
    },
    {
      "cell_type": "code",
      "metadata": {
        "id": "JPirNtRgUl3I"
      },
      "source": [
        "good_numbers = []\n",
        "for i in range(1, 1001):\n",
        "    if i % 6 != 0:\n",
        "        continue\n",
        "    if i % 15 != 0:\n",
        "        continue\n",
        "    if i % 35 != 0:\n",
        "        continue\n",
        "    # if you made it to here,\n",
        "    # then you are divisible by all the numbers\n",
        "    good_numbers.append(i)\n",
        "print (good_numbers)"
      ],
      "execution_count": null,
      "outputs": []
    },
    {
      "cell_type": "markdown",
      "metadata": {
        "id": "gppvZx6d8nug"
      },
      "source": [
        "> **Your turn:** Find all the numbers between 1 and 100 that are divisible by **at least one of** 6, 15 & 35."
      ]
    },
    {
      "cell_type": "markdown",
      "metadata": {
        "id": "4xadTPH_80lK"
      },
      "source": [
        "> **Your turn (bonus):** All the numbers between 1 and 100 that are divisible by **exactly one of** 6, 15 & 35."
      ]
    },
    {
      "cell_type": "markdown",
      "metadata": {
        "id": "HdbRL7oKUl3Q"
      },
      "source": [
        "### Grand example"
      ]
    },
    {
      "cell_type": "markdown",
      "metadata": {
        "id": "DGFAfHgwUl3Q"
      },
      "source": [
        "Find a solution to the following verbal arithmetic puzzle, in which every letter stands for a different digit from 1 to 9:\n",
        "<center>$\\frac{ABCD}{EFGHI}=\\frac{1}{3}$</center>"
      ]
    },
    {
      "cell_type": "markdown",
      "metadata": {
        "id": "opZ1LI7C91WZ"
      },
      "source": [
        "> **Reference:** This puzzle is puzzle #88 in [Henry Dudeney's fantastic *Amusements in Mathematics*](http://djm.cc/library/Amusements_in_Mathematics_Dudeney_edited02.pdf) from 1917. All the puzzles from this chapter (entitled Digital Puzzles) can be easily solved with Python."
      ]
    },
    {
      "cell_type": "code",
      "metadata": {
        "id": "NudkFR5VUl3Q"
      },
      "source": [
        "frac = 1.0/3\n",
        "found = False\n",
        "for numerator in range(1234, 10000):\n",
        "    if '0' in str(numerator):\n",
        "        continue\n",
        "    if len(set(str(numerator))) < 4:\n",
        "        continue\n",
        "    for denominator in range(12345, 98765):\n",
        "        if '0' in str(denominator):\n",
        "            continue\n",
        "        if len(set(str(numerator) + str(denominator))) < 9:\n",
        "            continue\n",
        "        if float(numerator) / denominator == frac:\n",
        "            found = True\n",
        "            break\n",
        "    if found:\n",
        "        break\n",
        "print (numerator, \"/\", denominator, \"=\", frac)"
      ],
      "execution_count": null,
      "outputs": []
    },
    {
      "cell_type": "markdown",
      "metadata": {
        "id": "OBXBmp51-5xb"
      },
      "source": [
        "## Exercises"
      ]
    },
    {
      "cell_type": "markdown",
      "metadata": {
        "id": "hCugWWDbUl3X"
      },
      "source": [
        "### Exercise 1"
      ]
    },
    {
      "cell_type": "markdown",
      "metadata": {
        "id": "Sf9PNFklUl3X"
      },
      "source": [
        "Summing the integers from 1 (1, 2, 3...), at which integer the sum will exceed 1000?"
      ]
    },
    {
      "cell_type": "markdown",
      "metadata": {
        "id": "CVyRKJr5AV78"
      },
      "source": [
        "#### Solution"
      ]
    },
    {
      "cell_type": "code",
      "metadata": {
        "id": "Fn3W7JKuAZV0"
      },
      "source": [
        "sum_of_nums = 0\n",
        "for i in range(1, 100):\n",
        "    sum_of_nums += i\n",
        "    if sum_of_nums > 1000:\n",
        "        print (\"The number is\", i)\n",
        "        break"
      ],
      "execution_count": null,
      "outputs": []
    },
    {
      "cell_type": "markdown",
      "metadata": {
        "id": "S-QrGuQnOlZh"
      },
      "source": [
        "### Exercise 2"
      ]
    },
    {
      "cell_type": "markdown",
      "metadata": {
        "id": "BoooKWpUOpSZ"
      },
      "source": [
        "*   Create 2 variable- lower,upper.\n",
        "*   Please calculate all the prime numbers between these 2 numbers\n",
        "\n"
      ]
    },
    {
      "cell_type": "markdown",
      "metadata": {
        "id": "pmCcZIGKO7Ap"
      },
      "source": [
        "#### Solution"
      ]
    },
    {
      "cell_type": "code",
      "metadata": {
        "id": "g_7CK0qRjUVG"
      },
      "source": [
        "lower = 900\n",
        "upper = 1000\n",
        "\n",
        "print(\"Prime numbers between\", lower, \"and\", upper, \"are:\")\n",
        "\n",
        "for num in range(lower, upper + 1):\n",
        "   # all prime numbers are greater than 1\n",
        "   if num > 1:\n",
        "       for i in range(2, num):\n",
        "           if (num % i) == 0:\n",
        "               break\n",
        "       else:\n",
        "           print(num)"
      ],
      "execution_count": null,
      "outputs": []
    }
  ]
}