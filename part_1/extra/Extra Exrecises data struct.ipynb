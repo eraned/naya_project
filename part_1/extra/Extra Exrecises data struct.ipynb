{
 "cells": [
  {
   "cell_type": "markdown",
   "metadata": {
    "id": "h1D-X57jtltP"
   },
   "source": [
    "# Extra Exrecises"
   ]
  },
  {
   "cell_type": "markdown",
   "metadata": {
    "id": "6it7ahVdJk7T"
   },
   "source": [
    "# List"
   ]
  },
  {
   "cell_type": "markdown",
   "metadata": {
    "id": "Z0DuFLGOuDEL"
   },
   "source": [
    "## Exercise 1"
   ]
  },
  {
   "cell_type": "markdown",
   "metadata": {
    "id": "uJsmrU3vuILN"
   },
   "source": [
    "\n",
    "\n",
    "1.   Write a Python program to get the smallest number from a list.\n",
    "2.   Write a Python program to get the largest number from a list.\n",
    "3. Write a Python program to sum all the items in a list.\n",
    "4. Write a Python program to average all the items in a list.\n",
    "\n",
    "\n",
    "\n",
    "```\n",
    "nums= [2,12,22,14,5,6,8,13]\n",
    "```\n",
    "\n"
   ]
  },
  {
   "cell_type": "markdown",
   "metadata": {
    "id": "ozkpFDEtwefq"
   },
   "source": [
    "## Exercise 2"
   ]
  },
  {
   "cell_type": "markdown",
   "metadata": {
    "id": "ArjTkF79wclU"
   },
   "source": [
    "Write a Python program to print a specified list after removing the 0th, 1th and 3th elements."
   ]
  },
  {
   "cell_type": "code",
   "execution_count": 19,
   "metadata": {
    "id": "Pq8XOV-kxFk_"
   },
   "outputs": [],
   "source": [
    "list_value = ['Avi','Dani','Moshe','Ran','Arie','Dima','Shay','Eli']"
   ]
  },
  {
   "cell_type": "markdown",
   "metadata": {
    "id": "kbNma1oHMCVN"
   },
   "source": [
    "# Tuple"
   ]
  },
  {
   "cell_type": "markdown",
   "metadata": {
    "id": "7DI8YqaTMQ8e"
   },
   "source": [
    "## Exercise 1"
   ]
  },
  {
   "cell_type": "markdown",
   "metadata": {
    "id": "BcLA4cjYMTy1"
   },
   "source": [
    "\n",
    "\n",
    "\n",
    "1.   Write a Python script to create a tuple with different data types, your age and your name in lowercase.\n",
    "2.   add to age in tuple 1 year.\n",
    "3. add to tuple your contry in lowercase.\n",
    "4. print the tuple\n",
    "5. replace the first letter in county ,name to uppercase.\n",
    "6. print the tuple.\n"
   ]
  },
  {
   "cell_type": "markdown",
   "metadata": {
    "id": "fiodjglrN5vO"
   },
   "source": [
    "## Exercise 2"
   ]
  },
  {
   "cell_type": "markdown",
   "metadata": {
    "id": "WJlV5v_ROrMB"
   },
   "source": [
    "1. Create tuple with 6 cities in Israel.\n",
    "2. Remove the 3th from the tuple\n",
    "3. Remove the last value from the tuple"
   ]
  },
  {
   "cell_type": "markdown",
   "metadata": {
    "id": "t4y_5RtsPHmK"
   },
   "source": [
    "# Dictionary"
   ]
  },
  {
   "cell_type": "markdown",
   "metadata": {
    "id": "xdfaPN4SPPDg"
   },
   "source": [
    "## Exercise 1"
   ]
  },
  {
   "cell_type": "markdown",
   "metadata": {
    "id": "qnJsCVdiP6Je"
   },
   "source": [
    "1. Add tyler to students list\n",
    "2. add grade for Lloyd in tests 95.0\n",
    "3. remove for Lloyd the 0th test in tests.\n",
    "4. what is the avg. in tests for any student?\n",
    "5. what is the max grade in homework for Alice Student?\n",
    "6. what is thw max grade in homework for all students?"
   ]
  },
  {
   "cell_type": "code",
   "execution_count": 20,
   "metadata": {
    "id": "0PLrkUkaP5il"
   },
   "outputs": [],
   "source": [
    "Students = [ {\n",
    "  \"name\": \"Lloyd\",\n",
    "  \"homework\": [90.0,97.0,75.0,92.0],\n",
    "  \"quizzes\": [88.0,40.0,94.0],\n",
    "  \"tests\": [75.0,90.0]\n",
    "},\n",
    "{\n",
    "  \"name\": \"Alice\",\n",
    "  \"homework\": [100.0, 92.0, 98.0, 100.0],\n",
    "  \"quizzes\": [82.0, 83.0, 91.0],\n",
    "  \"tests\": [89.0, 97.0]\n",
    "}]\n",
    "tyler = {\n",
    "  \"name\": \"Tyler\",\n",
    "  \"homework\": [0.0, 87.0, 75.0, 22.0],\n",
    "  \"quizzes\": [0.0, 75.0, 78.0],\n",
    "  \"tests\": [100.0, 100.0]\n",
    "}"
   ]
  },
  {
   "cell_type": "markdown",
   "metadata": {
    "id": "cat_-z2cViZL"
   },
   "source": [
    "# Sets"
   ]
  },
  {
   "cell_type": "markdown",
   "metadata": {
    "id": "R5Md7RXdVkJ5"
   },
   "source": [
    "## Exercise 1"
   ]
  },
  {
   "cell_type": "markdown",
   "metadata": {
    "id": "xwHfgxXzVhDY"
   },
   "source": [
    "1.   Return a set of identical items from a given two Python set\n",
    "2.   Returns a new set with all items from both sets by removing duplicates\n",
    "3. Given two Python sets, update first set with items that exist only in the first set and not in the second set.\n",
    "4.  Remove 10, 20, 30 elements from a following set at once\n",
    "5. Return a set of all elements in either A or B, but not both\n",
    "\n"
   ]
  },
  {
   "cell_type": "code",
   "execution_count": 23,
   "metadata": {
    "id": "q-F9Gr84THm1"
   },
   "outputs": [],
   "source": [
    "set1 = {10, 20, 30, 40, 50}\n",
    "set2 = {30, 40, 50, 60, 70}"
   ]
  }
 ],
 "metadata": {
  "colab": {
   "name": "Welcome To Colaboratory",
   "provenance": [],
   "collapsed_sections": [],
   "toc_visible": true
  },
  "kernelspec": {
   "display_name": "Python 3",
   "name": "python3"
  }
 },
 "nbformat": 4,
 "nbformat_minor": 0
}
