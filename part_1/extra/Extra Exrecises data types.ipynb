{
  "nbformat": 4,
  "nbformat_minor": 0,
  "metadata": {
    "colab": {
      "name": "Welcome To Colaboratory",
      "provenance": [],
      "collapsed_sections": [],
      "toc_visible": true
    },
    "kernelspec": {
      "display_name": "Python 3",
      "name": "python3"
    }
  },
  "cells": [
    {
      "cell_type": "markdown",
      "metadata": {
        "id": "h1D-X57jtltP"
      },
      "source": [
        "# Extra Exrecises"
      ]
    },
    {
      "cell_type": "markdown",
      "metadata": {
        "id": "Z0DuFLGOuDEL"
      },
      "source": [
        "# Exercise 1"
      ]
    },
    {
      "cell_type": "markdown",
      "metadata": {
        "id": "uJsmrU3vuILN"
      },
      "source": [
        "1.   Assign your age to a variable called \"my_age\" and the year of   today to a variable called \"current_year\".\n",
        "2.   Calculate your birth year and assign the value to a variable called birth_year\n",
        "3. Print the sentence \"My age is \\_\\_\\_ year old, and my Year of Birth is \\_\\_\\_.”\n",
        "4. Print the sentence, so that each part of it will be in a new line.\n",
        "\n"
      ]
    },
    {
      "cell_type": "markdown",
      "metadata": {
        "id": "ozkpFDEtwefq"
      },
      "source": [
        "# Exercise 2"
      ]
    },
    {
      "cell_type": "markdown",
      "metadata": {
        "id": "ArjTkF79wclU"
      },
      "source": [
        " Print the following text in a more readable fashion with proper newlines and tabs"
      ]
    },
    {
      "cell_type": "code",
      "metadata": {
        "id": "Pq8XOV-kxFk_"
      },
      "source": [
        "s = '''Europe:Spain:Madrid,Barcelona,France:Paris,Lyon,Asia:Japan:Tokyo,Hiroshima,China:Beijing,Shanghai'''\n",
        "print(s)"
      ],
      "execution_count": null,
      "outputs": []
    },
    {
      "cell_type": "markdown",
      "metadata": {
        "id": "qxYOstIux_Ra"
      },
      "source": [
        "# Exercise 3"
      ]
    },
    {
      "cell_type": "markdown",
      "metadata": {
        "id": "oyN_y6uJyJXm"
      },
      "source": [
        "1.   Assign your city and your country to the variables \"city\" and \"country\", respectively in **lowercase**.\n",
        "2.   Print the sentence \"My city is \\_\\_\\_ , and my country is \\_\\_\\_.”\n",
        "3. How many letters does your country have?\n",
        "4. Use the string method replace() to change all the first letter in country and city from lower case to upper case. \n",
        "5. Print again the sentence \"My city is \\_\\_\\_ , and my country is \\_\\_\\_.”\n",
        "\n"
      ]
    }
  ]
}