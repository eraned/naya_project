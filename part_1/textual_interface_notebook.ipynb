{
  "nbformat": 4,
  "nbformat_minor": 0,
  "metadata": {
    "colab": {
      "name": "textual_interface_notebook.ipynb",
      "provenance": [],
      "collapsed_sections": [
        "i7gDf-k8zf8P"
      ]
    },
    "language_info": {
      "codemirror_mode": {
        "name": "ipython",
        "version": 3
      },
      "file_extension": ".py",
      "mimetype": "text/x-python",
      "name": "python",
      "nbconvert_exporter": "python",
      "pygments_lexer": "ipython3",
      "version": "3.7.1"
    },
    "kernelspec": {
      "display_name": "Python 3",
      "language": "python",
      "name": "python3"
    }
  },
  "cells": [
    {
      "cell_type": "markdown",
      "metadata": {
        "id": "Rss0jumSzf8N"
      },
      "source": [
        "The textual interface with the user is done through the **console**, and we already met the `print()` function for printing data to the console. In this chapter we will learn about receiving input with the `input()` function and formatting output with the `format()` string method (or the equivalent f-string)."
      ]
    },
    {
      "cell_type": "markdown",
      "metadata": {
        "id": "i7gDf-k8zf8P"
      },
      "source": [
        "# The `input()` function"
      ]
    },
    {
      "cell_type": "markdown",
      "metadata": {
        "id": "6ZuoSQzSzf8Q"
      },
      "source": [
        "The function `input([prompt])` allows the user to type data in the console, so that the program reads it. This is executed in three steps:\n",
        "\n",
        "* The string `prompt` is presented to the user\n",
        "* The program waits until the Enter key is pressed\n",
        "* The user's input is returned by the function **as a string**"
      ]
    },
    {
      "cell_type": "code",
      "metadata": {
        "id": "pySOT1Gizf8R"
      },
      "source": [
        "name = input(\"Please enter your name:\\n\")\n",
        "print(\"Hi,\", name)"
      ],
      "execution_count": null,
      "outputs": []
    },
    {
      "cell_type": "code",
      "metadata": {
        "id": "RUTHqqAzzf8Y"
      },
      "source": [
        "answer = input(\"Would you like to continue? (Y\\\\N)\\n\")\n",
        "print(\"Your answer was\", answer)"
      ],
      "execution_count": null,
      "outputs": []
    },
    {
      "cell_type": "code",
      "metadata": {
        "id": "sDzGftmTzf8c"
      },
      "source": [
        "age = input(\"What is your age?\\n\")\n",
        "if age.isnumeric():\n",
        "    print(\"You are\", int(age), \"years old.\")\n",
        "else:\n",
        "    print(\"No jokes please\")"
      ],
      "execution_count": null,
      "outputs": []
    },
    {
      "cell_type": "markdown",
      "metadata": {
        "id": "FYOwKMrvzf8h"
      },
      "source": [
        "> **Your turn:** Write a script that asks the user for two numbers and prints their sum."
      ]
    },
    {
      "cell_type": "markdown",
      "metadata": {
        "id": "xIcy-Gnnzf8m"
      },
      "source": [
        "### Grand example (The Hangman Game)"
      ]
    },
    {
      "cell_type": "markdown",
      "metadata": {
        "id": "iIVV22aFzf8o"
      },
      "source": [
        "Implement the game [Hangman][1], where the computer simulates the side chosing the word. Ignore the drawing as well as the limit of guesses.\n",
        "\n",
        "[1]: https://en.wikipedia.org/wiki/Hangman_(game) \"Hangman\""
      ]
    },
    {
      "cell_type": "code",
      "metadata": {
        "id": "iRUaXJ17zf8r"
      },
      "source": [
        "word = 'abracadabra'\n",
        "length = len(word)\n",
        "\n",
        "print (\"I've chosen a word of\", length, \"letters.\")\n",
        "ans = input(\"Do you want to guess it? (Y \\ N)\\n\")\n",
        "\n",
        "# Make sure you understand the user's answer\n",
        "while ans not in ['Y', 'N', 'y', 'n']:\n",
        "    ans = input(\"Please choose Y or N.\\n\")\n",
        "\n",
        "if ans in ['Y', 'y']:\n",
        "    print (\"Great!\")\n",
        "\n",
        "    # Initializing\n",
        "    checked = []  # letters the user already tried to guess\n",
        "    revealed = '*' * length\n",
        "\n",
        "    # Game iterations\n",
        "    while revealed != word:\n",
        "        # Contact the user\n",
        "        print (\"Until now you have \" + revealed + \".\")\n",
        "        letter = input(\"What is your next guess?\\n\")\n",
        "\n",
        "        # Check and update history\n",
        "        if letter in checked:\n",
        "            print (\"You've already tried this one. Try again.\")\n",
        "            continue\n",
        "        else:\n",
        "            checked.append(letter)\n",
        "\n",
        "        # Update revealed status\n",
        "        if letter in word:\n",
        "            new_revealed = ''\n",
        "            for i in range(length):\n",
        "                if revealed[i] != '*' or word[i] == letter:\n",
        "                    new_revealed += word[i]\n",
        "                else:\n",
        "                    new_revealed += '*'\n",
        "            revealed = new_revealed\n",
        "            print (\"Nice guess!\")\n",
        "        else:\n",
        "            print (\"Sorry... This letter is not part of my word.\")\n",
        "\n",
        "    print (\"Excellent! You have guessed my word :-)\")\n",
        "    print (word.upper())\n",
        "else:\n",
        "    print (\"Too bad. My word was \" + word + \". Bye!\")"
      ],
      "execution_count": null,
      "outputs": []
    },
    {
      "cell_type": "markdown",
      "metadata": {
        "id": "NFv7n-Ymzf8x"
      },
      "source": [
        "# String formatting - *format()*"
      ]
    },
    {
      "cell_type": "markdown",
      "metadata": {
        "id": "bxAgtr2Hzf8z"
      },
      "source": [
        "_format()_ is a **string method** that makes is easy to edit text with the help of \"replacement fields\" surrounded by curly braces. Let's see a simple example that demonstrates the use of _format()_ and then discuss some details."
      ]
    },
    {
      "cell_type": "code",
      "metadata": {
        "id": "OgZUPwQkzf80"
      },
      "source": [
        "num1, num2 = 1.23456, 2.34567\n",
        "prod = num1 * num2"
      ],
      "execution_count": null,
      "outputs": []
    },
    {
      "cell_type": "markdown",
      "metadata": {
        "id": "oeLTMp53zf83"
      },
      "source": [
        "Without any formatting we can't control spacing and numeric formats, so we have:"
      ]
    },
    {
      "cell_type": "code",
      "metadata": {
        "id": "4t5dX26qzf84"
      },
      "source": [
        "print (num1, '*', num2, '=', prod)"
      ],
      "execution_count": null,
      "outputs": []
    },
    {
      "cell_type": "markdown",
      "metadata": {
        "id": "M-seNFT-zf88"
      },
      "source": [
        "One advantage of _format()_ is the intuitive insertion of variables within the sentence."
      ]
    },
    {
      "cell_type": "code",
      "metadata": {
        "id": "niv0L3XXzf89"
      },
      "source": [
        "print (\"{}*{}={}\\n\".format(num1, num2, prod))\n",
        "print (\"{} * {} = {}\\n\".format(num1, num2, prod))\n",
        "print (\"{}\\t*\\n{}\\t=\\n{}\".format(num1, num2, prod))"
      ],
      "execution_count": null,
      "outputs": []
    },
    {
      "cell_type": "markdown",
      "metadata": {
        "id": "MHLJa3C-zf9A"
      },
      "source": [
        "Another advantage of _format()_ is the accuracy of float numbers."
      ]
    },
    {
      "cell_type": "code",
      "metadata": {
        "id": "eJJ4jj-Izf9B"
      },
      "source": [
        "print (\"{} * {} = {:.3f}\".format(num1, num2, prod))\n",
        "print (\"{:.3f} * {:.3f} = {:2.4f}\".format(num1, num2, prod))"
      ],
      "execution_count": null,
      "outputs": []
    },
    {
      "cell_type": "markdown",
      "metadata": {
        "id": "FHacX5lHzf9E"
      },
      "source": [
        "### Example"
      ]
    },
    {
      "cell_type": "markdown",
      "metadata": {
        "id": "hUTSlDDPzf9F"
      },
      "source": [
        "Create a dictionary with elements of the form {_name: (birth, death)_} (_death_ is _None_ if the the dude is alive), and for each element in the dictionary write the sentence \"_name_ was born on _birth_ and died on _death_\" (or \"is still alive\"). "
      ]
    },
    {
      "cell_type": "code",
      "metadata": {
        "id": "nW8dWW2bzf9H"
      },
      "source": [
        "band = {'John': (1940, 1980),\n",
        "        'Paul': (1942, None),\n",
        "        'George': (1943, 2001),\n",
        "        'Ringo': (1940, None)}"
      ],
      "execution_count": null,
      "outputs": []
    },
    {
      "cell_type": "code",
      "metadata": {
        "id": "jZL2rkibzf9W"
      },
      "source": [
        "for player, (birth, death) in band.items():\n",
        "    if death:\n",
        "        print (\"{} was born on {} and died on {}.\"\\\n",
        "            .format(player, birth, death))\n",
        "    else:\n",
        "        print (\"{} was born on {} and he is still alive.\"\\\n",
        "            .format(player, birth))"
      ],
      "execution_count": null,
      "outputs": []
    },
    {
      "cell_type": "markdown",
      "metadata": {
        "id": "0SCUYai1s8Xy"
      },
      "source": [
        "> **Your turn:** Ask the user to enter two words, find the number of common letters between the words (excluding repetitions), and print the sentence \"The words _word1_ and _word2_ have \\_\\_\\_ common letters\"."
      ]
    },
    {
      "cell_type": "markdown",
      "metadata": {
        "id": "6Del4Uy2zf9b"
      },
      "source": [
        "## String formatting - f-string"
      ]
    },
    {
      "cell_type": "markdown",
      "metadata": {
        "id": "O1_GGRFLzf9d"
      },
      "source": [
        "new string format in python 3.6.<br>\n",
        "we put the variable name inside the curly brackets. <br>\n",
        "\n",
        "`f'new string formating {variable}'`\n",
        "\n",
        "* examples and perfomance comperison is taken from [here][1]\n",
        "\n",
        "\n",
        "* you can read on old format strings and comperison to the new ones [here][2]\n",
        "\n",
        "\n",
        "[1]: https://cito.github.io/blog/f-strings/\n",
        "[2]: https://realpython.com/python-f-strings/"
      ]
    },
    {
      "cell_type": "markdown",
      "metadata": {
        "id": "IETeXmDwzf9e"
      },
      "source": [
        "\n",
        "syntax: f ' <text> { <expression> <optional : format specifier> } <text>"
      ]
    },
    {
      "cell_type": "code",
      "metadata": {
        "id": "rwIQ5m_szf9f"
      },
      "source": [
        "name = 'Fred'\n",
        "age = 42"
      ],
      "execution_count": null,
      "outputs": []
    },
    {
      "cell_type": "code",
      "metadata": {
        "id": "m7wc8yI2zf9i"
      },
      "source": [
        "print ('He said his name is {name} and he is {age} years old.'.format(name=name, age=age))"
      ],
      "execution_count": null,
      "outputs": []
    },
    {
      "cell_type": "code",
      "metadata": {
        "id": "RdCHB2lQzf9o"
      },
      "source": [
        "print(f'He said his name is {name} and he is {age} years old.')"
      ],
      "execution_count": null,
      "outputs": []
    },
    {
      "cell_type": "markdown",
      "metadata": {
        "id": "A_cTbRCezf9w"
      },
      "source": [
        "### Formatting specifications"
      ]
    },
    {
      "cell_type": "markdown",
      "metadata": {
        "id": "EL3QHfYTzf9x"
      },
      "source": [
        "The _format()_ method has a wide range details and use-cases (all documented [here][format documentation]), but we will focus our attention on a single aspect called \"format specifications\". Format specifications are used within replacement fields contained within a format string to define how individual values are presented. The full description of optional specifications are documented under the section [Format Specification Mini-Language][specification documentation] of the string methods documentation, but its main features are listed and demonstrated below.\n",
        "\n",
        "The specifications are always preceded by a colon (:), and their general form is **\\[\\[fill\\]align\\]\\[sign\\]\\[#\\]\\[0\\]\\[width\\]\\[,\\]\\[.precision\\]\\[type\\]**. Adhering to this general form guarantees consistency and no ambiguity. This is a short explanation of the most useful parts:\n",
        "\n",
        "* _align_ - left (<), right (\\>) or center (^) alignment of the text\n",
        "* _width_ - decimal integer defining the minimum field width. If not specified, then the field width will be determined by the content.\n",
        "* _precision_ - decimal number indicating how many digits should be displayed after the decimal point.\n",
        "* _type_ - determines how the data should be presented\n",
        "    * _'s'_ - (default) string\n",
        "    * _'f', 'b', 'd', 'o', 'x'_ - float, binary, decimal, octal or hexagonal numeric representation\n",
        "    * _'e'_ - exponential form\n",
        "    * _'%'_ - percentage\n",
        "\n",
        "\n",
        "[format documentation]: https://docs.python.org/3/library/string.html#format-string-syntax \"format() Python documentation\"\n",
        "[specification documentation]: https://docs.python.org/3/library/string.html#format-specification-mini-language \"Format Specification Mini-Language\""
      ]
    },
    {
      "cell_type": "markdown",
      "metadata": {
        "id": "r_7IG6HNzf9x"
      },
      "source": [
        "### Example 1"
      ]
    },
    {
      "cell_type": "markdown",
      "metadata": {
        "id": "cjE8HtTtzf9y"
      },
      "source": [
        "Print the multiplication table."
      ]
    },
    {
      "cell_type": "markdown",
      "metadata": {
        "id": "Ro2R4VHYzf9z"
      },
      "source": [
        "#### Without formatting"
      ]
    },
    {
      "cell_type": "code",
      "metadata": {
        "id": "2HFM6IpQzf90"
      },
      "source": [
        "n = 10\n",
        "for i in range(1, n+1):\n",
        "    row = \"\"\n",
        "    for j in range(1, 11):\n",
        "        row = row + \" \" + str(i*j)\n",
        "    print (row)"
      ],
      "execution_count": null,
      "outputs": []
    },
    {
      "cell_type": "markdown",
      "metadata": {
        "id": "K0Pa9Lovzf93"
      },
      "source": [
        "#### With formatting"
      ]
    },
    {
      "cell_type": "code",
      "metadata": {
        "id": "F-teOOk8zf94"
      },
      "source": [
        "n = 10\n",
        "for i in range(1, n+1):\n",
        "    row = ''\n",
        "    for j in range(1, n+1):\n",
        "        row = row + f'{i*j:>4}'\n",
        "    print (row)"
      ],
      "execution_count": null,
      "outputs": []
    },
    {
      "cell_type": "markdown",
      "metadata": {
        "id": "Y4T0PmsL2So8"
      },
      "source": [
        "## Example 2"
      ]
    },
    {
      "cell_type": "markdown",
      "metadata": {
        "id": "sA2iHJI0K5X_"
      },
      "source": [
        "You have a dictionary of names and phone numbers, and you want to print its content as rows of the form `key: value`, where the `:` sign is aligned by the longest name."
      ]
    },
    {
      "cell_type": "code",
      "metadata": {
        "id": "QsaMSDLL3iVM"
      },
      "source": [
        "d = {'Short N. ame': '555-1234', 'Longe R. Name': '555-2345', 'Longes T. N. Ame': '555-3456'}"
      ],
      "execution_count": null,
      "outputs": []
    },
    {
      "cell_type": "markdown",
      "metadata": {
        "id": "CddSDqr74CEG"
      },
      "source": [
        "### Solution"
      ]
    },
    {
      "cell_type": "code",
      "metadata": {
        "id": "sk4s1HD3K9yO"
      },
      "source": [
        "l = max(map(len, d))\n",
        "print('\\n'.join([f'{k:{l}}:{d[k]}' for k in d]))"
      ],
      "execution_count": null,
      "outputs": []
    },
    {
      "cell_type": "markdown",
      "metadata": {
        "id": "RhnKh2332VTS"
      },
      "source": [
        "Given a dictionary, print out its content in the form"
      ]
    },
    {
      "cell_type": "markdown",
      "metadata": {
        "id": "ABaH6GbJvfd_"
      },
      "source": [
        "> **Your turn:** Put the code of the previous exercise in a loop **without printouts**, and repeatedly ask the user for pairs of words until the user chooses words with no common letters. Only when this occurs, the entire “history” of the interaction should be printed, and in an organized fashion, such that the words themselves are centrally aligned."
      ]
    },
    {
      "cell_type": "markdown",
      "metadata": {
        "id": "yEWN28ggzf9-"
      },
      "source": [
        "# Exercises"
      ]
    },
    {
      "cell_type": "markdown",
      "metadata": {
        "id": "G_Z8knjlxF4r"
      },
      "source": [
        "## Exercise 1"
      ]
    },
    {
      "cell_type": "markdown",
      "metadata": {
        "id": "VHF74H3ww5K4"
      },
      "source": [
        "In this exercise, we will implement a [Rock-Paper-Scissors](https://en.wikipedia.org/wiki/Rock_paper_scissors) competition.\n",
        "* Part I – Reception\n",
        "    * Ask each of the two players to print his name\n",
        "* Part II – A single round\n",
        "    * Ask one of the players (use his name) to enter his choice. Make sure it is a legitimate choice (Rock, Paper or Scissors). Then, ask the second player for his choice. Then print the winner’s name.\n",
        "* Part III – Full competition\n",
        "    * Implement a loop that asks the players whether they would like to have another round, and if so (a single “agreed” answer is enough) a new round is initiated. Make sure you record the results in order to satisfy the next part of the exercise.\n",
        "* Part IV – Results\n",
        "    * At the end of the competition (when the players have answered they ae not interested in another round), print out an informative and clear report of the results."
      ]
    },
    {
      "cell_type": "markdown",
      "metadata": {
        "id": "yPNDcC6OxHkg"
      },
      "source": [
        "### Solution"
      ]
    },
    {
      "cell_type": "markdown",
      "metadata": {
        "id": "B7VOSFISBh0I"
      },
      "source": [
        "#### Part I"
      ]
    },
    {
      "cell_type": "code",
      "metadata": {
        "id": "LvMCBgHyBh0J"
      },
      "source": [
        "name1 = input(\"Player 1, please enter your name.\\n\")\n",
        "name2 = input(\"Player 2, please enter your name.\\n\")"
      ],
      "execution_count": null,
      "outputs": []
    },
    {
      "cell_type": "markdown",
      "metadata": {
        "id": "V_idU4O5Bh0L"
      },
      "source": [
        "#### Part II"
      ]
    },
    {
      "cell_type": "markdown",
      "metadata": {
        "id": "49YMSX-9Bh0N"
      },
      "source": [
        "Player #1 choses a weapon"
      ]
    },
    {
      "cell_type": "code",
      "metadata": {
        "id": "BS4Wmbh8Bh0O"
      },
      "source": [
        "weapon1 = 'X'\n",
        "while weapon1.upper() not in 'RPS':\n",
        "    weapon1 = input(f'{name1}, please enter your weapon... (R / P / S)\\n')\n",
        "    if weapon1.upper() in 'RPS':\n",
        "        break\n",
        "    else:\n",
        "        print(\"This is not a legitimate weapon...\")"
      ],
      "execution_count": null,
      "outputs": []
    },
    {
      "cell_type": "markdown",
      "metadata": {
        "id": "Ovxna_exBh0S"
      },
      "source": [
        "Player #2 choses a weapon"
      ]
    },
    {
      "cell_type": "code",
      "metadata": {
        "id": "3jylhTktBh0T"
      },
      "source": [
        "weapon2 = 'X'\n",
        "while weapon2.upper() not in 'RPS':\n",
        "    weapon2 = input(f\"{name2}, please enter your weapon... (R / P / S)\\n\")\n",
        "    if weapon2.upper() in 'RPS':\n",
        "        break\n",
        "    else:\n",
        "        print(\"This is not a legitimate weapon...\")"
      ],
      "execution_count": null,
      "outputs": []
    },
    {
      "cell_type": "markdown",
      "metadata": {
        "id": "YNim0H6DBh0V"
      },
      "source": [
        "The result is evaluated."
      ]
    },
    {
      "cell_type": "code",
      "metadata": {
        "id": "0HSMMGpdBh0W",
        "colab": {
          "base_uri": "https://localhost:8080/",
          "height": 35
        },
        "outputId": "de7d0f15-e135-440f-9185-f7e8b25b72ce"
      },
      "source": [
        "if weapon1 == weapon2:\n",
        "    print(\"It's a tie. No one wins this round.\")\n",
        "elif (weapon1 == 'R' and weapon2 == 'S') or (weapon1 == 'S' and weapon2 == 'P') or (weapon1 == 'P' and weapon2 == 'R'):\n",
        "    print(name1, \"wins this round.\")\n",
        "else:\n",
        "    print(name2, \"wins this round.\")"
      ],
      "execution_count": null,
      "outputs": [
        {
          "output_type": "stream",
          "text": [
            "b wins this round.\n"
          ],
          "name": "stdout"
        }
      ]
    },
    {
      "cell_type": "markdown",
      "metadata": {
        "id": "r4wu-0w2Bh0Z"
      },
      "source": [
        "#### Part III"
      ]
    },
    {
      "cell_type": "code",
      "metadata": {
        "id": "qo936jE6Bh0a"
      },
      "source": [
        "records = {}\n",
        "\n",
        "want_again = True\n",
        "i_round = 0\n",
        "while want_again:\n",
        "    i_round = i_round + 1\n",
        "\n",
        "    ### Choosing weapons ###\n",
        "\n",
        "    weapon1 = 'X'\n",
        "    while weapon1.upper() not in 'RPS':\n",
        "        weapon1 = input(f'{name1}, please enter your weapon... (R / P / S)\\n').upper()\n",
        "        if weapon1 in 'RPS':\n",
        "            break\n",
        "        else:\n",
        "            print(\"This is not a legitimate weapon...\")\n",
        "\n",
        "    weapon2 = 'X'\n",
        "    while weapon2.upper() not in 'RPS':\n",
        "        weapon2 = input(f\"{name2}, please enter your weapon... (R / P / S)\\n\").upper()\n",
        "        if weapon2 in 'RPS':\n",
        "            break\n",
        "        else:\n",
        "            print(\"This is not a legitimate weapon...\")\n",
        "\n",
        "    ### Results ###\n",
        "\n",
        "    if weapon1 == weapon2:\n",
        "        print(\"It's a tie. No one wins this round.\")\n",
        "        res = 'No one'\n",
        "    elif (weapon1 == 'R' and weapon2 == 'S') or (weapon1 == 'S' and weapon2 == 'P') or (weapon1 == 'P' and weapon2 == 'R'):\n",
        "        print(name1, \"wins this round.\")\n",
        "        res = name1\n",
        "    else:\n",
        "        print(name2, \"wins this round.\")\n",
        "        res = name2\n",
        "\n",
        "    ### Records ###\n",
        "\n",
        "    records[i_round] = [res, weapon1, weapon2]\n",
        "\n",
        "    ### Continue? ###\n",
        "\n",
        "    want_again = input(\"\\nDo you want to play again? (Y / N)\\n\").upper() == 'Y'"
      ],
      "execution_count": null,
      "outputs": []
    },
    {
      "cell_type": "markdown",
      "metadata": {
        "id": "onu0MqTFBh0d"
      },
      "source": [
        "#### Part IV"
      ]
    },
    {
      "cell_type": "code",
      "metadata": {
        "id": "ZJb6LByzBh0f"
      },
      "source": [
        "num_of_rounds = len(records)\n",
        "winners = [x[0] for x in records.values()]\n",
        "name1_weapons = [x[1] for x in records.values()]\n",
        "name2_weapons = [x[2] for x in records.values()]\n",
        "\n",
        "if winners.count(name1) > winners.count(name2):\n",
        "    winner = name1\n",
        "elif winners.count(name1) < winners.count(name2):\n",
        "    winner = name2\n",
        "else:\n",
        "    winner = 'No one'\n",
        "\n",
        "print(f\"The winner is {winner.upper()} !!!\")\n",
        "print(f\"All in all there were {num_of_rounds} rounds.\")\n",
        "print(f\"{name1} won {winners.count(name1)} rounds, \\\n",
        "    and {name2} won {winners.count(name2)} rounds.\")\n",
        "\n",
        "for round, details in records.items():\n",
        "    print(f\"Round {round:^3}: {details[0]:^10} won\\t-\\t{name1} had {details[1]} \\\n",
        "    and {name2} had {details[2]}.\")\n",
        "\n",
        "weapons_dict = {'R': 'Rock', 'P': 'Paper', 'S': 'Scissors'}\n",
        "for initial, full in weapons_dict.items():\n",
        "    print(f\"The weapon {full:^10} was used {name1_weapons.count(initial):^3} times by {name1:^10} \\\n",
        "    and {name2_weapons.count(initial):^3} times by {name2:^10}\")"
      ],
      "execution_count": null,
      "outputs": []
    }
  ]
}