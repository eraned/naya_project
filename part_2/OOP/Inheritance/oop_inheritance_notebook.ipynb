{
 "cells": [
  {
   "cell_type": "markdown",
   "metadata": {},
   "source": [
    "# OOP - Inheritance"
   ]
  },
  {
   "cell_type": "markdown",
   "metadata": {},
   "source": [
    "One of the most important notions of OOP is the **recycling of code**, and the most well-known example of this notion is the **inheritance**. Inheritance allows us to define a **child** of a specific **parent** class that \"inherits\" all the properties (attributes and methods) of the parent. The child class is usually used to implement a special case of the parent class, and they are also known as super-class and sub-class. It should be noted that a parent can have many children, and a children can have many parents.\n",
    "\n",
    "The inheritance declaration is easy to implement, and it is done by specifying the parent class right in the child definition line. The child must have its own constructor (\\_\\__init_\\_\\__()_ method), but (usually) it will include relevant modifications of an instance of the parent, instantiated by calling the parent's constructor. \n",
    "\n",
    "For compatibility we repeat here _Table_'s implementation."
   ]
  },
  {
   "cell_type": "code",
   "execution_count": 1,
   "metadata": {
    "collapsed": true
   },
   "outputs": [],
   "source": [
    "class Table:\n",
    "    def __init__(self, *fields):\n",
    "        self.fields = list(fields)\n",
    "        self.n_fields = len(fields)\n",
    "        self.records = []\n",
    "        self.n_records = 0\n",
    "    \n",
    "    def __str__(self):\n",
    "        template = \"{:^15}\" + (self.n_fields - 1) * \"|{:^15}\"\n",
    "        if self.n_records < 10:\n",
    "            records_str = \"\\n\".join([template.format(*rec) for rec in self.records])\n",
    "        else:\n",
    "            records_str = \"\\n\".join([template.format(*rec) for rec in self.records[:5]]) + \"\\n. . .\"\n",
    "            records_str += \"\\n\".join([template.format(*rec) for rec in self.records[-5:]])\n",
    "\n",
    "        header =  template.format(*self.fields) + \"\\n\"\n",
    "        horizontal_line = len(header) * \"-\" + \"\\n\"\n",
    "        return header + horizontal_line + records_str\n",
    "    \n",
    "    def __contains__(self, item):\n",
    "        return item in self.get_column(self.fields[0])\n",
    "    \n",
    "    def __eq__(self, other):\n",
    "        if self.fields[0] != other.fields[0]:\n",
    "            return False\n",
    "        return set(self.get_column(self.fields[0])) == set(other.get_column(other.fields[0]))\n",
    "    \n",
    "    def __ne__(self, other):\n",
    "        return not (self == other)\n",
    "    \n",
    "    def __lt__(self, other):\n",
    "        if self.fields[0] != other.fields[0]:\n",
    "            return False\n",
    "        return set(self.get_column(self.fields[0])) < set(other.get_column(other.fields[0]))\n",
    "    \n",
    "    def __gt__(self, other):\n",
    "        if self.fields[0] != other.fields[0]:\n",
    "            return False\n",
    "        return set(self.get_column(self.fields[0])) > set(other.get_column(other.fields[0]))\n",
    "\n",
    "    def __le__(self, other):\n",
    "        return not (self > other)\n",
    "    \n",
    "    def __ge__(self, other):\n",
    "        return not (self < other)\n",
    "    \n",
    "    def __add__(self, other):\n",
    "        if self.fields != other.fields:\n",
    "            return None\n",
    "        ret = Table(*self.fields)\n",
    "        for rec in self.records:\n",
    "            ret.add_record(rec)\n",
    "        keys1 = self.get_column(self.fields[0])\n",
    "        for rec in other.records:\n",
    "            if rec[0] not in keys1:\n",
    "                ret.add_record(rec)\n",
    "        return ret                \n",
    "    \n",
    "    def __getitem__(self, key):\n",
    "        return self.get_records(self.fields[0], key).records[0]\n",
    "    \n",
    "    def add_record(self, rec):\n",
    "        self.records.append(rec)\n",
    "        self.n_records += 1\n",
    "        \n",
    "    def remove_record(self, rec):\n",
    "        self.records.remove(rec)\n",
    "        self.n_records -= 1\n",
    "        \n",
    "    def get_column(self, field):\n",
    "        ind = self.fields.index(field)\n",
    "        return [rec[ind] for rec in self.records]        \n",
    "                \n",
    "    def get_records(self, field, value):\n",
    "        if field in self.fields:\n",
    "            ind = self.fields.index(field)\n",
    "            ret = Table(*self.fields)\n",
    "            for rec in self.records:\n",
    "                if rec[ind] == value:\n",
    "                    ret.add_record(rec)\n",
    "            return ret\n",
    "        else:\n",
    "            print(\"{} is not a field in the table.\".format(field))\n",
    "            \n",
    "    def get_fields(self, *fields):\n",
    "        if all([(field in self.fields) for field in fields]):\n",
    "            columns = [self.get_column(field) for field in fields]\n",
    "            records = [list(rec) for rec in zip(*columns)]\n",
    "            ret = Table(*fields)\n",
    "            for rec in records:\n",
    "                ret.add_record(rec)\n",
    "            return ret\n",
    "        else:\n",
    "            print(\"{} is not a field in the table.\".format(field))"
   ]
  },
  {
   "cell_type": "markdown",
   "metadata": {},
   "source": [
    "## Instantiation"
   ]
  },
  {
   "cell_type": "markdown",
   "metadata": {},
   "source": [
    "Continuing the _Table_ example, we now define _SortedTable(Table)_. _SortedTable_ has all the properties of _Table_, but we also want its instances to keep their records sorted by the values of a specified argument _key_\\__field_. Pay attention to the following when reviewing the _SortedTable_'s constructor given below:\n",
    "\n",
    "1. The name of the parent(s) is given in parentheses right after the name of the child.\n",
    "2. The \\_\\__init_\\_\\__()_ of the child includes a call to the \\_\\__init_\\_\\__()_ of the parent with a proper subset of itsarguments.\n",
    "3. Since _self_ cannot \"logically\" call the \\_\\__init_\\_\\__()_ of its parent, then a special syntax is used, and it is called by the actual name of the parent class.\n",
    "4. Sub-classes may (and usually do) have their own attributes, which not surprisingly is what differentiate them from their parents.\n",
    "\n",
    "One additional note is that it is a good practice to name the class with the \"CapWords\" convention of upper- and lower-case."
   ]
  },
  {
   "cell_type": "code",
   "execution_count": 2,
   "metadata": {},
   "outputs": [],
   "source": [
    "class SortedTable(Table):                                       # (1)\n",
    "    def __init__(self, key_field, *fields):                     # (2)\n",
    "        Table.__init__(self, *fields)                           # (3)\n",
    "        if key_field not in fields:\n",
    "            print(\"ERROR!!! No such key. Please try again...\")\n",
    "        else:\n",
    "            self.key_field = key_field                          # (4)"
   ]
  },
  {
   "cell_type": "markdown",
   "metadata": {},
   "source": [
    "We note that an instance of a child is also an instance of the father. This may be confusing, because as we will see later, children may override their parent's methods."
   ]
  },
  {
   "cell_type": "code",
   "execution_count": 3,
   "metadata": {},
   "outputs": [
    {
     "name": "stdout",
     "output_type": "stream",
     "text": [
      "False\n",
      "True\n"
     ]
    }
   ],
   "source": [
    "customers = Table('name', 'address', 'age')  \n",
    "print(isinstance(customers, SortedTable))\n",
    "print(isinstance(customers, Table))"
   ]
  },
  {
   "cell_type": "code",
   "execution_count": 4,
   "metadata": {},
   "outputs": [
    {
     "name": "stdout",
     "output_type": "stream",
     "text": [
      "True\n",
      "True\n"
     ]
    }
   ],
   "source": [
    "customers = SortedTable('address', 'name', 'address', 'age')  \n",
    "print(isinstance(customers, SortedTable))\n",
    "print(isinstance(customers, Table))"
   ]
  },
  {
   "cell_type": "markdown",
   "metadata": {},
   "source": [
    "## Methods"
   ]
  },
  {
   "cell_type": "markdown",
   "metadata": {},
   "source": [
    "Usually the child \"inherits\" a lot from its parent, so most of the parent's functionalities are still applicable without the need to rewrite them (hence the usefulness of inheritance). However, there is always a difference between them (otherwise, why bother creating the child?), expressed by either **new** or **overriding** methods of the child."
   ]
  },
  {
   "cell_type": "markdown",
   "metadata": {},
   "source": [
    "### Adding new methods"
   ]
  },
  {
   "cell_type": "markdown",
   "metadata": {},
   "source": [
    "The most basic differentiation between a child and its parent are the properties that only the child has. We already saw that the attribute _key_\\__field_ is defined only for _SortedTable_, and now we will implement a method that will also be available only for _SortedTable_ instances:\n",
    "* _change_\\__key(self, new_\\__key_\\__field)_ .\n",
    "\n",
    "Bottom line - there is nothing special about defining new properties for a child class. It's exactly like we did it before."
   ]
  },
  {
   "cell_type": "code",
   "execution_count": 5,
   "metadata": {
    "collapsed": true
   },
   "outputs": [],
   "source": [
    "class SortedTable(Table):\n",
    "    def __init__(self, key_field, *fields):\n",
    "        Table.__init__(self, *fields)\n",
    "        if key_field not in fields:\n",
    "            print(\"ERROR!!! The specified key is not defined. Table not created. Please try again...\")\n",
    "        else:\n",
    "            self.key_field = key_field\n",
    "        \n",
    "    def change_key(self, new_key_field):\n",
    "        # Modify the key\n",
    "        self.key_field = new_key_field\n",
    "        # Re-sorting the records\n",
    "        key_index = self.fields.index(self.key_field)\n",
    "        self.records = sorted(self.records, key=lambda x: x[key_index])"
   ]
  },
  {
   "cell_type": "markdown",
   "metadata": {},
   "source": [
    "#### Demonstration"
   ]
  },
  {
   "cell_type": "code",
   "execution_count": 6,
   "metadata": {},
   "outputs": [],
   "source": [
    "customers = SortedTable('address', 'name', 'address', 'age')\n",
    "customers.add_record(['Russell Crowe', 'Dizengoff 4', 51])\n",
    "customers.add_record(['Nicolas Cage', 'Basel 7', 52])\n",
    "customers.add_record(['Gwyneth Paltrow', 'Weizmann 8', 43])\n",
    "customers.add_record(['Al Pacino', 'Allenby 1', 63])\n",
    "customers.add_record(['Diane Keaton', 'Basel 9', 52])"
   ]
  },
  {
   "cell_type": "code",
   "execution_count": 7,
   "metadata": {},
   "outputs": [
    {
     "name": "stdout",
     "output_type": "stream",
     "text": [
      "     name      |    address    |      age      \n",
      "------------------------------------------------\n",
      " Russell Crowe |  Dizengoff 4  |      51       \n",
      " Nicolas Cage  |    Basel 7    |      52       \n",
      "Gwyneth Paltrow|  Weizmann 8   |      43       \n",
      "   Al Pacino   |   Allenby 1   |      63       \n",
      " Diane Keaton  |    Basel 9    |      52       \n"
     ]
    }
   ],
   "source": [
    "print(customers)"
   ]
  },
  {
   "cell_type": "code",
   "execution_count": 8,
   "metadata": {},
   "outputs": [
    {
     "name": "stdout",
     "output_type": "stream",
     "text": [
      "address\n"
     ]
    }
   ],
   "source": [
    "print(customers.key_field)"
   ]
  },
  {
   "cell_type": "code",
   "execution_count": 9,
   "metadata": {},
   "outputs": [
    {
     "name": "stdout",
     "output_type": "stream",
     "text": [
      "name\n"
     ]
    }
   ],
   "source": [
    "customers.change_key('name')\n",
    "print(customers.key_field)"
   ]
  },
  {
   "cell_type": "code",
   "execution_count": 10,
   "metadata": {},
   "outputs": [
    {
     "name": "stdout",
     "output_type": "stream",
     "text": [
      "     name      |    address    |      age      \n",
      "------------------------------------------------\n",
      "   Al Pacino   |   Allenby 1   |      63       \n",
      " Diane Keaton  |    Basel 9    |      52       \n",
      "Gwyneth Paltrow|  Weizmann 8   |      43       \n",
      " Nicolas Cage  |    Basel 7    |      52       \n",
      " Russell Crowe |  Dizengoff 4  |      51       \n"
     ]
    }
   ],
   "source": [
    "print(customers)"
   ]
  },
  {
   "cell_type": "markdown",
   "metadata": {},
   "source": [
    "### Overriding parent's methods"
   ]
  },
  {
   "cell_type": "markdown",
   "metadata": {},
   "source": [
    "Continuing with our example, we figure that the following methods we inherited from _Table_ are not influenced by the \"sorting\" feature: \\_\\__str_\\_\\__()_, Comparisons, \\_\\__add_\\_\\__()_, \\_\\__getitem_\\_\\__()_, _remove_\\__record()_, _get_\\__column()_, _get_\\__records()_ and _get_\\__fields()_.\n",
    "\n",
    "Amazingly only one method should be overridden - _add_\\__record()_. This method should be responsible for \"inserting\" the new record in the right place. We will write a method for the child with the **same name**, and since the child will always prefer its own method, this will practically override the parent's method.\n",
    "\n",
    "We also note that there are two types of override: the first is to completely ignore the parent's method, and the second is to re-use the parent's method. We will demonstrate both approaches."
   ]
  },
  {
   "cell_type": "markdown",
   "metadata": {},
   "source": [
    "#### Approach 1 - complete override"
   ]
  },
  {
   "cell_type": "code",
   "execution_count": 11,
   "metadata": {
    "collapsed": true
   },
   "outputs": [],
   "source": [
    "class SortedTable(Table):\n",
    "    def __init__(self, key_field, *fields):\n",
    "        Table.__init__(self, *fields)\n",
    "        if key_field not in fields:\n",
    "            print(\"ERROR!!! The specified key is not defined. Table not created. Please try again...\")\n",
    "        else:\n",
    "            self.key_field = key_field\n",
    "        \n",
    "    def change_key(self, new_key_field):\n",
    "        # Modify the key\n",
    "        self.key_field = new_key_field\n",
    "        # Re-sorting the records\n",
    "        key_index = self.fields.index(self.key_field)\n",
    "        self.records = sorted(self.records, key=lambda x: x[key_index])\n",
    "        \n",
    "    def add_record(self, rec):\n",
    "        key_index = self.fields.index(self.key_field)\n",
    "        if self.n_records == 0:\n",
    "            self.records.append(rec)\n",
    "        elif rec[key_index] < self.records[0][key_index]:\n",
    "            # rec is \"smaller\" than all records\n",
    "            self.records.insert(0, rec)\n",
    "        else:\n",
    "            # Looking for the right index to \"push\" the record\n",
    "            for ind in range(self.n_records):\n",
    "                if rec[key_index] > self.records[ind][key_index]:\n",
    "                    self.records.insert(ind+1, rec)\n",
    "                    break\n",
    "        self.n_records += 1"
   ]
  },
  {
   "cell_type": "code",
   "execution_count": 12,
   "metadata": {},
   "outputs": [
    {
     "name": "stdout",
     "output_type": "stream",
     "text": [
      "     name      |    address    |      age      \n",
      "------------------------------------------------\n",
      "   Al Pacino   |   Allenby 1   |      63       \n",
      " Diane Keaton  |    Basel 9    |      52       \n",
      "Gwyneth Paltrow|  Weizmann 8   |      43       \n",
      " Nicolas Cage  |    Basel 7    |      52       \n",
      " Russell Crowe |  Dizengoff 4  |      51       \n"
     ]
    }
   ],
   "source": [
    "customers = SortedTable('name', 'name', 'address', 'age')\n",
    "customers.add_record(['Russell Crowe', 'Dizengoff 4', 51])\n",
    "customers.add_record(['Nicolas Cage', 'Basel 7', 52])\n",
    "customers.add_record(['Gwyneth Paltrow', 'Weizmann 8', 43])\n",
    "customers.add_record(['Al Pacino', 'Allenby 1', 63])\n",
    "customers.add_record(['Diane Keaton', 'Basel 9', 52])\n",
    "print(customers)"
   ]
  },
  {
   "cell_type": "code",
   "execution_count": 13,
   "metadata": {},
   "outputs": [
    {
     "name": "stdout",
     "output_type": "stream",
     "text": [
      "     name      |    address    |      age      \n",
      "------------------------------------------------\n",
      "Gwyneth Paltrow|  Weizmann 8   |      43       \n",
      " Russell Crowe |  Dizengoff 4  |      51       \n",
      " Diane Keaton  |    Basel 9    |      52       \n",
      " Nicolas Cage  |    Basel 7    |      52       \n",
      "   Al Pacino   |   Allenby 1   |      63       \n"
     ]
    }
   ],
   "source": [
    "customers.change_key('age')\n",
    "print(customers)"
   ]
  },
  {
   "cell_type": "markdown",
   "metadata": {},
   "source": [
    "#### Approach 2 - re-using the parent's methods "
   ]
  },
  {
   "cell_type": "markdown",
   "metadata": {},
   "source": [
    "This method _add_\\__record()_ works, but it doesn't \"recycle\" the father's code, which sometimes is a waste. A better implementation will call the father's methods where appropriate.\n",
    "\n",
    "Note that like we saw with the \\_\\__init_\\_\\__()_ method (comment \\#3 in the \"Instantiation\" paragraph above) the child's method is not defined yet, so we can't call _self_, hence we use the parent's class name and send _self_ as an input argument."
   ]
  },
  {
   "cell_type": "code",
   "execution_count": 14,
   "metadata": {
    "collapsed": true
   },
   "outputs": [],
   "source": [
    "class SortedTable(Table):\n",
    "    def __init__(self, key_field, *fields):\n",
    "        Table.__init__(self, *fields)\n",
    "        if key_field not in fields:\n",
    "            print(\"ERROR!!! The specified key is not defined. Table not created. Please try again...\")\n",
    "        else:\n",
    "            self.key_field = key_field\n",
    "        \n",
    "    def change_key(self, new_key_field):\n",
    "        # Modify the key\n",
    "        self.key_field = new_key_field\n",
    "        # Re-sorting the records\n",
    "        key_index = self.fields.index(self.key_field)\n",
    "        self.records = sorted(self.records, key=lambda x: x[key_index])\n",
    "        \n",
    "    def add_record(self, rec):\n",
    "        Table.add_record(self, rec)  # <-- This is the re-use\n",
    "        key_index = self.fields.index(self.key_field)\n",
    "        self.records = sorted(self.records, key=lambda x: x[key_index])"
   ]
  },
  {
   "cell_type": "code",
   "execution_count": 15,
   "metadata": {},
   "outputs": [
    {
     "name": "stdout",
     "output_type": "stream",
     "text": [
      "     name      |    address    |      age      \n",
      "------------------------------------------------\n",
      " Russell Crowe |  Dizengoff 4  |      51       \n",
      "     name      |    address    |      age      \n",
      "------------------------------------------------\n",
      " Nicolas Cage  |    Basel 7    |      52       \n",
      " Russell Crowe |  Dizengoff 4  |      51       \n",
      "     name      |    address    |      age      \n",
      "------------------------------------------------\n",
      "Gwyneth Paltrow|  Weizmann 8   |      43       \n",
      " Nicolas Cage  |    Basel 7    |      52       \n",
      " Russell Crowe |  Dizengoff 4  |      51       \n",
      "     name      |    address    |      age      \n",
      "------------------------------------------------\n",
      "   Al Pacino   |   Allenby 1   |      63       \n",
      "Gwyneth Paltrow|  Weizmann 8   |      43       \n",
      " Nicolas Cage  |    Basel 7    |      52       \n",
      " Russell Crowe |  Dizengoff 4  |      51       \n",
      "     name      |    address    |      age      \n",
      "------------------------------------------------\n",
      "   Al Pacino   |   Allenby 1   |      63       \n",
      " Diane Keaton  |    Basel 9    |      52       \n",
      "Gwyneth Paltrow|  Weizmann 8   |      43       \n",
      " Nicolas Cage  |    Basel 7    |      52       \n",
      " Russell Crowe |  Dizengoff 4  |      51       \n"
     ]
    }
   ],
   "source": [
    "customers = SortedTable('name', 'name', 'address', 'age')\n",
    "customers.add_record(['Russell Crowe', 'Dizengoff 4', 51])\n",
    "print(customers)\n",
    "customers.add_record(['Nicolas Cage', 'Basel 7', 52])\n",
    "print(customers)\n",
    "customers.add_record(['Gwyneth Paltrow', 'Weizmann 8', 43])\n",
    "print(customers)\n",
    "customers.add_record(['Al Pacino', 'Allenby 1', 63])\n",
    "print(customers)\n",
    "customers.add_record(['Diane Keaton', 'Basel 9', 52])\n",
    "print(customers)"
   ]
  },
  {
   "cell_type": "markdown",
   "metadata": {},
   "source": [
    "> **NOTE:** In this case, the second approach is less efficient, but it demonstrates the concept."
   ]
  }
 ],
 "metadata": {
  "anaconda-cloud": {},
  "kernelspec": {
   "display_name": "Python 3",
   "language": "python",
   "name": "python3"
  },
  "language_info": {
   "codemirror_mode": {
    "name": "ipython",
    "version": 3
   },
   "file_extension": ".py",
   "mimetype": "text/x-python",
   "name": "python",
   "nbconvert_exporter": "python",
   "pygments_lexer": "ipython3",
   "version": "3.6.1"
  }
 },
 "nbformat": 4,
 "nbformat_minor": 1
}
