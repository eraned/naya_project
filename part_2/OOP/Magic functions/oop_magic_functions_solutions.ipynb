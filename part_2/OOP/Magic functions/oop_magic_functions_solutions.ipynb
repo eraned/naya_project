{
 "cells": [
  {
   "cell_type": "markdown",
   "metadata": {},
   "source": [
    "# OOP - magic functions - solutions"
   ]
  },
  {
   "cell_type": "markdown",
   "metadata": {},
   "source": [
    "## Exercise 1"
   ]
  },
  {
   "cell_type": "markdown",
   "metadata": {},
   "source": [
    "### Part I"
   ]
  },
  {
   "cell_type": "code",
   "execution_count": 53,
   "metadata": {
    "collapsed": false
   },
   "outputs": [],
   "source": [
    "class Person:\n",
    "    def __init__(self, name, id_number, gender, year_of_birth, current_year=2016):\n",
    "        self.name = name\n",
    "        self.id_number = id_number\n",
    "        self.gender = gender\n",
    "        self.year_of_birth = year_of_birth\n",
    "        self.age = current_year - self.year_of_birth\n",
    "        \n",
    "        self.is_alive = True\n",
    "        self.year_of_death = None\n",
    "        self.is_married = False\n",
    "        self.spouse = None\n",
    "        self.children = []\n",
    "        \n",
    "    def __str__(self):\n",
    "        s = \"{} (#{}): Age: {:3}, Gender: {}, Alive: {}, Spouse: {:10}, Children: {}\"\n",
    "        return s.format(self.name, self.id_number, self.age, self.gender, self.is_alive, self.spouse, self.children)\n",
    "    \n",
    "    def __eq__(self, other):\n",
    "        return self.id_number == other.id_number\n",
    "    \n",
    "    def __ne__(self, other):\n",
    "        return not (self == other)\n",
    "        \n",
    "    def __lt__(self, other):\n",
    "        return self.age < other.age\n",
    "    \n",
    "    def __gt__(self, other):\n",
    "        return self.age > other.age\n",
    "\n",
    "    def __le__(self, other):\n",
    "        return not (self > other)\n",
    "    \n",
    "    def __ge__(self, other):\n",
    "        return not (self < other)   \n",
    "    \n",
    "    def grow(self):\n",
    "        if self.is_alive:\n",
    "            self.age += 1\n",
    "        else:\n",
    "            print(\"grass\")\n",
    "        \n",
    "    def got_married(self, spouse_name):\n",
    "        self.spouse = spouse_name\n",
    "        self.is_married = True\n",
    "        \n",
    "    def begat(self, *children):\n",
    "        self.children.extend(children)\n",
    "        \n",
    "    def die(self, year_of_death=None):\n",
    "        if year_of_death:\n",
    "            self.year_of_death = year_of_death\n",
    "            self.age = self.year_of_death - self.year_of_birth\n",
    "        else:\n",
    "            self.year_of_death = self.year_of_birth + self.age\n",
    "        self.is_alive = False"
   ]
  },
  {
   "cell_type": "markdown",
   "metadata": {},
   "source": [
    "### Part II"
   ]
  },
  {
   "cell_type": "code",
   "execution_count": 54,
   "metadata": {
    "collapsed": false
   },
   "outputs": [
    {
     "name": "stdout",
     "output_type": "stream",
     "text": [
      "Avraham (#123456789): Age:   0, Gender: m, Alive: True, Spouse: None      , Children: []\n",
      "Avraham (#123456789): Age:  75, Gender: m, Alive: True, Spouse: None      , Children: []\n",
      "Avraham (#123456789): Age:  75, Gender: m, Alive: True, Spouse: Sarrah    , Children: []\n",
      "Avraham (#123456789): Age:  86, Gender: m, Alive: True, Spouse: Sarrah    , Children: []\n",
      "Avraham (#123456789): Age:  86, Gender: m, Alive: True, Spouse: Sarrah    , Children: ['Ishmael']\n",
      "Avraham (#123456789): Age:  99, Gender: m, Alive: True, Spouse: Sarrah    , Children: ['Ishmael']\n",
      "Avraham (#123456789): Age:  99, Gender: m, Alive: True, Spouse: Sarrah    , Children: ['Ishmael', 'Yitzhak']\n",
      "Avraham (#123456789): Age: 175, Gender: m, Alive: False, Spouse: Sarrah    , Children: ['Ishmael', 'Yitzhak']\n"
     ]
    }
   ],
   "source": [
    "person1 = Person('Avraham', 123456789, 'm', 1948, 1948)\n",
    "print(person1)\n",
    "\n",
    "for i in range(75):\n",
    "    person1.grow()\n",
    "print(person1)\n",
    "    \n",
    "person1.got_married('Sarrah')\n",
    "print(person1)\n",
    "\n",
    "for i in range(11):\n",
    "    person1.grow()\n",
    "print(person1)\n",
    "\n",
    "person1.begat('Ishmael')\n",
    "print(person1)\n",
    "\n",
    "for i in range(13):\n",
    "    person1.grow()\n",
    "print(person1)\n",
    "\n",
    "person1.begat('Yitzhak')\n",
    "print(person1)\n",
    "\n",
    "for i in range(76):\n",
    "    person1.grow()\n",
    "    \n",
    "person1.die()\n",
    "print(person1)"
   ]
  },
  {
   "cell_type": "markdown",
   "metadata": {},
   "source": [
    "## Exercise 2"
   ]
  },
  {
   "cell_type": "markdown",
   "metadata": {},
   "source": [
    "### Part I"
   ]
  },
  {
   "cell_type": "code",
   "execution_count": 1,
   "metadata": {
    "collapsed": true
   },
   "outputs": [],
   "source": [
    "class Queue:\n",
    "    def __init__(self):\n",
    "        self.queue = []\n",
    "        \n",
    "    def __len__(self):\n",
    "        return len(self.queue)\n",
    "    \n",
    "    def __getitem__(self, key):\n",
    "        # Returns the key-th element in the queue\n",
    "        if 0 < key <= len(self):\n",
    "            return self.queue[len(self) - key]\n",
    "        \n",
    "    def __str__(self):\n",
    "        n_to_show = min(len(self), 3)\n",
    "        elements_to_show = ['{:10}'.format(self[i]) for i in range(1, n_to_show+1)]\n",
    "        line = ' --> '.join(elements_to_show)\n",
    "        ending = '' if len(self) <= 3 else ' --> ...'\n",
    "        return line + ending\n",
    "    \n",
    "    def __eq__(self, other):\n",
    "        return len(self) == len(other)\n",
    "    \n",
    "    def __ne__(self, other):\n",
    "        return not (self == other)\n",
    "        \n",
    "    def __lt__(self, other):\n",
    "        return len(self) < len(other)\n",
    "    \n",
    "    def __gt__(self, other):\n",
    "        return len(self) > len(other)\n",
    "\n",
    "    def __le__(self, other):\n",
    "        return not (self > other)\n",
    "    \n",
    "    def __ge__(self, other):\n",
    "        return not (self < other)   \n",
    "    \n",
    "    def __radd__(self, other):\n",
    "        big_queue = Queue()\n",
    "        big_queue.queue = other.queue + self.queue\n",
    "        return big_queue\n",
    "        \n",
    "    def is_empty(self):\n",
    "        return len(self.queue) == 0\n",
    "    \n",
    "    def enqueue(self, element):\n",
    "        self.queue.insert(0, element)\n",
    "        \n",
    "    def dequeue(self):\n",
    "        if not self.is_empty():\n",
    "            return self.queue.pop()"
   ]
  },
  {
   "cell_type": "markdown",
   "metadata": {},
   "source": [
    "### Part II"
   ]
  },
  {
   "cell_type": "code",
   "execution_count": 2,
   "metadata": {
    "collapsed": false
   },
   "outputs": [
    {
     "name": "stdout",
     "output_type": "stream",
     "text": [
      "Udi\n"
     ]
    }
   ],
   "source": [
    "verbose = False\n",
    "\n",
    "waiting1 = []\n",
    "waiting2 = []\n",
    "patients1 = Queue()\n",
    "patients2 = Queue()\n",
    "with open(\"c:\\\\temp\\\\queue2.txt\") as f:\n",
    "    for line in f:\n",
    "        if \"Call\" not in line:\n",
    "            patient = line[:-1]\n",
    "            if patients1 > patients2:\n",
    "                patients2.enqueue(patient)\n",
    "                waiting2.append((len(patients2), patient))\n",
    "                if verbose:\n",
    "                    print(\"Queue #2:\", patients1)\n",
    "            else:\n",
    "                patients1.enqueue(patient)\n",
    "                waiting1.append((len(patients1), patient))\n",
    "                if verbose:\n",
    "                    print(\"Queue #1:\", patients1)\n",
    "        else:\n",
    "            if \"Call1\" in line:\n",
    "                patients1.dequeue()\n",
    "                if verbose:\n",
    "                    print(\"Call 1\")\n",
    "            else:\n",
    "                patients2.dequeue()\n",
    "                if verbose:\n",
    "                    print(\"Call 2\")\n",
    "        \n",
    "worst1 = sorted(waiting1)[-1]\n",
    "worst2 = sorted(waiting2)[-1]\n",
    "worst = worst1[1] if worst1 > worst2 else worst2[1]\n",
    "print(worst)"
   ]
  }
 ],
 "metadata": {
  "kernelspec": {
   "display_name": "Python 3",
   "language": "python",
   "name": "python3"
  },
  "language_info": {
   "codemirror_mode": {
    "name": "ipython",
    "version": 3
   },
   "file_extension": ".py",
   "mimetype": "text/x-python",
   "name": "python",
   "nbconvert_exporter": "python",
   "pygments_lexer": "ipython3"
  }
 },
 "nbformat": 4,
 "nbformat_minor": 0
}
