{
 "cells": [
  {
   "cell_type": "markdown",
   "metadata": {},
   "source": [
    "# Magic functions"
   ]
  },
  {
   "cell_type": "markdown",
   "metadata": {},
   "source": [
    "Standard methods are invoked by explicitly calling to them. However, a class can implement certain operations that are invoked by special syntax (such as arithmetic operations or subscripting and slicing) by defining methods with special names. These operations and their corresponding syntaxes are called **magic functions**, and they are a closed collection that can be found [here][1].\n",
    "\n",
    "Magic functions are recognized by their leading and trailing underscores (e.g. \\_\\__init_\\_\\__()_), which are part of their names. In this chapter we will learn about some of the most common magic functions.\n",
    "\n",
    "It should be noted that this is Python’s approach to a known programming concept called **operator overloading**, which allow classes to define their own behavior with respect to language operators.\n",
    "\n",
    "\n",
    "[1]: https://docs.python.org/2/reference/datamodel.html#special-method-names \"Magic functions documentation\""
   ]
  },
  {
   "cell_type": "markdown",
   "metadata": {},
   "source": [
    "## Important magic functions"
   ]
  },
  {
   "cell_type": "markdown",
   "metadata": {},
   "source": [
    "### \\_\\__str_\\_\\__(self)_"
   ]
  },
  {
   "cell_type": "markdown",
   "metadata": {},
   "source": [
    "The \\_\\__str_\\_\\__()_ method returns the **string representation** of the instance, and this is by definition what the built-in function _print()_ shows when applied to an instance of the class."
   ]
  },
  {
   "cell_type": "markdown",
   "metadata": {},
   "source": [
    "### Rich comparison (\\_\\__cmp_\\_\\__(self, other)_)"
   ]
  },
  {
   "cell_type": "markdown",
   "metadata": {},
   "source": [
    "The functionality of the comparison operators can be defined for class instances by implementing the magic functions \\_\\__lt_\\_\\__()_ ('<'), \\_\\__le_\\_\\__()_ ('<='), \\_\\__eq_\\_\\__()_ ('=='), \\_\\__ne_\\_\\__()_ ('!='), \\_\\__gt_\\_\\__()_ ('>') or \\_\\__ge_\\_\\__()_ ('>='). The input arguments are conventionally called _self_ and _other_ and the returned value is usually a Boolean."
   ]
  },
  {
   "cell_type": "markdown",
   "metadata": {},
   "source": [
    "Another cool feature of the \\_\\__cmp_\\_\\__(self, other)_ family is that it automatically enables the sorting of a list of instances, i.e. to apply the built-in function _sorted()_ on it."
   ]
  },
  {
   "cell_type": "markdown",
   "metadata": {},
   "source": [
    "> #### Note\n",
    "> The operation '_self == other_' does **NOT** test whether _self_ and _other_ are the same **instance**, but rather if they have the same **value** as defined by the \\_\\__eq_\\_\\__(self, other)_ method. Testing if they are the same instance is performed via the _**is**_ operator. This is illustrated by the two snippets below."
   ]
  },
  {
   "cell_type": "code",
   "execution_count": 1,
   "metadata": {
    "collapsed": false
   },
   "outputs": [
    {
     "name": "stdout",
     "output_type": "stream",
     "text": [
      "True False\n"
     ]
    }
   ],
   "source": [
    "a = [1]\n",
    "b = [1]\n",
    "\n",
    "print(a == b, a is b)"
   ]
  },
  {
   "cell_type": "code",
   "execution_count": 2,
   "metadata": {
    "collapsed": false
   },
   "outputs": [
    {
     "name": "stdout",
     "output_type": "stream",
     "text": [
      "True True\n"
     ]
    }
   ],
   "source": [
    "a = [1]\n",
    "b = a\n",
    "\n",
    "print(a == b, a is b)"
   ]
  },
  {
   "cell_type": "markdown",
   "metadata": {},
   "source": [
    "### Emulating numeric types"
   ]
  },
  {
   "cell_type": "markdown",
   "metadata": {},
   "source": [
    "Performing any arithmetic-like operation with class instances is possible with the corresponding magic function. The most common of them is \\_\\__add_\\_\\__()_ ('+') but every arithemtic operation has its magic function. The input arguments are conventionally called _self_ and _other_ and the returned value is a new instance of the class. The full documentation is available [here][1].\n",
    "\n",
    "[1]: https://docs.python.org/2/reference/datamodel.html#emulating-numeric-types"
   ]
  },
  {
   "cell_type": "markdown",
   "metadata": {},
   "source": [
    "### \\_\\__len_\\_\\__(self)_"
   ]
  },
  {
   "cell_type": "markdown",
   "metadata": {},
   "source": [
    "The method \\_\\__len_\\_\\__()_ returns an integer representing the length of the instance."
   ]
  },
  {
   "cell_type": "markdown",
   "metadata": {},
   "source": [
    "### \\_\\__contains_\\_\\__(self)_"
   ]
  },
  {
   "cell_type": "markdown",
   "metadata": {},
   "source": [
    "The method \\_\\__contains_\\_\\__()_ implements the behavior of the operator _in_."
   ]
  },
  {
   "cell_type": "markdown",
   "metadata": {},
   "source": [
    "### \\_\\__getitem_\\_\\__(self, key)_"
   ]
  },
  {
   "cell_type": "markdown",
   "metadata": {},
   "source": [
    "The method \\_\\__getitem_\\_\\__(self, key)_ defines how the syntax _self[key]_ is implemented."
   ]
  },
  {
   "cell_type": "markdown",
   "metadata": {},
   "source": [
    "## The _Table_ example"
   ]
  },
  {
   "cell_type": "markdown",
   "metadata": {},
   "source": [
    "### \\_\\__str_\\_\\__(self)_"
   ]
  },
  {
   "cell_type": "markdown",
   "metadata": {},
   "source": [
    "The representation of a table is fairly intuitive. It is simply the tabular form of the table itself, unless it is too large to be displayed entirely, and then we may want to skip rows. "
   ]
  },
  {
   "cell_type": "markdown",
   "metadata": {},
   "source": [
    "### _len(self)_"
   ]
  },
  {
   "cell_type": "markdown",
   "metadata": {},
   "source": [
    "Very intuitively, this method will return the number of records in the table."
   ]
  },
  {
   "cell_type": "markdown",
   "metadata": {},
   "source": [
    "### \\_\\__contains_\\_\\__(self)_"
   ]
  },
  {
   "cell_type": "markdown",
   "metadata": {},
   "source": [
    "Since usually the first column of a table is associated with some unique key of its records, we will say that an item is _in_ the table if it is present in the first column of the table."
   ]
  },
  {
   "cell_type": "markdown",
   "metadata": {},
   "source": [
    "### Rich comparison (\\_\\__cmp_\\_\\__(self, other)_)"
   ]
  },
  {
   "cell_type": "markdown",
   "metadata": {},
   "source": [
    "Since usually the first column of a table is associated with some unique key of its records, we will implement comparisons relating to the differences between the contents of the left-most column. A table A will be \"greater than\" a table B if all the keys of B are included in the keys of A."
   ]
  },
  {
   "cell_type": "markdown",
   "metadata": {},
   "source": [
    "> **NOTE:** This interpretation is very specific, and raises a lot of practical questions. However, it is used merely for illustration purposes, so don't take it too seriously."
   ]
  },
  {
   "cell_type": "markdown",
   "metadata": {},
   "source": [
    "### \\_\\__add_\\_\\__(self, other)_"
   ]
  },
  {
   "cell_type": "markdown",
   "metadata": {},
   "source": [
    "This method will implement the union of the records of _self_ and _other_, regarding records with the same \"key\" as duplicates."
   ]
  },
  {
   "cell_type": "markdown",
   "metadata": {},
   "source": [
    "### \\_\\__getitem_\\_\\__(self, key)_"
   ]
  },
  {
   "cell_type": "markdown",
   "metadata": {},
   "source": [
    "Understanding the left-most column as \"keys\", we would like the syntax _table[key]_ to return the record with the \"key\" _key_."
   ]
  },
  {
   "cell_type": "code",
   "execution_count": 3,
   "metadata": {
    "collapsed": true
   },
   "outputs": [],
   "source": [
    "class Table:\n",
    "    def __init__(self, *fields):\n",
    "        self.fields = list(fields)\n",
    "        self.n_fields = len(fields)\n",
    "        self.records = []\n",
    "        self.n_records = 0\n",
    "    \n",
    "    def __str__(self):\n",
    "        template = \"{:^25}\" + (self.n_fields - 1) * \"|{:^25}\"\n",
    "        if self.n_records < 10:\n",
    "            records_str = \"\\n\".join([template.format(*rec) for rec in self.records])\n",
    "        else:\n",
    "            records_str = \"\\n\".join([template.format(*rec) for rec in self.records[:5]]) + \"\\n. . .\\n\"\n",
    "            records_str += \"\\n\".join([template.format(*rec) for rec in self.records[-5:]])\n",
    "\n",
    "        header =  template.format(*self.fields) + \"\\n\"\n",
    "        horizontal_line = len(header) * \"-\" + \"\\n\"\n",
    "        return header + horizontal_line + records_str\n",
    "    \n",
    "    def __len__(self):\n",
    "        return self.n_records\n",
    "    \n",
    "    def __contains__(self, item):\n",
    "        return item in self.get_column(self.fields[0])\n",
    "    \n",
    "    def __eq__(self, other):\n",
    "        if self.fields[0] != other.fields[0]:\n",
    "            return False\n",
    "        return set(self.get_column(self.fields[0])) == set(other.get_column(other.fields[0]))\n",
    "    \n",
    "    def __ne__(self, other):\n",
    "        return not (self == other)\n",
    "    \n",
    "    def __lt__(self, other):\n",
    "        if self.fields[0] != other.fields[0]:\n",
    "            return False\n",
    "        return set(self.get_column(self.fields[0])) < set(other.get_column(other.fields[0]))\n",
    "    \n",
    "    def __gt__(self, other):\n",
    "        if self.fields[0] != other.fields[0]:\n",
    "            return False\n",
    "        return set(self.get_column(self.fields[0])) > set(other.get_column(other.fields[0]))\n",
    "\n",
    "    def __le__(self, other):\n",
    "        return not (self > other)\n",
    "    \n",
    "    def __ge__(self, other):\n",
    "        return not (self < other)\n",
    "    \n",
    "    def __add__(self, other):\n",
    "        if self.fields != other.fields:\n",
    "            return None\n",
    "        ret = Table(*self.fields)\n",
    "        for rec in self.records:\n",
    "            ret.add_record(rec)\n",
    "        keys1 = self.get_column(self.fields[0])\n",
    "        for rec in other.records:\n",
    "            if rec[0] not in keys1:\n",
    "                ret.add_record(rec)\n",
    "        return ret      \n",
    "        \n",
    "    def __getitem__(self, key):\n",
    "        return self.get_records(self.fields[0], key).records[0]\n",
    "    \n",
    "    def add_record(self, rec):\n",
    "        self.records.append(rec)\n",
    "        self.n_records += 1\n",
    "        \n",
    "    def remove_record(self, rec):\n",
    "        self.records.remove(rec)\n",
    "        self.n_records -= 1\n",
    "        \n",
    "    def get_column(self, field):\n",
    "        ind = self.fields.index(field)\n",
    "        return [rec[ind] for rec in self.records]        \n",
    "                \n",
    "    def get_records(self, field, value):\n",
    "        if field in self.fields:\n",
    "            ind = self.fields.index(field)\n",
    "            ret = Table(*self.fields)\n",
    "            for rec in self.records:\n",
    "                if rec[ind] == value:\n",
    "                    ret.add_record(rec)\n",
    "            return ret\n",
    "        else:\n",
    "            print(\"{} is not a field in the table.\".format(field))\n",
    "            \n",
    "    def get_fields(self, *fields):\n",
    "        if all([(field in self.fields) for field in fields]):\n",
    "            columns = [self.get_column(field) for field in fields]\n",
    "            records = [list(rec) for rec in zip(*columns)]\n",
    "            ret = Table(*fields)\n",
    "            for rec in records:\n",
    "                ret.add_record(rec)\n",
    "            return ret\n",
    "        else:\n",
    "            print(\"{} is not a field in the table.\".format(field))       "
   ]
  },
  {
   "cell_type": "code",
   "execution_count": 4,
   "metadata": {
    "collapsed": false
   },
   "outputs": [
    {
     "name": "stdout",
     "output_type": "stream",
     "text": [
      "          name           |         address         |           age           \n",
      "------------------------------------------------------------------------------\n",
      "      Russell Crowe      |       Dizengoff 4       |           51            \n",
      "      Nicolas Cage       |         Basel 7         |           52            \n",
      "      Diane Keaton       |         Basel 9         |           52            \n"
     ]
    }
   ],
   "source": [
    "customers1 = Table('name', 'address', 'age')\n",
    "customers1.add_record(['Russell Crowe', 'Dizengoff 4', 51])\n",
    "customers1.add_record(['Nicolas Cage', 'Basel 7', 52])\n",
    "customers1.add_record(['Diane Keaton', 'Basel 9', 52])\n",
    "print(customers1)"
   ]
  },
  {
   "cell_type": "code",
   "execution_count": 5,
   "metadata": {
    "collapsed": false
   },
   "outputs": [
    {
     "name": "stdout",
     "output_type": "stream",
     "text": [
      "          name           |         address         |           age           \n",
      "------------------------------------------------------------------------------\n",
      "     Gwyneth Paltrow     |       Weizmann 8        |           43            \n",
      "        Al Pacino        |        Allenby 1        |           63            \n",
      "      Diane Keaton       |         Basel 9         |           52            \n"
     ]
    }
   ],
   "source": [
    "customers2 = Table('name', 'address', 'age')\n",
    "customers2.add_record(['Gwyneth Paltrow', 'Weizmann 8', 43])\n",
    "customers2.add_record(['Al Pacino', 'Allenby 1', 63])\n",
    "customers2.add_record(['Diane Keaton', 'Basel 9', 52])\n",
    "print(customers2)"
   ]
  },
  {
   "cell_type": "code",
   "execution_count": 6,
   "metadata": {
    "collapsed": false
   },
   "outputs": [
    {
     "name": "stdout",
     "output_type": "stream",
     "text": [
      "          name           |         address         |           age           \n",
      "------------------------------------------------------------------------------\n",
      "      Russell Crowe      |       Dizengoff 4       |           51            \n",
      "      Nicolas Cage       |         Basel 7         |           52            \n",
      "     Gwyneth Paltrow     |       Weizmann 8        |           43            \n",
      "        Al Pacino        |        Allenby 1        |           63            \n",
      "      Diane Keaton       |         Basel 9         |           52            \n"
     ]
    }
   ],
   "source": [
    "customers3 = Table('name', 'address', 'age')\n",
    "customers3.add_record(['Russell Crowe', 'Dizengoff 4', 51])\n",
    "customers3.add_record(['Nicolas Cage', 'Basel 7', 52])\n",
    "customers3.add_record(['Gwyneth Paltrow', 'Weizmann 8', 43])\n",
    "customers3.add_record(['Al Pacino', 'Allenby 1', 63])\n",
    "customers3.add_record(['Diane Keaton', 'Basel 9', 52])\n",
    "print(customers3)"
   ]
  },
  {
   "cell_type": "code",
   "execution_count": 7,
   "metadata": {
    "collapsed": false
   },
   "outputs": [
    {
     "name": "stdout",
     "output_type": "stream",
     "text": [
      "True\n"
     ]
    }
   ],
   "source": [
    "print('Russell Crowe' in customers1)"
   ]
  },
  {
   "cell_type": "code",
   "execution_count": 8,
   "metadata": {
    "collapsed": false
   },
   "outputs": [
    {
     "name": "stdout",
     "output_type": "stream",
     "text": [
      "False\n",
      "True\n",
      "True\n"
     ]
    }
   ],
   "source": [
    "print(customers1 < customers2)\n",
    "print(customers1 < customers3)\n",
    "print(customers3 >= customers2)"
   ]
  },
  {
   "cell_type": "code",
   "execution_count": 9,
   "metadata": {
    "collapsed": false
   },
   "outputs": [
    {
     "name": "stdout",
     "output_type": "stream",
     "text": [
      "True\n"
     ]
    }
   ],
   "source": [
    "print(customers1 + customers2 == customers3)"
   ]
  },
  {
   "cell_type": "code",
   "execution_count": 10,
   "metadata": {
    "collapsed": false
   },
   "outputs": [
    {
     "name": "stdout",
     "output_type": "stream",
     "text": [
      "['Russell Crowe', 'Dizengoff 4', 51]\n"
     ]
    }
   ],
   "source": [
    "print(customers1['Russell Crowe'])"
   ]
  }
 ],
 "metadata": {
  "anaconda-cloud": {},
  "kernelspec": {
   "display_name": "Python 3",
   "language": "python",
   "name": "python3"
  },
  "language_info": {
   "codemirror_mode": {
    "name": "ipython",
    "version": 3
   },
   "file_extension": ".py",
   "mimetype": "text/x-python",
   "name": "python",
   "nbconvert_exporter": "python",
   "pygments_lexer": "ipython3",
   "version": "3.6.1"
  }
 },
 "nbformat": 4,
 "nbformat_minor": 2
}
