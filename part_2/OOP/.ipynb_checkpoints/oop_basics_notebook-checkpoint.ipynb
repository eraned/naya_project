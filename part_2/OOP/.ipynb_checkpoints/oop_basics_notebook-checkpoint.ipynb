{
 "cells": [
  {
   "cell_type": "markdown",
   "metadata": {
    "colab_type": "text",
    "id": "j_qdyTEq8wVb"
   },
   "source": [
    "# Object-Oriented Programming (OOP)"
   ]
  },
  {
   "cell_type": "markdown",
   "metadata": {
    "colab_type": "text",
    "id": "hs-b1f7Y8wVf"
   },
   "source": [
    "We've met many data types and data structures, and we learned how to use them properly. However, when we deal with complex data, it is very convenient to be able to define new data structures that are tailored for our needs. The ability to do that and the corresponding functionalities are called in general Object-Oriented Programming, or in short - OOP. In this course we will not speak about the philosophy behind OOP, but will focus more on the technical details.\n",
    "\n",
    "To make things more tangible we will apply the new concepts and examples, when applicable, to an imaginary supermarket and its data."
   ]
  },
  {
   "cell_type": "markdown",
   "metadata": {
    "colab_type": "text",
    "id": "5Fp9dDkB8wVi"
   },
   "source": [
    "## Introduction"
   ]
  },
  {
   "cell_type": "markdown",
   "metadata": {
    "colab_type": "text",
    "id": "Ny5Rr-OO8wVl"
   },
   "source": [
    "Let's reconsider the list object. Generally speaking, before we could do anything with it we had to **initialize** it. We saw several ways for doing that, but they all resulted in a new **instance** of the **class** called \"list\". For example, the following line of code **instantiates** the **object** _names_, which then becomes an **instance** of the **class** _list_."
   ]
  },
  {
   "cell_type": "code",
   "execution_count": 1,
   "metadata": {
    "colab": {},
    "colab_type": "code",
    "id": "DbMLTLJy8wVn"
   },
   "outputs": [],
   "source": [
    "names = ['Amit', 'Itamar', 'Reut']"
   ]
  },
  {
   "cell_type": "markdown",
   "metadata": {
    "colab_type": "text",
    "id": "mfgGNhpd8wVw"
   },
   "source": [
    "We are familiar with the built-in function _type()_, and now we can also get acquainted with the built-in function _isinstance()_."
   ]
  },
  {
   "cell_type": "code",
   "execution_count": 2,
   "metadata": {
    "colab": {
     "base_uri": "https://localhost:8080/",
     "height": 70
    },
    "colab_type": "code",
    "executionInfo": {
     "elapsed": 598,
     "status": "ok",
     "timestamp": 1539758664389,
     "user": {
      "displayName": "Amit Rappel",
      "photoUrl": "",
      "userId": "16505003500853190417"
     },
     "user_tz": -180
    },
    "id": "E1Gw74Uo8wVx",
    "outputId": "5e497034-9157-44d3-ca0f-1d62e8703671"
   },
   "outputs": [
    {
     "name": "stdout",
     "output_type": "stream",
     "text": [
      "<class 'list'>\n",
      "True\n",
      "False\n"
     ]
    }
   ],
   "source": [
    "print(type(names))\n",
    "print(isinstance(names, list))\n",
    "print(isinstance(names, float))"
   ]
  },
  {
   "cell_type": "markdown",
   "metadata": {
    "colab_type": "text",
    "id": "zC_8jnCd8wV2"
   },
   "source": [
    "As an instance of the class _list_, the object _names_ has (inherently) some **attributes** and **methods** (collectively called **preoperties**), which have been defined (by the authors of Python) for the class _list_. The access to the attributes and the call for the method is done by the '.' (point) character.\n",
    "\n",
    "Attributes are inherent charteristics, which any instance of the class _list_ has, e.g. length. Similarly, methods are inherent functions, supported by any instance of the class _list_, e.g. _append()_ and _pop()_. Since we created _names_ as a list, which is a predefined class (a built-in type in this case), the attributes and methods of the class _list_ are part of who _names_ is, and this is why they are available for us without the need to define them ourselves."
   ]
  },
  {
   "cell_type": "markdown",
   "metadata": {
    "colab_type": "text",
    "id": "y1gN54Jb8wV3"
   },
   "source": [
    "## Instantiation"
   ]
  },
  {
   "cell_type": "markdown",
   "metadata": {
    "colab_type": "text",
    "id": "wudJbkic8wV4"
   },
   "source": [
    "The first step of any class is a method called **\\_\\__init()_\\_\\_**, which serves as the **constructor** of the class. The constructor is where a new instance of the class is created and also gets the initial values for its **attributes**.\n",
    "\n",
    "Let's think for a moment what are the attributes that **any** table should have. A table is a collection of records with pre-defined fields. However, when the table is only created, the fields are known, but no record is yet present. Let's see the \\_\\__init()_\\_\\_ function of our _Table_ class and then discuss the implementation details."
   ]
  },
  {
   "cell_type": "code",
   "execution_count": 3,
   "metadata": {
    "colab": {},
    "colab_type": "code",
    "id": "17nZvQAd8wV5"
   },
   "outputs": [],
   "source": [
    "class Table:\n",
    "    def __init__(self, fields):\n",
    "        self.fields = fields\n",
    "        self.records = []"
   ]
  },
  {
   "cell_type": "markdown",
   "metadata": {
    "colab_type": "text",
    "id": "UaG-NKVb8wV8"
   },
   "source": [
    "We see that the definition itself is done by the word **class** followed by the name of the class. Then, with proper indentation, the method \\_\\__init()_\\_\\_ is defined. It should be noted that a method is defined exactly like a function, and it is only a convention to use this term (method) when referring to in-class functions.\n",
    "\n",
    "That said, there is a very important difference - the use of the argument _**self**_. _self_ is a special and suitable word that emphasizes the OOP concept, and it indicates that any methods of the class \"carry\" the information of the instance. All class methods have _self_ as their first input argument, and we will see the importance of that immediately.\n",
    "\n",
    "The other input (in this case _fields_) is used to initialize the attributes of the new instance. In the example above, _fields_ becomes an attribute with the same name, and another attribute called _records_ is initialized with an empty list.\n",
    "\n",
    "Having the supermarket idea in our heads, let's see how to use our new class for relevant tables of data. The next lines create (instantiate) new objects of the _Table_ type."
   ]
  },
  {
   "cell_type": "code",
   "execution_count": 4,
   "metadata": {
    "colab": {},
    "colab_type": "code",
    "id": "HHRpP-My8wV9"
   },
   "outputs": [],
   "source": [
    "customers = Table(['name', 'address', 'age'])\n",
    "products = Table(['name', 'category', 'units', 'unit_price'])"
   ]
  },
  {
   "cell_type": "markdown",
   "metadata": {
    "colab_type": "text",
    "id": "M-598izD8wWA"
   },
   "source": [
    "The objects are created, but we still know very little about them..."
   ]
  },
  {
   "cell_type": "code",
   "execution_count": 5,
   "metadata": {
    "colab": {
     "base_uri": "https://localhost:8080/",
     "height": 70
    },
    "colab_type": "code",
    "executionInfo": {
     "elapsed": 604,
     "status": "ok",
     "timestamp": 1539759168258,
     "user": {
      "displayName": "Amit Rappel",
      "photoUrl": "",
      "userId": "16505003500853190417"
     },
     "user_tz": -180
    },
    "id": "4p2INNxA8wWC",
    "outputId": "e7f68eb5-5087-49ce-d202-3db9eebc05a5"
   },
   "outputs": [
    {
     "name": "stdout",
     "output_type": "stream",
     "text": [
      "<__main__.Table object at 0x000001DBEB377CF8>\n",
      "['name', 'address', 'age']\n",
      "[]\n"
     ]
    }
   ],
   "source": [
    "print(customers)\n",
    "print(customers.fields)\n",
    "print(customers.records)"
   ]
  },
  {
   "cell_type": "code",
   "execution_count": 6,
   "metadata": {
    "colab": {
     "base_uri": "https://localhost:8080/",
     "height": 70
    },
    "colab_type": "code",
    "executionInfo": {
     "elapsed": 582,
     "status": "ok",
     "timestamp": 1539759210741,
     "user": {
      "displayName": "Amit Rappel",
      "photoUrl": "",
      "userId": "16505003500853190417"
     },
     "user_tz": -180
    },
    "id": "Jfx4AxQt8wWG",
    "outputId": "14f2fb9e-f15c-4d97-f26f-2c39ab39ea51"
   },
   "outputs": [
    {
     "name": "stdout",
     "output_type": "stream",
     "text": [
      "<__main__.Table object at 0x000001DBEB377D68>\n",
      "['name', 'category', 'units', 'unit_price']\n",
      "[]\n"
     ]
    }
   ],
   "source": [
    "print(products)\n",
    "print(products.fields)\n",
    "print(products.records)"
   ]
  },
  {
   "cell_type": "markdown",
   "metadata": {
    "colab_type": "text",
    "id": "GZno-6JL8wWK"
   },
   "source": [
    "Very often there are attributes that are useful and do not require specific input from the user. Such attributes in the case of the _Table_ class are the number of fields (_n_\\__fields_), which can be evaluated from _fields_, and the number of records in the table (_n_\\__records_), which is initially zero. Adding that to the construtor yields the following final version of the method \\_\\__init()_\\_\\_."
   ]
  },
  {
   "cell_type": "code",
   "execution_count": 7,
   "metadata": {
    "colab": {},
    "colab_type": "code",
    "id": "LlbMoAN88wWL"
   },
   "outputs": [],
   "source": [
    "class Table:\n",
    "    def __init__(self, fields):\n",
    "        self.fields = fields\n",
    "        self.n_fields = len(fields)\n",
    "        self.records = []\n",
    "        self.n_records = 0"
   ]
  },
  {
   "cell_type": "code",
   "execution_count": 8,
   "metadata": {
    "colab": {},
    "colab_type": "code",
    "id": "35D5EYoEwrr_"
   },
   "outputs": [],
   "source": [
    "customers = Table(['Name', 'Address', 'Age'])"
   ]
  },
  {
   "cell_type": "markdown",
   "metadata": {
    "colab_type": "text",
    "id": "uj7U3bm18wWN"
   },
   "source": [
    "This is how we start, but we still can't do anything useful with the objects we've made. We will now see how to write methods to add functionality to the class."
   ]
  },
  {
   "cell_type": "markdown",
   "metadata": {
    "colab_type": "text",
    "id": "yUycY0gO8wWO"
   },
   "source": [
    "## methods\n",
    "The first method any _Table_ should have is obviously one that adds a record to it. We remember that methods are simply functions that are \"aware\" of the (general) instance of which they are part, and that this \"awareness\" is implemented by \"carrying\" _self_ as the first input argument. Let's write our first method, _add_\\__record_(), and add it to the class implementation."
   ]
  },
  {
   "cell_type": "code",
   "execution_count": 9,
   "metadata": {
    "colab": {},
    "colab_type": "code",
    "id": "M4tXfeKj8wWQ"
   },
   "outputs": [],
   "source": [
    "class Table:\n",
    "    def __init__(self, fields):\n",
    "        self.fields = fields\n",
    "        self.n_fields = len(fields)\n",
    "        self.records = []\n",
    "        self.n_records = 0\n",
    "    \n",
    "    def add_record(self, rec):\n",
    "        self.records.append(rec)\n",
    "        self.n_records += 1"
   ]
  },
  {
   "cell_type": "markdown",
   "metadata": {
    "colab_type": "text",
    "id": "SHpgdUYj8wWU"
   },
   "source": [
    "The method _add_\\__record_() expects a single input argument - _rec_. Since the method \"knows\" the details of its caller (represented by _self_), it can append _rec_ to the **existing** list _self.records_. The attribute _n_\\__records_ is not changed automatically with the change of _records_, so we have to update it explicitly whenever _add_\\__record()_ is called.\n",
    "\n",
    "It should be noted that the method didn't return anything (well, except _None_), but only altered the calling object. We should be familiar with this behavior from other mutable types like lists and dictionaries.\n",
    "\n",
    "Let's test our new method."
   ]
  },
  {
   "cell_type": "code",
   "execution_count": 10,
   "metadata": {
    "colab": {
     "base_uri": "https://localhost:8080/",
     "height": 52
    },
    "colab_type": "code",
    "executionInfo": {
     "elapsed": 568,
     "status": "ok",
     "timestamp": 1539760255849,
     "user": {
      "displayName": "Amit Rappel",
      "photoUrl": "",
      "userId": "16505003500853190417"
     },
     "user_tz": -180
    },
    "id": "26Tsk0738wWU",
    "outputId": "ffceee14-4aaf-4c97-988e-cc7b21929e51"
   },
   "outputs": [
    {
     "name": "stdout",
     "output_type": "stream",
     "text": [
      "Current records: []\n",
      "Current number of records: 0\n"
     ]
    }
   ],
   "source": [
    "# Initialization\n",
    "customers = Table(['name', 'address', 'age'])\n",
    "print(\"Current records:\", customers.records)\n",
    "print(\"Current number of records:\", customers.n_records)"
   ]
  },
  {
   "cell_type": "code",
   "execution_count": 11,
   "metadata": {
    "colab": {
     "base_uri": "https://localhost:8080/",
     "height": 52
    },
    "colab_type": "code",
    "executionInfo": {
     "elapsed": 588,
     "status": "ok",
     "timestamp": 1539760256765,
     "user": {
      "displayName": "Amit Rappel",
      "photoUrl": "",
      "userId": "16505003500853190417"
     },
     "user_tz": -180
    },
    "id": "bnstGq-l8wWZ",
    "outputId": "19a921ad-8c90-429f-c050-df47775211d3"
   },
   "outputs": [
    {
     "name": "stdout",
     "output_type": "stream",
     "text": [
      "Current records: [['Russell Crowe', 'Dizengoff 4', 51]]\n",
      "Current number of records: 1\n"
     ]
    }
   ],
   "source": [
    "# Calling add_record()\n",
    "customers.add_record(['Russell Crowe', 'Dizengoff 4', 51])\n",
    "print(\"Current records:\", customers.records)\n",
    "print(\"Current number of records:\", customers.n_records)"
   ]
  },
  {
   "cell_type": "code",
   "execution_count": 12,
   "metadata": {
    "colab": {
     "base_uri": "https://localhost:8080/",
     "height": 72
    },
    "colab_type": "code",
    "executionInfo": {
     "elapsed": 612,
     "status": "ok",
     "timestamp": 1539760318577,
     "user": {
      "displayName": "Amit Rappel",
      "photoUrl": "",
      "userId": "16505003500853190417"
     },
     "user_tz": -180
    },
    "id": "lssKsZQi8wWc",
    "outputId": "5cdb827a-5697-4ecb-bb21-b7d0011ebe7c"
   },
   "outputs": [
    {
     "name": "stdout",
     "output_type": "stream",
     "text": [
      "Current records: [['Russell Crowe', 'Dizengoff 4', 51], ['Nicolas Cage', 'Basel 7', 52]]\n",
      "Current number of records: 2\n"
     ]
    }
   ],
   "source": [
    "# Calling add_record() again\n",
    "customers.add_record(['Nicolas Cage', 'Basel 7', 52])\n",
    "print(\"Current records:\", customers.records)\n",
    "print(\"Current number of records:\", customers.n_records)"
   ]
  },
  {
   "cell_type": "markdown",
   "metadata": {
    "colab_type": "text",
    "id": "0O_o3Zht8wWg"
   },
   "source": [
    "Let's add some more methods to our _Table_ class to facilitate the work with tables. The methods we are going to add are:\n",
    "\n",
    "* _remove_\\__record(self, rec)_ - Removes from _self_ the specified record\n",
    "* _get_\\__column(self, field)_ - Returns a list with the values of the column associated with _field_. This method does **NOT** change _self_.\n",
    "* _get_\\__records(self, field, value)_ - Returns a _**Table**_ instance like _self_, but only with the records that have the value _value_ at the field _fields_. This method does **NOT** change _self_.\n",
    "* _get_\\__fields(self, *fields)_ - Returns a _**Table**_ instance like _self_, but only with the specified _fields_. This method does **NOT** change _self_."
   ]
  },
  {
   "cell_type": "code",
   "execution_count": 13,
   "metadata": {
    "colab": {},
    "colab_type": "code",
    "id": "gIVVFiOe8wWg"
   },
   "outputs": [],
   "source": [
    "class Table:\n",
    "    def __init__(self, fields):\n",
    "        self.fields = fields\n",
    "        self.n_fields = len(fields)\n",
    "        self.records = []\n",
    "        self.n_records = 0\n",
    "    \n",
    "    def add_record(self, rec):\n",
    "        self.records.append(rec)\n",
    "        self.n_records += 1\n",
    "        \n",
    "    def remove_record(self, rec):\n",
    "        self.records.remove(rec)\n",
    "        self.n_records -= 1\n",
    "        \n",
    "    def get_column(self, field):\n",
    "        ind = self.fields.index(field)\n",
    "        return [rec[ind] for rec in self.records]        \n",
    "                \n",
    "    def get_records(self, field, value):\n",
    "        ind = self.fields.index(field)\n",
    "        ret = Table(self.fields)\n",
    "        for rec in self.records:\n",
    "            if rec[ind] == value:\n",
    "                ret.add_record(rec)\n",
    "        return ret\n",
    "            \n",
    "    def get_fields(self, fields):\n",
    "        columns = [self.get_column(field) for field in fields]\n",
    "        records = [list(rec) for rec in zip(*columns)]\n",
    "        ret = Table(fields)\n",
    "        for rec in records:\n",
    "            ret.add_record(rec)\n",
    "        return ret"
   ]
  },
  {
   "cell_type": "code",
   "execution_count": 14,
   "metadata": {
    "colab": {
     "base_uri": "https://localhost:8080/",
     "height": 72
    },
    "colab_type": "code",
    "executionInfo": {
     "elapsed": 586,
     "status": "ok",
     "timestamp": 1539762111263,
     "user": {
      "displayName": "Amit Rappel",
      "photoUrl": "",
      "userId": "16505003500853190417"
     },
     "user_tz": -180
    },
    "id": "UsyFfDSJ8wWj",
    "outputId": "27c6ddd7-d8ff-4d10-9b15-e27fd5033ab3"
   },
   "outputs": [
    {
     "name": "stdout",
     "output_type": "stream",
     "text": [
      "Current records: [['Russell Crowe', 'Dizengoff 4', 51], ['Nicolas Cage', 'Basel 7', 52], ['Diane Keaton', 'Basel 9', 52]]\n",
      "Current number of records: 3\n"
     ]
    }
   ],
   "source": [
    "customers = Table(['name', 'address', 'age'])\n",
    "customers.add_record(['Russell Crowe', 'Dizengoff 4', 51])\n",
    "customers.add_record(['Nicolas Cage', 'Basel 7', 52])\n",
    "customers.add_record(['Diane Keaton', 'Basel 9', 52])\n",
    "print(\"Current records: {}\\nCurrent number of records: {}\".format(customers.records, customers.n_records))"
   ]
  },
  {
   "cell_type": "code",
   "execution_count": 15,
   "metadata": {
    "colab": {
     "base_uri": "https://localhost:8080/",
     "height": 34
    },
    "colab_type": "code",
    "executionInfo": {
     "elapsed": 596,
     "status": "ok",
     "timestamp": 1539762117829,
     "user": {
      "displayName": "Amit Rappel",
      "photoUrl": "",
      "userId": "16505003500853190417"
     },
     "user_tz": -180
    },
    "id": "hBmVhLUW8wWm",
    "outputId": "825ae926-ad30-47b7-9d0f-21d908805a5d"
   },
   "outputs": [
    {
     "name": "stdout",
     "output_type": "stream",
     "text": [
      "['Dizengoff 4', 'Basel 7', 'Basel 9']\n"
     ]
    }
   ],
   "source": [
    "ages = customers.get_column('address')\n",
    "print(ages)"
   ]
  },
  {
   "cell_type": "code",
   "execution_count": 16,
   "metadata": {
    "colab": {
     "base_uri": "https://localhost:8080/",
     "height": 52
    },
    "colab_type": "code",
    "executionInfo": {
     "elapsed": 625,
     "status": "ok",
     "timestamp": 1539762237827,
     "user": {
      "displayName": "Amit Rappel",
      "photoUrl": "",
      "userId": "16505003500853190417"
     },
     "user_tz": -180
    },
    "id": "tQmDyA2-8wWo",
    "outputId": "359f8872-6d65-4eb0-f8bb-7132a01c172d"
   },
   "outputs": [
    {
     "name": "stdout",
     "output_type": "stream",
     "text": [
      "<__main__.Table object at 0x000001DBEB3BA160>\n",
      "[['Nicolas Cage', 'Basel 7', 52], ['Diane Keaton', 'Basel 9', 52]]\n"
     ]
    }
   ],
   "source": [
    "aged_52 = customers.get_records('age', 52)\n",
    "print(aged_52)\n",
    "print(aged_52.records)"
   ]
  },
  {
   "cell_type": "code",
   "execution_count": 17,
   "metadata": {
    "colab": {
     "base_uri": "https://localhost:8080/",
     "height": 52
    },
    "colab_type": "code",
    "executionInfo": {
     "elapsed": 1145,
     "status": "ok",
     "timestamp": 1539762254729,
     "user": {
      "displayName": "Amit Rappel",
      "photoUrl": "",
      "userId": "16505003500853190417"
     },
     "user_tz": -180
    },
    "id": "d-5NrWgX8wWq",
    "outputId": "ce5b25f9-83aa-41fa-c80b-ac9668b2b8db"
   },
   "outputs": [
    {
     "name": "stdout",
     "output_type": "stream",
     "text": [
      "<__main__.Table object at 0x000001DBEB3BA1D0>\n",
      "[['Russell Crowe', 51], ['Nicolas Cage', 52], ['Diane Keaton', 52]]\n"
     ]
    }
   ],
   "source": [
    "names_and_ages = customers.get_fields(['name', 'age'])\n",
    "print(names_and_ages)\n",
    "print(names_and_ages.records)"
   ]
  },
  {
   "cell_type": "code",
   "execution_count": 18,
   "metadata": {
    "colab": {
     "base_uri": "https://localhost:8080/",
     "height": 34
    },
    "colab_type": "code",
    "executionInfo": {
     "elapsed": 629,
     "status": "ok",
     "timestamp": 1539762359694,
     "user": {
      "displayName": "Amit Rappel",
      "photoUrl": "",
      "userId": "16505003500853190417"
     },
     "user_tz": -180
    },
    "id": "bD0c8hza8wWs",
    "outputId": "e52285c5-ccc4-4ef1-b1a6-c9acee64171b"
   },
   "outputs": [
    {
     "name": "stdout",
     "output_type": "stream",
     "text": [
      "[['Nicolas Cage', 'Basel 7', 52]]\n"
     ]
    }
   ],
   "source": [
    "aged_52_name_and_age = customers.get_records('age', 52).get_records('name', 'Nicolas Cage')\n",
    "print(aged_52_name_and_age.records)"
   ]
  },
  {
   "cell_type": "markdown",
   "metadata": {
    "colab_type": "text",
    "id": "IFop_Z6E8wWt"
   },
   "source": [
    "## Examples"
   ]
  },
  {
   "cell_type": "markdown",
   "metadata": {
    "colab_type": "text",
    "id": "GkSa7qcw8wWv"
   },
   "source": [
    "One of the great features of classes is that they can be used for many applications. In the supermarket example we can use the same class for constructing tables for customers and products. For that we will use the files \"customers.txt\" and \"products.txt\"."
   ]
  },
  {
   "cell_type": "markdown",
   "metadata": {
    "colab_type": "text",
    "id": "jCV71f2c-Nlf"
   },
   "source": [
    "> **NOTE:** This chapter should run smoothly on a stand-alone machine. However, whe running on Google Colab, we should consider the file transfer from our local machine to Google Colab's remote server. This can be used with your Google Drive with the following syntax for uploading files to Google Colab:\n",
    ">\n",
    "> `from google.colab import files`\n",
    "> `uploaded = files.upload()`\n",
    ">\n",
    "> or the following syntax for downloading files\n",
    ">\n",
    "> `files.download(filename)`"
   ]
  },
  {
   "cell_type": "code",
   "execution_count": 19,
   "metadata": {
    "colab": {
     "base_uri": "https://localhost:8080/",
     "height": 73,
     "resources": {
      "http://localhost:8080/nbextensions/google.colab/files.js": {
       "data": "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",
       "headers": [
        [
         "content-type",
         "application/javascript"
        ]
       ],
       "ok": true,
       "status": 200,
       "status_text": ""
      }
     }
    },
    "colab_type": "code",
    "executionInfo": {
     "elapsed": 25677,
     "status": "ok",
     "timestamp": 1539763431704,
     "user": {
      "displayName": "Amit Rappel",
      "photoUrl": "",
      "userId": "16505003500853190417"
     },
     "user_tz": -180
    },
    "id": "vXSKMKhQ-ZeR",
    "outputId": "6a4b6f5f-ad41-475c-830f-a70a97a594df"
   },
   "outputs": [],
   "source": [
    "import sys\n",
    "\n",
    "if 'google.colab' in sys.modules:\n",
    "    from google.colab import files\n",
    "    uploaded = files.upload()"
   ]
  },
  {
   "cell_type": "markdown",
   "metadata": {
    "colab_type": "text",
    "id": "-1FYp8of8wWv"
   },
   "source": [
    "### Customers"
   ]
  },
  {
   "cell_type": "code",
   "execution_count": 20,
   "metadata": {
    "colab": {},
    "colab_type": "code",
    "id": "qTqC9mYH8wWw"
   },
   "outputs": [],
   "source": [
    "customers = Table(['name', 'street', 'house', 'appartment', 'floor'])\n",
    "with open('customers.txt') as f:\n",
    "    for line in f:\n",
    "        customer = line.split(',')\n",
    "        \n",
    "        name = ' '.join(customer[0].split()[1:])\n",
    "        street = customer[1].split()[1]\n",
    "        house = int(customer[2].split()[1])\n",
    "        appartment = int(customer[3].split()[1])\n",
    "        floor = int(customer[4].split()[1])\n",
    "        \n",
    "        customers.add_record([name, street, house, appartment, floor])"
   ]
  },
  {
   "cell_type": "markdown",
   "metadata": {
    "colab_type": "text",
    "id": "Yhd1nrD88wWy"
   },
   "source": [
    "**Q1:** In what streets our customers live?"
   ]
  },
  {
   "cell_type": "code",
   "execution_count": 21,
   "metadata": {
    "colab": {
     "base_uri": "https://localhost:8080/",
     "height": 34
    },
    "colab_type": "code",
    "executionInfo": {
     "elapsed": 636,
     "status": "ok",
     "timestamp": 1539763979065,
     "user": {
      "displayName": "Amit Rappel",
      "photoUrl": "",
      "userId": "16505003500853190417"
     },
     "user_tz": -180
    },
    "id": "m-OEMawa8wW0",
    "outputId": "797de6c8-96ea-4037-a578-e21c475b8cf3"
   },
   "outputs": [
    {
     "name": "stdout",
     "output_type": "stream",
     "text": [
      "{'Hertzel', 'Allenby', 'Dizengoff', 'Weizmann', 'Basel'}\n"
     ]
    }
   ],
   "source": [
    "print(set(customers.get_column('street')))"
   ]
  },
  {
   "cell_type": "markdown",
   "metadata": {
    "colab_type": "text",
    "id": "9AA9SXPM8wW2"
   },
   "source": [
    "**Q2:** How many customers do we have on each street?"
   ]
  },
  {
   "cell_type": "code",
   "execution_count": 22,
   "metadata": {
    "colab": {
     "base_uri": "https://localhost:8080/",
     "height": 105
    },
    "colab_type": "code",
    "executionInfo": {
     "elapsed": 583,
     "status": "ok",
     "timestamp": 1539764305698,
     "user": {
      "displayName": "Amit Rappel",
      "photoUrl": "",
      "userId": "16505003500853190417"
     },
     "user_tz": -180
    },
    "id": "q36RO3uw8wW3",
    "outputId": "642aa10e-a25d-4893-c589-e7fe0f2dfbd7"
   },
   "outputs": [
    {
     "name": "stdout",
     "output_type": "stream",
     "text": [
      "There are 28 customers on Hertzel street.\n",
      "There are 15 customers on Allenby street.\n",
      "There are 23 customers on Dizengoff street.\n",
      "There are 26 customers on Weizmann street.\n",
      "There are 19 customers on Basel street.\n"
     ]
    }
   ],
   "source": [
    "for street in set(customers.get_column('street')):\n",
    "    print(\"There are {} customers on {} street.\".format(customers.get_records('street', street).n_records, street))"
   ]
  },
  {
   "cell_type": "markdown",
   "metadata": {
    "colab_type": "text",
    "id": "rMU1KFeB8wW5"
   },
   "source": [
    "**Q3:** Who are the customers that live in the 3rd floor or higher?"
   ]
  },
  {
   "cell_type": "code",
   "execution_count": 23,
   "metadata": {
    "colab": {},
    "colab_type": "code",
    "id": "F0VGtspB8wW6",
    "outputId": "47d2b4d2-af5f-45d4-d325-ee62c4faaeb7"
   },
   "outputs": [
    {
     "name": "stdout",
     "output_type": "stream",
     "text": [
      "[['Reese Witherspoon', 'Charlton Heston', 'Burt Lancaster', 'Adrien Brody', 'Eddie Redmayne', 'Simone Signoret', 'Natalie Portman', 'Marlee Matlin', 'David Niven', 'Grace Kelly', 'Anne Bancroft', 'Art Carney', 'Jeff Bridges', 'Patricia Neal', 'Diane Keaton', 'Anna Magnani', 'F. Murray Abraham', 'Halle Berry', 'Robert Duvall', 'Jack Nicholson', 'Katharine Hepburn', 'Emma Thompson', 'Audrey Hepburn', 'Denzel Washington', 'Lee Marvin', 'William Holden', 'Jamie Foxx', 'Geraldine Page', 'Susan Hayward', 'Al Pacino', 'Sally Field', 'Jennifer Lawrence', 'Kate Winslet', 'John Wayne', 'Ellen Burstyn', 'Gwyneth Paltrow', 'Peter Finch', 'Nicole Kidman'], ['Julie Christie', 'Matthew McConaughey', 'Elizabeth Taylor', 'Frances McDormand', 'Paul Newman', 'Rex Harrison', 'Cate Blanchett', 'Julianne Moore', 'Sophia Loren', 'Roberto Benigni', 'Ben Kingsley', 'Tom Hanks']]\n"
     ]
    }
   ],
   "source": [
    "max_floor = max(customers.get_column('floor'))\n",
    "print([customers.get_records('floor', floor).get_column('name') for floor in range(3, max_floor+1)])"
   ]
  }
 ],
 "metadata": {
  "colab": {
   "collapsed_sections": [],
   "name": "oop_basics_notebook.ipynb",
   "provenance": [],
   "version": "0.3.2"
  },
  "kernelspec": {
   "display_name": "Python 3",
   "language": "python",
   "name": "python3"
  },
  "language_info": {
   "codemirror_mode": {
    "name": "ipython",
    "version": 3
   },
   "file_extension": ".py",
   "mimetype": "text/x-python",
   "name": "python",
   "nbconvert_exporter": "python",
   "pygments_lexer": "ipython3",
   "version": "3.7.1"
  }
 },
 "nbformat": 4,
 "nbformat_minor": 1
}
