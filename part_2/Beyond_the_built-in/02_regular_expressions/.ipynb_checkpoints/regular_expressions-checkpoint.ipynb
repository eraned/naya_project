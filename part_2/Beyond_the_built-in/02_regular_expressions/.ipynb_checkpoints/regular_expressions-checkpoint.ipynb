{
 "cells": [
  {
   "cell_type": "code",
   "execution_count": 2,
   "metadata": {
    "collapsed": true
   },
   "outputs": [],
   "source": [
    "import re"
   ]
  },
  {
   "cell_type": "markdown",
   "metadata": {},
   "source": [
    "# Regular Expression"
   ]
  },
  {
   "cell_type": "markdown",
   "metadata": {},
   "source": [
    "## Disclosure\n",
    "\n",
    "The contect and the examples in this document are taken and/or inspired by the following sources:\n",
    "\n",
    "* [Python re module official document][1]\n",
    "* [Python How-Toguide][2]\n",
    "* [Python Module of the week][3]\n",
    "* [datacamp tutorial on re][4]\n",
    "* [Mastering Regular Expressions, 3rd Edition][5]\n",
    "\n",
    "an online tool for checking and creating regex pattern:\n",
    "* [regex online][6]\n",
    "\n",
    "[1]: https://docs.python.org/3.6/library/re.html# \"The module re\"\n",
    "[2]: https://docs.python.org/3/howto/regex.html#regex-howto \"Python How-To re\"\n",
    "[3]: https://pymotw.com/3/re/index.html \"Python module of the week\"\n",
    "[4]: https://www.datacamp.com/community/tutorials/python-regular-expression-tutorial \"datacamp tutorial\"\n",
    "[5]: https://www.safaribooksonline.com/library/view/mastering-regular-expressions/0596528124/ \"Mastering Regular Expressions\"\n",
    "[6]: https://pythex.org/ \"regex online tool\"\n"
   ]
  },
  {
   "cell_type": "markdown",
   "metadata": {},
   "source": [
    "## Introduction"
   ]
  },
  {
   "cell_type": "markdown",
   "metadata": {},
   "source": [
    "[Regular expression][1] (aka regex) are essentially a tiny, highly specialized programming language embedded in pretty much every computer language. In Python it is available through the [_**re module**_][2].\n",
    "It is widely used in natural language processing, web applications that require validating string input (like email address) and pretty much most data science projects that involve text mining.\n",
    "Using this little language, we can specify a general pattern of what we are looking for (e.g. e-mail addresses, phone numbers, dates, names, etc.) and ask question such as “Does this string match the pattern?”, or “Is there a match for the pattern anywhere in this string?”. We can also use REs to modify a string or to split it apart in various ways.\n",
    "\n",
    "\n",
    "[1]: https://en.wikipedia.org/wiki/Regular_expression \"Regular expression - Wikipedia\"\n",
    "[2]: https://docs.python.org/3/library/re.html# \"The module re\""
   ]
  },
  {
   "cell_type": "markdown",
   "metadata": {},
   "source": [
    "## Regex pattern and syntax"
   ]
  },
  {
   "cell_type": "markdown",
   "metadata": {},
   "source": [
    "Regex patterns are composed of two types of characters:\n",
    "* literals - Ordinary characters which match themselves exactly\n",
    "* metacharacters (special) - special characters that have  a special meaning\n",
    "\n",
    "To specify a pattern, we need to use the re's syntax.\n",
    "Most letters and characters are literals characters, meaning they will simply match themselves and do not have a special meaning in the regular expression syntax. For example, the regular expression _test_ will match the string \"test\" exactly.\n",
    "However, Regular Expressions support more powerful patterns than simple literal text strings. This is done by combining literal text and metacharacters. Much of this document is devoted to discussing various metacharacters and what they do. The attached cheatsheet below summarizes the main syntax concepts.\n"
   ]
  },
  {
   "cell_type": "markdown",
   "metadata": {},
   "source": [
    "<img src=\"regular_expressions_cheat_sheet.png\" alt=\"RE cheatsheet\" style=\"width: 800px;\"/>"
   ]
  },
  {
   "cell_type": "markdown",
   "metadata": {},
   "source": [
    "> **NOTE:** The '\\*', '+', and '?' quantifiers are all **greedy**, namely they match as much text as possible to the given pattern (regular expression)."
   ]
  },
  {
   "cell_type": "markdown",
   "metadata": {},
   "source": [
    "## Basic usage"
   ]
  },
  {
   "cell_type": "markdown",
   "metadata": {},
   "source": [
    "### search() and match() function"
   ]
  },
  {
   "cell_type": "markdown",
   "metadata": {},
   "source": [
    "The most common use for re is to search for patterns in text. The _search()_ function takes the pattern and text to scan, and returns a **Match object** when the pattern is found. If more than single match exist, the first occurrence of the pattern is returned. If the pattern is not found, _search()_ returns None.\n",
    "\n",
    "Each Match object holds information about the nature of the match, including the original input string, the regular expression used, and the location within the original string where the pattern occurs.\n"
   ]
  },
  {
   "cell_type": "code",
   "execution_count": 3,
   "metadata": {},
   "outputs": [
    {
     "name": "stdout",
     "output_type": "stream",
     "text": [
      "<class '_sre.SRE_Match'>\n",
      "Found \"this\" in \"Does this text match the pattern?\"\n",
      "from 5 to 9 (\"this\")\n"
     ]
    }
   ],
   "source": [
    "pattern = 'this'\n",
    "text = 'Does this text match the pattern?'\n",
    "\n",
    "match = re.search(pattern, text)\n",
    "print(type(match))\n",
    "\n",
    "s = match.start()\n",
    "e = match.end()\n",
    "\n",
    "print('Found \"{}\" in \"{}\"\\nfrom {} to {} (\"{}\")'.format(\n",
    "    match.re.pattern, match.string, s, e, match.group()))\n"
   ]
  },
  {
   "cell_type": "markdown",
   "metadata": {},
   "source": [
    "The group() function returns the string matched by the re. You will see this function in more detail later."
   ]
  },
  {
   "cell_type": "markdown",
   "metadata": {},
   "source": [
    "Likewise, _re.match()_ also returns a match object. But the difference is, it requires the pattern to be present at the beginning of the text itself.\n",
    "\n"
   ]
  },
  {
   "cell_type": "code",
   "execution_count": 10,
   "metadata": {},
   "outputs": [
    {
     "name": "stdout",
     "output_type": "stream",
     "text": [
      "<class 'NoneType'>\n"
     ]
    }
   ],
   "source": [
    "pattern = 'this'\n",
    "text = 'Does this text match the pattern?'\n",
    "\n",
    "match = re.match(pattern, text)\n",
    "\n",
    "print(type(match))\n",
    "# s = match.start()\n",
    "# e = match.end()\n",
    "\n",
    "# print('Found \"{}\" in \"{}\"\\nfrom {} to {} (\"{}\")'.format(\n",
    "#     match.re.pattern, match.string, s, e, text[s:e]))\n"
   ]
  },
  {
   "cell_type": "markdown",
   "metadata": {},
   "source": [
    "Since _search()_ and _match()_ return None when there is no match, Match objects always have a boolean value of True."
   ]
  },
  {
   "cell_type": "code",
   "execution_count": 12,
   "metadata": {},
   "outputs": [
    {
     "name": "stdout",
     "output_type": "stream",
     "text": [
      "when no match - bool(Match object) is - False\n",
      "when match - bool(Match object) is - True\n"
     ]
    }
   ],
   "source": [
    "pattern = 'this'\n",
    "text = 'Does this text match the pattern?'\n",
    "\n",
    "m1 = re.match(pattern, text)\n",
    "m2 = re.search(pattern, text)\n",
    "\n",
    "print(\"when no match - bool(Match object) is -\", bool(m1))\n",
    "print(\"when match - bool(Match object) is -\", bool(m2))"
   ]
  },
  {
   "cell_type": "markdown",
   "metadata": {},
   "source": [
    "## findall() and finditer()"
   ]
  },
  {
   "cell_type": "markdown",
   "metadata": {},
   "source": [
    "The _search()_ and _match()_ function used to look for single match in the text. The _findall()_ function returns a list with all of the substrings of the input that match the pattern without overlapping.\n",
    "\n"
   ]
  },
  {
   "cell_type": "code",
   "execution_count": 15,
   "metadata": {},
   "outputs": [
    {
     "name": "stdout",
     "output_type": "stream",
     "text": [
      "['ab', 'ab']\n"
     ]
    }
   ],
   "source": [
    "pattern = 'ab'\n",
    "text = 'abbaaabbbbaaaaa'\n",
    "\n",
    "result = re.findall(pattern, text)\n",
    "\n",
    "print(result)"
   ]
  },
  {
   "cell_type": "markdown",
   "metadata": {},
   "source": [
    "Similary, the _finditer()_ function returns an iterator that produces Match instances instead of the strings returned by findall().\n",
    "\n"
   ]
  },
  {
   "cell_type": "code",
   "execution_count": 20,
   "metadata": {},
   "outputs": [
    {
     "name": "stdout",
     "output_type": "stream",
     "text": [
      "<callable_iterator object at 0x0000026AD3946438>\n",
      "Found this at 5:9\n"
     ]
    }
   ],
   "source": [
    "result = re.finditer(pattern, text)\n",
    "\n",
    "print(result)\n",
    "\n",
    "for match in result:\n",
    "    s = match.start()\n",
    "    e = match.end()\n",
    "    print('Found {} at {:d}:{:d}'.format(\n",
    "        text[s:e], s, e))\n"
   ]
  },
  {
   "cell_type": "markdown",
   "metadata": {},
   "source": [
    "## Pattern Syntax and metacharacters"
   ]
  },
  {
   "cell_type": "markdown",
   "metadata": {},
   "source": [
    "Metacharacters (aka special characters) are characters which do not match themselves as seen but actually have a special meaning when used in a regular expression.\n",
    "\n",
    "we'll see few examples of the most widely used special characters. a more comprehensive list of the special characters and their meaning can be find [here](https://docs.python.org/3/library/re.html)"
   ]
  },
  {
   "cell_type": "markdown",
   "metadata": {},
   "source": [
    "### wild card characters"
   ]
  },
  {
   "cell_type": "markdown",
   "metadata": {},
   "source": [
    "* . - A period. Matches any single character except newline character.\n"
   ]
  },
  {
   "cell_type": "code",
   "execution_count": 26,
   "metadata": {},
   "outputs": [
    {
     "data": {
      "text/plain": [
       "['big', 'bag']"
      ]
     },
     "execution_count": 26,
     "metadata": {},
     "output_type": "execute_result"
    }
   ],
   "source": [
    "text = \"I have a big bag with 99 candies inside\"\n",
    "\n",
    "re.findall('b.g', text)\n"
   ]
  },
  {
   "cell_type": "markdown",
   "metadata": {},
   "source": [
    "* \\w - Lowercase w. Matches any single letter, digit or underscore"
   ]
  },
  {
   "cell_type": "code",
   "execution_count": 31,
   "metadata": {},
   "outputs": [
    {
     "data": {
      "text/plain": [
       "['1st', '100']"
      ]
     },
     "execution_count": 31,
     "metadata": {},
     "output_type": "execute_result"
    }
   ],
   "source": [
    "text = \"1st place got 100$, 2nd place got 10$\"\n",
    "\n",
    "re.findall('1\\w\\w', text)"
   ]
  },
  {
   "cell_type": "markdown",
   "metadata": {},
   "source": [
    "* \\s - Lowercase s. Matches a single whitespace character like: space, newline, tab, return.\n"
   ]
  },
  {
   "cell_type": "code",
   "execution_count": 32,
   "metadata": {},
   "outputs": [
    {
     "data": {
      "text/plain": [
       "'Have fun'"
      ]
     },
     "execution_count": 32,
     "metadata": {},
     "output_type": "execute_result"
    }
   ],
   "source": [
    "re.search('Have\\sfun', 'Have fun').group()\n"
   ]
  },
  {
   "cell_type": "markdown",
   "metadata": {},
   "source": [
    "* \\d - Lowercase d. Matches decimal digit 0-9."
   ]
  },
  {
   "cell_type": "code",
   "execution_count": 64,
   "metadata": {},
   "outputs": [
    {
     "data": {
      "text/plain": [
       "'99'"
      ]
     },
     "execution_count": 64,
     "metadata": {},
     "output_type": "execute_result"
    }
   ],
   "source": [
    "re.search(r'\\d\\d', 'The price is 99 nis').group()\n"
   ]
  },
  {
   "cell_type": "markdown",
   "metadata": {},
   "source": [
    "* | - Alternation ('or' operation)"
   ]
  },
  {
   "cell_type": "code",
   "execution_count": 68,
   "metadata": {},
   "outputs": [
    {
     "data": {
      "text/plain": [
       "['gray', 'grey']"
      ]
     },
     "execution_count": 68,
     "metadata": {},
     "output_type": "execute_result"
    }
   ],
   "source": [
    "text = \"should I write gray or grey?\"\n",
    "re.findall('gray|grey', text)"
   ]
  },
  {
   "cell_type": "markdown",
   "metadata": {},
   "source": [
    "### Character Sets"
   ]
  },
  {
   "cell_type": "markdown",
   "metadata": {},
   "source": [
    "A character set (also called character class) is a group of characters, any one of which can match at that point in the pattern. For example, [ab] would match either a or b, [abc] would match a or b or c"
   ]
  },
  {
   "cell_type": "code",
   "execution_count": 57,
   "metadata": {},
   "outputs": [
    {
     "data": {
      "text/plain": [
       "['gray', 'grey']"
      ]
     },
     "execution_count": 57,
     "metadata": {},
     "output_type": "execute_result"
    }
   ],
   "source": [
    "text = \"should I write gray or grey?\"\n",
    "re.findall('gr[ae]y', text)"
   ]
  },
  {
   "cell_type": "code",
   "execution_count": 56,
   "metadata": {},
   "outputs": [
    {
     "name": "stdout",
     "output_type": "stream",
     "text": [
      "1 - Number: 5\n",
      "2 - None\n"
     ]
    }
   ],
   "source": [
    "print('1 -', re.search(r'Number: [0-6]', 'Number: 5').group())\n",
    "print('2 -',re.search(r'Number: [0-6]', 'Number: 8'))\n"
   ]
  },
  {
   "cell_type": "markdown",
   "metadata": {},
   "source": [
    "with character sets, we can also specify a range of characters.\n",
    "* [0-9] matches a single digit between 0 and 9\n",
    "* [A-Z] matches a single captial letter\n",
    "* [0-9a-z] matches a single digit or a lowercase letter"
   ]
  },
  {
   "cell_type": "code",
   "execution_count": 60,
   "metadata": {},
   "outputs": [
    {
     "data": {
      "text/plain": [
       "['M', 'L', 'I', 'T', 'A']"
      ]
     },
     "execution_count": 60,
     "metadata": {},
     "output_type": "execute_result"
    }
   ],
   "source": [
    "text = \"My name is Liran and I'm living in Tel-Aviv\"\n",
    "re.findall('[A-Z]', text)"
   ]
  },
  {
   "cell_type": "markdown",
   "metadata": {},
   "source": [
    "A character set can also be used to exclude specific characters. The carat (^) means to look for characters that are not in the set following the carat.\n",
    "\n"
   ]
  },
  {
   "cell_type": "code",
   "execution_count": 63,
   "metadata": {},
   "outputs": [
    {
     "data": {
      "text/plain": [
       "'Number: 8'"
      ]
     },
     "execution_count": 63,
     "metadata": {},
     "output_type": "execute_result"
    }
   ],
   "source": [
    "re.search(r'Number: [^0-6]', 'Number: 8').group()\n"
   ]
  },
  {
   "cell_type": "code",
   "execution_count": 61,
   "metadata": {},
   "outputs": [
    {
     "data": {
      "text/plain": [
       "['This', 'is', 'some', 'text', 'with', 'punctuation']"
      ]
     },
     "execution_count": 61,
     "metadata": {},
     "output_type": "execute_result"
    }
   ],
   "source": [
    "text = 'This is some text -- with punctuation.'\n",
    "\n",
    "re.findall('[^-. ]+', text)"
   ]
  },
  {
   "cell_type": "markdown",
   "metadata": {},
   "source": [
    "* Special characters lose their special meaning inside sets. For example, [(+*)] will match any of the literal characters '(', '+', '*', or ')'.\n",
    "* Character classes such as \\w or \\S (defined below) are also accepted inside a set"
   ]
  },
  {
   "cell_type": "markdown",
   "metadata": {},
   "source": [
    "### Repetition (quantifier)"
   ]
  },
  {
   "cell_type": "markdown",
   "metadata": {},
   "source": [
    "* \\+ - Checks for one or more characters to its left.\n",
    "\n"
   ]
  },
  {
   "cell_type": "code",
   "execution_count": 36,
   "metadata": {},
   "outputs": [
    {
     "data": {
      "text/plain": [
       "'Cooookie'"
      ]
     },
     "execution_count": 36,
     "metadata": {},
     "output_type": "execute_result"
    }
   ],
   "source": [
    "re.search('Co+kie', 'Cooookie').group()\n"
   ]
  },
  {
   "cell_type": "markdown",
   "metadata": {},
   "source": [
    "* \\* - Checks for zero or more characters to its left.\n"
   ]
  },
  {
   "cell_type": "code",
   "execution_count": 37,
   "metadata": {},
   "outputs": [
    {
     "data": {
      "text/plain": [
       "'Cooookie'"
      ]
     },
     "execution_count": 37,
     "metadata": {},
     "output_type": "execute_result"
    }
   ],
   "source": [
    "re.search('Ca*o*kie', 'Cooookie').group()\n"
   ]
  },
  {
   "cell_type": "markdown",
   "metadata": {},
   "source": [
    "* ? - Checks for exactly zero or one character to its left.\n"
   ]
  },
  {
   "cell_type": "code",
   "execution_count": 38,
   "metadata": {},
   "outputs": [
    {
     "data": {
      "text/plain": [
       "'Color'"
      ]
     },
     "execution_count": 38,
     "metadata": {},
     "output_type": "execute_result"
    }
   ],
   "source": [
    "re.search('Colou?r', 'Color').group()\n"
   ]
  },
  {
   "cell_type": "markdown",
   "metadata": {},
   "source": [
    "* {x} - Repeat exactly x number of times.\n",
    "* {x,} - Repeat at least x times or more.\n",
    "* {x, y} - Repeat at least x times but no more than y times.\n",
    "\n"
   ]
  },
  {
   "cell_type": "code",
   "execution_count": 49,
   "metadata": {},
   "outputs": [
    {
     "data": {
      "text/plain": [
       "['65']"
      ]
     },
     "execution_count": 49,
     "metadata": {},
     "output_type": "execute_result"
    }
   ],
   "source": [
    "text = \"His grade is 65\"\n",
    "re.findall('\\d{1,3}', text)\n"
   ]
  },
  {
   "cell_type": "markdown",
   "metadata": {},
   "source": [
    "## Greedy search"
   ]
  },
  {
   "cell_type": "markdown",
   "metadata": {},
   "source": [
    "When repeating a regular expression, as in a\\*, the resulting action is to consume as much of the pattern as possible\n",
    "This so-called greedy behavior may result in fewer individual matches, or the matches may include more of the input text than intended."
   ]
  },
  {
   "cell_type": "code",
   "execution_count": 80,
   "metadata": {},
   "outputs": [],
   "source": [
    "text = \\\n",
    "\"At 11:40 PM on 14 April 1912, during Titanic's maiden voyage, she \" \\\n",
    "\"hit an iceberg in the Atlantic Ocean. The iceberg broke the Titanic's \" \\\n",
    "\"hull (bottom), letting water into the ship. The Titanic sank two hours \" \\\n",
    "\"and forty minutes later at 2:20 AM on 15 April.\""
   ]
  },
  {
   "cell_type": "markdown",
   "metadata": {},
   "source": [
    "Lets try extract sentences from the text.\n",
    "\n",
    "* a sentence usually start with a capital letter -> [A-Z]\n",
    "* following there is a sequence of characters (with no limit on its length) -> .*\n",
    "* a sentence usually ends with a period ->\\\\.\n",
    "\n",
    "we'll use the pattern \"[A-Z].*\\\\.\":\n"
   ]
  },
  {
   "cell_type": "code",
   "execution_count": 72,
   "metadata": {},
   "outputs": [
    {
     "data": {
      "text/plain": [
       "\"At 11:40 PM on 14 April 1912, during Titanic's maiden voyage, she hit an iceberg in the Atlantic Ocean. The iceberg broke the Titanic's hull (bottom), letting water into the ship. The Titanic sank two hours and forty minutes later at 2:20 AM on 15 April.\""
      ]
     },
     "execution_count": 72,
     "metadata": {},
     "output_type": "execute_result"
    }
   ],
   "source": [
    "re.search('[A-Z].*\\.', text).group()"
   ]
  },
  {
   "cell_type": "code",
   "execution_count": 75,
   "metadata": {},
   "outputs": [
    {
     "data": {
      "text/plain": [
       "'<h1>TITLE</h1>'"
      ]
     },
     "execution_count": 75,
     "metadata": {},
     "output_type": "execute_result"
    }
   ],
   "source": [
    "heading  = r'<h1>TITLE</h1>'\n",
    "re.search(r'<.*>', heading).group()\n"
   ]
  },
  {
   "cell_type": "markdown",
   "metadata": {},
   "source": [
    "Adding ? after the qualifier makes it perform the match in a non-greedy or minimal fashion; That is, as few characters as possible will be matched (a lazy search)"
   ]
  },
  {
   "cell_type": "code",
   "execution_count": 74,
   "metadata": {},
   "outputs": [
    {
     "data": {
      "text/plain": [
       "\"At 11:40 PM on 14 April 1912, during Titanic's maiden voyage, she hit an iceberg in the Atlantic Ocean.\""
      ]
     },
     "execution_count": 74,
     "metadata": {},
     "output_type": "execute_result"
    }
   ],
   "source": [
    "re.search('[A-Z].*?\\.', text).group()"
   ]
  },
  {
   "cell_type": "code",
   "execution_count": 76,
   "metadata": {},
   "outputs": [
    {
     "data": {
      "text/plain": [
       "'<h1>'"
      ]
     },
     "execution_count": 76,
     "metadata": {},
     "output_type": "execute_result"
    }
   ],
   "source": [
    "heading  = r'<h1>TITLE</h1>'\n",
    "re.search(r'<.*?>', heading).group()\n"
   ]
  },
  {
   "cell_type": "code",
   "execution_count": 81,
   "metadata": {},
   "outputs": [
    {
     "name": "stdout",
     "output_type": "stream",
     "text": [
      "['11:40 PM on 14 April 1912']\n",
      "['11:40 PM on 14 April 1912', '2:20 AM on 15 April']\n"
     ]
    }
   ],
   "source": [
    "print(re.findall(\"\\d+:\\d+ [AP]M on \\d+ [A-Z][a-z]+\\s\\d{4}\", text))\n",
    "print(re.findall(\"\\d+:\\d+ [AP]M on \\d+ [A-Z][a-z]+\\s?\\d{,4}\", text))"
   ]
  },
  {
   "cell_type": "markdown",
   "metadata": {},
   "source": [
    "## Groups"
   ]
  },
  {
   "cell_type": "markdown",
   "metadata": {},
   "source": [
    "Parts of a regular expression pattern bounded by parenthesis() are called groups. The parenthesis does not change what the expression matches, but rather forms groups within the matched sequence.\n",
    "\n",
    "we have been using the group() function all along in the examples above. The plain match.group() without any argument is still the whole matched text as usual."
   ]
  },
  {
   "cell_type": "code",
   "execution_count": 78,
   "metadata": {},
   "outputs": [
    {
     "name": "stdout",
     "output_type": "stream",
     "text": [
      "info@naya.com\n",
      "info\n",
      "naya.com\n"
     ]
    }
   ],
   "source": [
    "text = \"Please contact us at: info@naya.com\"\n",
    "\n",
    "pattern = '([\\w\\.-]+)@([\\w\\.-]+)'\n",
    "\n",
    "match = re.search(pattern, text)\n",
    "\n",
    "print(match.group()) # The whole matched text\n",
    "print(match.group(1)) # The username (group 1)\n",
    "print(match.group(2)) # The host (group 2)"
   ]
  },
  {
   "cell_type": "markdown",
   "metadata": {},
   "source": [
    "## Text 1"
   ]
  },
  {
   "cell_type": "code",
   "execution_count": 6,
   "metadata": {
    "collapsed": false
   },
   "outputs": [],
   "source": [
    "text1 = \"Samuel Langhorne Clemens (November 30, 1835 – April 21, 1910), \" \\\n",
    "\"better known by his pen name Mark Twain, was an American writer, \" \\\n",
    "\"entrepreneur, publisher and lecturer. Among his novels are \" \\\n",
    "\"The Adventures of Tom Sawyer (1876) and its sequel, \" \\\n",
    "\"Adventures of Huckleberry Finn (1885).\""
   ]
  },
  {
   "cell_type": "markdown",
   "metadata": {},
   "source": [
    "### Letters"
   ]
  },
  {
   "cell_type": "code",
   "execution_count": 6,
   "metadata": {
    "collapsed": false
   },
   "outputs": [
    {
     "name": "stdout",
     "output_type": "stream",
     "text": [
      "['S', 'L', 'N', 'M', 'T', 'T', 'T', 'S', 'H', 'F']\n"
     ]
    }
   ],
   "source": [
    "print(re.findall('[F-T]', text1))"
   ]
  },
  {
   "cell_type": "code",
   "execution_count": 7,
   "metadata": {
    "collapsed": false
   },
   "outputs": [
    {
     "name": "stdout",
     "output_type": "stream",
     "text": [
      "['Sa', 'La', 'Cl', 'No', 'Ap', 'Ma', 'Tw', 'Am', 'Am', 'Th', 'Ad', 'To', 'Sa', 'Ad', 'Hu', 'Fi']\n"
     ]
    }
   ],
   "source": [
    "print(re.findall('[A-Z][a-z]', text1))"
   ]
  },
  {
   "cell_type": "code",
   "execution_count": 8,
   "metadata": {
    "collapsed": false
   },
   "outputs": [
    {
     "name": "stdout",
     "output_type": "stream",
     "text": [
      "['Langhorn', 'November', 'American', 'Adventur', 'Adventur', 'Hucklebe']\n"
     ]
    }
   ],
   "source": [
    "print(re.findall('[A-Z][a-z]{7}', text1))"
   ]
  },
  {
   "cell_type": "code",
   "execution_count": 9,
   "metadata": {
    "collapsed": false
   },
   "outputs": [
    {
     "name": "stdout",
     "output_type": "stream",
     "text": [
      "['Samuel', 'Langhorne', 'Clemens', 'November', 'April', 'Mark', 'Twain', 'American', 'Among', 'The', 'Adventures', 'Tom', 'Sawyer', 'Adventures', 'Huckleberry', 'Finn']\n"
     ]
    }
   ],
   "source": [
    "print(re.findall('[A-Z][a-z]+', text1))"
   ]
  },
  {
   "cell_type": "code",
   "execution_count": 10,
   "metadata": {
    "collapsed": false
   },
   "outputs": [
    {
     "name": "stdout",
     "output_type": "stream",
     "text": [
      "['Samuel Langhorne', 'Mark Twain', 'The Adventures', 'Tom Sawyer', 'Huckleberry Finn']\n"
     ]
    }
   ],
   "source": [
    "print(re.findall('[A-Z][a-z]+ [A-Z][a-z]+', text1))"
   ]
  },
  {
   "cell_type": "markdown",
   "metadata": {},
   "source": [
    "### Classes"
   ]
  },
  {
   "cell_type": "code",
   "execution_count": 11,
   "metadata": {
    "collapsed": false
   },
   "outputs": [
    {
     "name": "stdout",
     "output_type": "stream",
     "text": [
      "['3', '0', '1', '8', '3', '5', '2', '1', '1', '9', '1', '0', '1', '8', '7', '6', '1', '8', '8', '5']\n"
     ]
    }
   ],
   "source": [
    "print(re.findall('\\d', text1))"
   ]
  },
  {
   "cell_type": "code",
   "execution_count": 12,
   "metadata": {
    "collapsed": false
   },
   "outputs": [
    {
     "name": "stdout",
     "output_type": "stream",
     "text": [
      "['30', '1835', '21', '1910', '1876', '1885']\n"
     ]
    }
   ],
   "source": [
    "print(re.findall('\\d+', text1))"
   ]
  },
  {
   "cell_type": "code",
   "execution_count": 13,
   "metadata": {
    "collapsed": false
   },
   "outputs": [
    {
     "name": "stdout",
     "output_type": "stream",
     "text": [
      "['Adventures of Tom', 'Adventures of Huckleberry']\n"
     ]
    }
   ],
   "source": [
    "print(re.findall('\\S+ of \\S+', text1))"
   ]
  },
  {
   "cell_type": "markdown",
   "metadata": {},
   "source": [
    "### Patterns"
   ]
  },
  {
   "cell_type": "code",
   "execution_count": 14,
   "metadata": {
    "collapsed": false
   },
   "outputs": [
    {
     "name": "stdout",
     "output_type": "stream",
     "text": [
      "['The Adventures of Tom Sawyer (1876)', 'Adventures of Huckleberry Finn (1885)']\n"
     ]
    }
   ],
   "source": [
    "print(re.findall('[A-Z].{1,30} \\(\\d{4}\\)', text1))"
   ]
  },
  {
   "cell_type": "code",
   "execution_count": 15,
   "metadata": {
    "collapsed": false
   },
   "outputs": [
    {
     "name": "stdout",
     "output_type": "stream",
     "text": [
      "['November 30, 1835', 'April 21, 1910']\n"
     ]
    }
   ],
   "source": [
    "print(re.findall('[A-Z][a-z]* \\d{2}, \\d{4}', text1))"
   ]
  },
  {
   "cell_type": "markdown",
   "metadata": {},
   "source": [
    "# Exercise"
   ]
  },
  {
   "cell_type": "markdown",
   "metadata": {},
   "source": [
    "The file mcdonalds.json contains basic information about all the McDonald’s stores in the USA. Use the _re_ module to parse the file and answer the following questions.\n",
    "\n",
    "* Question 1 - How many McDonald’s stores are there in the USA?\n",
    "* Question 2 - How many McDonald’s stores do not have free WiFi?\n",
    "* Question 3 - What is the minimal and maximal “store number”?\n",
    "* Question 4 - How many different “store types” are there?\n",
    "* Question 5 - What is the state with the highest number of McDonald’s stores?\n",
    "* Question 6 - How many stores are there in New York state and have free WiFi?"
   ]
  },
  {
   "cell_type": "code",
   "execution_count": null,
   "metadata": {},
   "outputs": [],
   "source": []
  }
 ],
 "metadata": {
  "anaconda-cloud": {},
  "kernelspec": {
   "display_name": "Python 3",
   "language": "python",
   "name": "python3"
  },
  "language_info": {
   "codemirror_mode": {
    "name": "ipython",
    "version": 3
   },
   "file_extension": ".py",
   "mimetype": "text/x-python",
   "name": "python",
   "nbconvert_exporter": "python",
   "pygments_lexer": "ipython3",
   "version": "3.7.1"
  }
 },
 "nbformat": 4,
 "nbformat_minor": 2
}
