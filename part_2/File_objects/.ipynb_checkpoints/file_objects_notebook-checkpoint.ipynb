{
 "cells": [
  {
   "cell_type": "markdown",
   "metadata": {},
   "source": [
    "# File objects"
   ]
  },
  {
   "cell_type": "markdown",
   "metadata": {},
   "source": [
    "First of all - **File object and file content are NOT the same**.\n",
    "\n",
    "A [file object][File] is the Pythonic way of \"communicating\" with the file, e.g. query its properties, manage its attributes, etc. One of the many actions applicable with a file object is to read/write its content. This \"communication\" is implemented by the built-in function [open()][open], which also sets some preliminary features of the object.\n",
    "\n",
    "This will be a more intuitive differentiation when we'll be more acquainted with the Object-Oriented approach.\n",
    "\n",
    "[File]: https://docs.python.org/2/library/stdtypes.html#file-objects \"File object\"\n",
    "[open]: https://docs.python.org/2/library/functions.html#open \"open() documentation\""
   ]
  },
  {
   "cell_type": "markdown",
   "metadata": {},
   "source": [
    "## Open and close"
   ]
  },
  {
   "cell_type": "markdown",
   "metadata": {},
   "source": [
    "_File_ objects are created by the _open(name[, mode])_ built-in function, where _name_ is the full file path and _mode_ is the mode in which the file is opened. Several modes are available, but the most common ones are **'r'** for reading (default), **'w'** for writing and **'a'** for appending.\n",
    "\n",
    "It is not a healthy habit to leave open _File_ objects \"hanging\" in the file system, so we make sure to close them after we are done with them. The following three scripts illustrate exceedingly better syntaxes for addressing a file."
   ]
  },
  {
   "cell_type": "code",
   "execution_count": 1,
   "metadata": {},
   "outputs": [],
   "source": [
    "fname = \"example.txt\""
   ]
  },
  {
   "cell_type": "code",
   "execution_count": null,
   "metadata": {},
   "outputs": [],
   "source": []
  },
  {
   "cell_type": "markdown",
   "metadata": {},
   "source": [
    "#### open() 1"
   ]
  },
  {
   "cell_type": "code",
   "execution_count": 3,
   "metadata": {},
   "outputs": [],
   "source": [
    "my_file = open(fname, 'r')\n",
    "# Here do something with the file...\n",
    "\n",
    "# my_file.closed\n",
    "# my_file.close()"
   ]
  },
  {
   "cell_type": "markdown",
   "metadata": {},
   "source": [
    "#### open() 2"
   ]
  },
  {
   "cell_type": "markdown",
   "metadata": {},
   "source": [
    "To make sure one does not forget to close the file, Python provides the **_with_** block, which **automatically closes the corresponding file** when the block ends. It is highly recommended to use it."
   ]
  },
  {
   "cell_type": "code",
   "execution_count": 3,
   "metadata": {
    "collapsed": true
   },
   "outputs": [],
   "source": [
    "my_file = open(fname, 'r')\n",
    "with my_file:\n",
    "    # Here do something with the file...\n",
    "    pass"
   ]
  },
  {
   "cell_type": "markdown",
   "metadata": {},
   "source": [
    "#### open() 3"
   ]
  },
  {
   "cell_type": "markdown",
   "metadata": {},
   "source": [
    "Finally, Python supports the following syntax to wrap it all compactly. **This is how it is usually done.**"
   ]
  },
  {
   "cell_type": "code",
   "execution_count": 4,
   "metadata": {
    "collapsed": true
   },
   "outputs": [],
   "source": [
    "with open(fname, 'r') as my_file:\n",
    "    # Here do something with the file...\n",
    "    pass"
   ]
  },
  {
   "cell_type": "markdown",
   "metadata": {},
   "source": [
    "#### closed"
   ]
  },
  {
   "cell_type": "markdown",
   "metadata": {},
   "source": [
    "For monitoring the status of the file, the attribute _closed_ is available."
   ]
  },
  {
   "cell_type": "code",
   "execution_count": 5,
   "metadata": {},
   "outputs": [
    {
     "name": "stdout",
     "output_type": "stream",
     "text": [
      "False\n",
      "True\n"
     ]
    }
   ],
   "source": [
    "with open(fname, 'r') as my_file:\n",
    "    print(my_file.closed)\n",
    "print(my_file.closed)"
   ]
  },
  {
   "cell_type": "markdown",
   "metadata": {},
   "source": [
    "## Reading from files"
   ]
  },
  {
   "cell_type": "markdown",
   "metadata": {},
   "source": [
    "There are four ways to read the data of a file:\n",
    "\n",
    "* Iteratively:\n",
    "    * with a _**for**_ loop\n",
    "    * with the _**readline()**_ method\n",
    "    \n",
    "* As a whole:\n",
    "    * with the _**read()**_ method\n",
    "    * with the _**readlines()**_ method"
   ]
  },
  {
   "cell_type": "markdown",
   "metadata": {},
   "source": [
    "### Read with a _for_ loop"
   ]
  },
  {
   "cell_type": "markdown",
   "metadata": {},
   "source": [
    "_File_ objects are their own iterators, and their \"elements\" are their lines. Iterating a _File_ object with a _for_ loop will ieterate the lines of the file. Note that the lines include the \"\\n\" at the end of each line (therefore the double-space print)."
   ]
  },
  {
   "cell_type": "code",
   "execution_count": 9,
   "metadata": {},
   "outputs": [
    {
     "name": "stdout",
     "output_type": "stream",
     "text": [
      "This is the first line.\n",
      "\n",
      "This is the second line.\n",
      "\n",
      "This is the third and last line.This is the first line.\n",
      "\n",
      "This is the second line.\n",
      "\n",
      "This is the third and last line.\n"
     ]
    }
   ],
   "source": [
    "fname = \"example.txt\"\n",
    "\n",
    "with open(fname) as f:\n",
    "    for line in f:\n",
    "        print(line)"
   ]
  },
  {
   "cell_type": "markdown",
   "metadata": {},
   "source": [
    "### Read with _readline()_"
   ]
  },
  {
   "cell_type": "markdown",
   "metadata": {},
   "source": [
    "The method _readline()_ reads the next **single** line from the file. It is useful at specific scenarios, but is less convenient to work with."
   ]
  },
  {
   "cell_type": "code",
   "execution_count": 10,
   "metadata": {},
   "outputs": [
    {
     "name": "stdout",
     "output_type": "stream",
     "text": [
      "This is the first line.\n",
      " This is the third and last line.This is the first line.\n",
      " "
     ]
    }
   ],
   "source": [
    "fname = \"example.txt\"\n",
    "\n",
    "with open(fname) as f:\n",
    "    print(f.readline(), end=' ')\n",
    "    f.readline()\n",
    "    print(f.readline(), end=' ')"
   ]
  },
  {
   "cell_type": "markdown",
   "metadata": {},
   "source": [
    "### Read with _read()_"
   ]
  },
  {
   "cell_type": "markdown",
   "metadata": {},
   "source": [
    "This method is the most simple one, as it simply reads the entire content of the file into a single string."
   ]
  },
  {
   "cell_type": "code",
   "execution_count": 8,
   "metadata": {},
   "outputs": [
    {
     "name": "stdout",
     "output_type": "stream",
     "text": [
      "This is the first line.\n",
      "This is the second line.\n",
      "This is the third and last line.\n"
     ]
    }
   ],
   "source": [
    "fname = \"example.txt\"\n",
    "\n",
    "with open(fname) as f:\n",
    "    print(f.read())"
   ]
  },
  {
   "cell_type": "markdown",
   "metadata": {},
   "source": [
    "### Read with _readlines()_"
   ]
  },
  {
   "cell_type": "markdown",
   "metadata": {},
   "source": [
    "This method also reads the entire content of the file, but it creates a list whose elements are the lines of the file as strings."
   ]
  },
  {
   "cell_type": "code",
   "execution_count": 11,
   "metadata": {},
   "outputs": [
    {
     "name": "stdout",
     "output_type": "stream",
     "text": [
      "['This is the first line.\\n', 'This is the second line.\\n', 'This is the third and last line.This is the first line.\\n', 'This is the second line.\\n', 'This is the third and last line.']\n"
     ]
    }
   ],
   "source": [
    "fname = \"example.txt\"\n",
    "\n",
    "with open(fname) as f:\n",
    "    print(f.readlines())"
   ]
  },
  {
   "cell_type": "markdown",
   "metadata": {},
   "source": [
    "## Writing to files"
   ]
  },
  {
   "cell_type": "markdown",
   "metadata": {},
   "source": [
    "### Writing methods"
   ]
  },
  {
   "cell_type": "markdown",
   "metadata": {},
   "source": [
    "Similarly to _read()_ and _readlines()_ methods for reading, there are _**write()**_ and _**writelines()**_ methods for writing. _write()_ expects a single string and write it directly to the file, while _writelines()_ expects a list of strings and then writes them consequently to the file. It should be noted that _writelines()_ simply applies _write()_ iteratively, and no \"\\n\"s are added in the process."
   ]
  },
  {
   "cell_type": "code",
   "execution_count": 10,
   "metadata": {
    "collapsed": true
   },
   "outputs": [],
   "source": [
    "my_data_str = \"This is the first line.\\nThis is the second line.\\nThis is the third and last line.\"\n",
    "my_data_list = ['This is the first line.\\n', 'This is the second line.\\n', 'This is the third and last line.']"
   ]
  },
  {
   "cell_type": "code",
   "execution_count": 11,
   "metadata": {},
   "outputs": [],
   "source": [
    "fname = \"example.txt\"\n",
    "\n",
    "with open(fname, 'w') as f:\n",
    "    f.write(my_data_str)"
   ]
  },
  {
   "cell_type": "code",
   "execution_count": 12,
   "metadata": {
    "collapsed": true
   },
   "outputs": [],
   "source": [
    "with open(fname, 'w') as f:\n",
    "    f.writelines(my_data_list)   "
   ]
  },
  {
   "cell_type": "markdown",
   "metadata": {},
   "source": [
    "> **NOTE:** While _readlines()_ automatically splits the text by \\\\n, _writelines()_ does not add \\\\n automatically."
   ]
  },
  {
   "cell_type": "markdown",
   "metadata": {},
   "source": [
    "### Writing modes"
   ]
  },
  {
   "cell_type": "markdown",
   "metadata": {},
   "source": [
    "In standard writing mode, indicated by 'w', a new file will be created and an existing file will be overwritten. If we want to append the data to what is already in the file, then we should use the append mode, indicated by 'a'."
   ]
  },
  {
   "cell_type": "code",
   "execution_count": 13,
   "metadata": {
    "collapsed": true
   },
   "outputs": [],
   "source": [
    "fname = \"example.txt\"\n",
    "\n",
    "with open(fname, 'a') as f:\n",
    "    f.write(my_data_str)"
   ]
  },
  {
   "cell_type": "markdown",
   "metadata": {},
   "source": [
    "Now the content of the example2 file is:"
   ]
  },
  {
   "cell_type": "code",
   "execution_count": 14,
   "metadata": {},
   "outputs": [
    {
     "name": "stdout",
     "output_type": "stream",
     "text": [
      "This is the first line.\n",
      "This is the second line.\n",
      "This is the third and last line.This is the first line.\n",
      "This is the second line.\n",
      "This is the third and last line.\n"
     ]
    }
   ],
   "source": [
    "with open(fname, 'r') as f:\n",
    "    print(f.read())"
   ]
  },
  {
   "cell_type": "markdown",
   "metadata": {},
   "source": [
    "## Example"
   ]
  },
  {
   "cell_type": "markdown",
   "metadata": {},
   "source": [
    "The file \"players.txt\" contains the names and ages of seven band members. Use the data of the file to create a new file called \"sorted players.txt\", in which the members are listed by the alphabetical order of their names."
   ]
  },
  {
   "cell_type": "markdown",
   "metadata": {},
   "source": [
    "We note that for sorting, it is easier to have the entire data in our hands."
   ]
  },
  {
   "cell_type": "markdown",
   "metadata": {},
   "source": [
    "### Solution 1 - _read()_ and _write()_"
   ]
  },
  {
   "cell_type": "code",
   "execution_count": 16,
   "metadata": {},
   "outputs": [],
   "source": [
    "# Get the data\n",
    "with open(\"players.txt\", 'r') as f:\n",
    "    data = f.read()\n",
    "\n",
    "# Manipulate the data\n",
    "data = data.split('\\n')\n",
    "sorted_data = sorted(data)\n",
    "sorted_data = '\\n'.join(sorted_data)\n",
    "\n",
    "# Create the new file\n",
    "with open(\"c:\\\\temp\\\\sorted players.txt\", 'w') as f:\n",
    "    f.write(sorted_data)"
   ]
  },
  {
   "cell_type": "markdown",
   "metadata": {},
   "source": [
    "### Solution 2 - _readlines()_ and _writelines()_"
   ]
  },
  {
   "cell_type": "code",
   "execution_count": 17,
   "metadata": {
    "collapsed": true
   },
   "outputs": [],
   "source": [
    "# Get the data\n",
    "with open(\"players.txt\", 'r') as f:\n",
    "    data = f.readlines()\n",
    "\n",
    "# Manipulate the data\n",
    "data[-1] += '\\n' # Last line does not contain '\\n'\n",
    "sorted_data = sorted(data)\n",
    "\n",
    "# Create the new file\n",
    "with open(\"sorted players.txt\", 'w') as f:\n",
    "    f.writelines(sorted_data)"
   ]
  },
  {
   "cell_type": "markdown",
   "metadata": {},
   "source": [
    "## Example"
   ]
  },
  {
   "cell_type": "markdown",
   "metadata": {},
   "source": [
    "The file \"Christmas.txt\" contains some data about the customers of an online shop in the days before Christmas. Each customer is represented by two lines: the first records his login time to the site and the second his logout time and his total purchase. You may assume that no customer appears twice in the data.\n",
    "\n",
    "Create a new file called \"buyers.txt\" that includes only the data about customers who made purchases. Each line in the new file should contain the customer id and his purchase."
   ]
  },
  {
   "cell_type": "code",
   "execution_count": 18,
   "metadata": {
    "collapsed": true
   },
   "outputs": [],
   "source": [
    "with open(\"buyers.txt\", 'w') as f_buyers:\n",
    "    with open(\"Christmas.txt\", 'r') as f_customers:\n",
    "        for line in f_customers:\n",
    "            if \"logout\" in line:\n",
    "                buyer = line.split()\n",
    "                revenue = float(buyer[-1])\n",
    "                if revenue > 0:\n",
    "                    f_buyers.write(\"{:<7} - {}\\n\".format(buyer[3], buyer[6]))"
   ]
  },
  {
   "cell_type": "markdown",
   "metadata": {},
   "source": [
    "## Additional notes"
   ]
  },
  {
   "cell_type": "markdown",
   "metadata": {},
   "source": [
    "* Many other file-related functionalities (copy, remove, delete, existence, etc.) are available in other modules, and we will see some of them later.\n",
    "\n",
    "* The concept of \"openning\" is very general and is in use by many other **file-like** objects, including web-pages, I/O streams and others.\n",
    "\n",
    "* Two other common aspects of working with files are not covered here, and the reader is encouraged to explore them further by referring to the following:\n",
    "    * Buffering - the _open()_ argument _buffering_ and the _File_ method _flush()_ \n",
    "    * Position - the _File_ methods _seek()_ and _tell()_\n",
    "\n",
    "* File extensions (e.g. txt, csv, html, etc.) are irrelevant for the _open()_ functionality. They are used by the OS to relate files to their relevant application.\n",
    "\n",
    "* for dealing with paths, see [blog post about the python pathlib module][1]\n",
    "\n",
    "\n",
    "[1]: https://treyhunner.com/2018/12/why-you-should-be-using-pathlib/"
   ]
  },
  {
   "cell_type": "code",
   "execution_count": null,
   "metadata": {},
   "outputs": [],
   "source": []
  }
 ],
 "metadata": {
  "anaconda-cloud": {},
  "kernelspec": {
   "display_name": "Python 3",
   "language": "python",
   "name": "python3"
  },
  "language_info": {
   "codemirror_mode": {
    "name": "ipython",
    "version": 3
   },
   "file_extension": ".py",
   "mimetype": "text/x-python",
   "name": "python",
   "nbconvert_exporter": "python",
   "pygments_lexer": "ipython3",
   "version": "3.6.5"
  }
 },
 "nbformat": 4,
 "nbformat_minor": 2
}
