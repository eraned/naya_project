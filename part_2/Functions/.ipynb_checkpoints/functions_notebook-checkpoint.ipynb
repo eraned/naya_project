{
 "cells": [
  {
   "cell_type": "markdown",
   "metadata": {
    "colab_type": "text",
    "id": "Q5b125eZvU5A"
   },
   "source": [
    "# Functions"
   ]
  },
  {
   "cell_type": "markdown",
   "metadata": {
    "colab_type": "text",
    "id": "xItS1zUEvU5C"
   },
   "source": [
    "A function is a block of organized, reusable code. Functions provide better modularity for your application and a high degree of code reusing. In addition, they also make your code more readable, as they keep the **main code** simple by assigning tasks to auxiliary funtions. \n",
    "\n",
    "We already know many of Python's built-in functions like _input()_, _max()_, _float()_, etc., and in this chapter we will learn how to create our own functions. These functions are called **user-defined functions**."
   ]
  },
  {
   "cell_type": "markdown",
   "metadata": {
    "colab_type": "text",
    "id": "6vnRPZwfvU5D"
   },
   "source": [
    "## Basics"
   ]
  },
  {
   "cell_type": "markdown",
   "metadata": {
    "colab_type": "text",
    "id": "1IorArtJvU5D"
   },
   "source": [
    "A function receives **input arguments** and **returns** some **output** based on them. Both the input and the output can in general contain zero arguments, for example the function _print_ returns no argument, and the list method _pop()_ may be called without an input argument (for this chapter we will not distinguish between functions and methods). The terminology for using a function is to _call_ it.\n",
    "\n",
    "Every function definition starts with a **signature**, containing the prefix **def** followed by the name of the function and parentheses, in which the input arguments are listed. Then, following a colon and an indentation, the function **block** is written, possibly containing a **return** statement(s).\n",
    "\n",
    "The following function adds the input arguments _x_ and _y_ and return their \"sum\"."
   ]
  },
  {
   "cell_type": "code",
   "execution_count": 1,
   "metadata": {
    "colab": {},
    "colab_type": "code",
    "id": "HIB-F5nuvU5E"
   },
   "outputs": [],
   "source": [
    "def add_items(x, y):\n",
    "    total = x + y\n",
    "    return total"
   ]
  },
  {
   "cell_type": "markdown",
   "metadata": {
    "colab_type": "text",
    "id": "NI4Bhe89vU5I"
   },
   "source": [
    "Now the function _add_\\__items()_ can be called during the execution of the main code."
   ]
  },
  {
   "cell_type": "code",
   "execution_count": 2,
   "metadata": {
    "colab": {},
    "colab_type": "code",
    "id": "zivW6RYlvU5I",
    "outputId": "47f39b50-3b30-42e9-d46b-2afff76826ef"
   },
   "outputs": [
    {
     "name": "stdout",
     "output_type": "stream",
     "text": [
      "8\n"
     ]
    }
   ],
   "source": [
    "a = 3\n",
    "b = 5\n",
    "c = add_items(a, b)\n",
    "print(c)"
   ]
  },
  {
   "cell_type": "markdown",
   "metadata": {
    "colab_type": "text",
    "id": "7IPT06Q0vU5N"
   },
   "source": [
    "We note that since Python is a dynamic language, which does not require pre-assignment of data types, the input of _add_\\__items()_ may be of any type, as long as the '_+_' sign is appropriate."
   ]
  },
  {
   "cell_type": "code",
   "execution_count": 3,
   "metadata": {
    "colab": {},
    "colab_type": "code",
    "id": "tKE1xxQuvU5O",
    "outputId": "5df4251c-64c9-4a55-b318-3ae32b9a0dae"
   },
   "outputs": [
    {
     "name": "stdout",
     "output_type": "stream",
     "text": [
      "international\n"
     ]
    }
   ],
   "source": [
    "a = 'inter'\n",
    "b = 'national'\n",
    "c = add_items(a, b)\n",
    "print(c)"
   ]
  },
  {
   "cell_type": "markdown",
   "metadata": {
    "colab_type": "text",
    "id": "IZhcEbbjvU5S"
   },
   "source": [
    "> #### Note \n",
    "> In the example above the main code has variables _a_ and _b_, while the function renames them **locally** as _x_ and _y_. Understanding the relationship between the outer variables and their local counterparts is quiet complicated and we will not cover it here. However, we should remember that if the variables are **mutable**, then changing the local variables makes the change in the outer variables."
   ]
  },
  {
   "cell_type": "markdown",
   "metadata": {
    "colab_type": "text",
    "id": "hWVZ3WlcvU5T"
   },
   "source": [
    "The _return_ statement can return more than a single value by separating the output values with commas. However, the entire output is considered a single _tuple_, and may be unpacked by the caller."
   ]
  },
  {
   "cell_type": "code",
   "execution_count": 4,
   "metadata": {
    "colab": {},
    "colab_type": "code",
    "id": "ANAJMirTvU5U"
   },
   "outputs": [],
   "source": [
    "def add_and_multiply(x, y):\n",
    "    return x+y, x*y"
   ]
  },
  {
   "cell_type": "code",
   "execution_count": 5,
   "metadata": {
    "colab": {},
    "colab_type": "code",
    "id": "TpQGYeb5vU5X",
    "outputId": "6e3b9b73-88cb-4db6-ece8-bdd88bdc7e10"
   },
   "outputs": [
    {
     "name": "stdout",
     "output_type": "stream",
     "text": [
      "(5.65, 5.805)\n",
      "5.65 5.805\n"
     ]
    }
   ],
   "source": [
    "ans = add_and_multiply(4.3, 1.35)\n",
    "print(ans)\n",
    "\n",
    "total, product = add_and_multiply(4.3, 1.35)\n",
    "print(total, product)"
   ]
  },
  {
   "cell_type": "markdown",
   "metadata": {
    "colab_type": "text",
    "id": "m36HskIAvU5b"
   },
   "source": [
    "The _return_ statement aborts the function instantly (similar to _break_). This allows the coexistence of several _return_ statements in a single function."
   ]
  },
  {
   "cell_type": "code",
   "execution_count": 6,
   "metadata": {
    "colab": {},
    "colab_type": "code",
    "id": "e8Q-YSiAvU5c"
   },
   "outputs": [],
   "source": [
    "def count_the_vowels(sentence):\n",
    "    num_of_vowels = len([ch for ch in sentence if ch in 'aeiou'])\n",
    "    if num_of_vowels < 13:\n",
    "        return \"not many\"\n",
    "    if num_of_vowels > 13:\n",
    "        return \"many\""
   ]
  },
  {
   "cell_type": "code",
   "execution_count": 7,
   "metadata": {
    "colab": {},
    "colab_type": "code",
    "id": "pWGN6RkRvU5f",
    "outputId": "3bec7f3b-edfd-4ee9-8d48-32c71373aff7"
   },
   "outputs": [
    {
     "name": "stdout",
     "output_type": "stream",
     "text": [
      "There are many vowels in the sentence.\n"
     ]
    }
   ],
   "source": [
    "truth = \"The return statement may appear more than once in a single function.\"\n",
    "print(\"There are {} vowels in the sentence.\".format(count_the_vowels(truth)))"
   ]
  },
  {
   "cell_type": "markdown",
   "metadata": {
    "colab_type": "text",
    "id": "SNP2EtI3vU5j"
   },
   "source": [
    "A function cannot returns anything, so even if the _return_ statement was not encountered during execution, a _None_ is returned."
   ]
  },
  {
   "cell_type": "code",
   "execution_count": 8,
   "metadata": {
    "colab": {},
    "colab_type": "code",
    "id": "zkaQSAOevU5k",
    "outputId": "96c20a41-4559-4667-d254-f55ca2dfa00a"
   },
   "outputs": [
    {
     "name": "stdout",
     "output_type": "stream",
     "text": [
      "None\n"
     ]
    }
   ],
   "source": [
    "print(count_the_vowels(\"There are exactly 13 vowels in this sentence!\"))"
   ]
  },
  {
   "cell_type": "markdown",
   "metadata": {
    "colab_type": "text",
    "id": "Td3GU3ZBvU5n"
   },
   "source": [
    "### Example"
   ]
  },
  {
   "cell_type": "markdown",
   "metadata": {
    "colab_type": "text",
    "id": "rPs0Fm1svU5p"
   },
   "source": [
    "Write a function with a list of strings as input, that returns the longest string in the list as output. Use it after completion."
   ]
  },
  {
   "cell_type": "code",
   "execution_count": 9,
   "metadata": {
    "colab": {},
    "colab_type": "code",
    "id": "J3nLGIfSvU5r"
   },
   "outputs": [],
   "source": [
    "def get_longest_word(x):\n",
    "    longest_word = ''\n",
    "    for word in x:\n",
    "        if len(word) > len(longest_word):\n",
    "            longest_word = word\n",
    "    return longest_word"
   ]
  },
  {
   "cell_type": "code",
   "execution_count": 10,
   "metadata": {
    "colab": {},
    "colab_type": "code",
    "id": "rbQhjFgCvU5t",
    "outputId": "e0cee625-9265-46a8-816f-fdbd82127a89"
   },
   "outputs": [
    {
     "name": "stdout",
     "output_type": "stream",
     "text": [
      "Imagination\n"
     ]
    }
   ],
   "source": [
    "my_list = \"Logic will get you from A to B. Imagination will take you everywhere. (Albert Einstein)\".split()\n",
    "longest_word = get_longest_word(my_list)\n",
    "print(longest_word)"
   ]
  },
  {
   "cell_type": "markdown",
   "metadata": {
    "colab_type": "text",
    "id": "qTvf9RSJvU51"
   },
   "source": [
    "Functions can be, and very often are, **chained**, nmely call to one another. This allows the separation of large functionalities into smaller and smaller bits."
   ]
  },
  {
   "cell_type": "markdown",
   "metadata": {
    "colab_type": "text",
    "id": "yGYIifsVvU53"
   },
   "source": [
    "### Example"
   ]
  },
  {
   "cell_type": "markdown",
   "metadata": {
    "colab_type": "text",
    "id": "Uyj95HHdvU57"
   },
   "source": [
    "* Write a function that receives an integer and returns a Boolean indicating whether the integer is a prime number.\n",
    "* Write a script that asks the user for an integer and finds the nearest prime to that integer."
   ]
  },
  {
   "cell_type": "markdown",
   "metadata": {
    "colab_type": "text",
    "id": "gSv9XwEDvU58"
   },
   "source": [
    "#### Part 1"
   ]
  },
  {
   "cell_type": "code",
   "execution_count": 11,
   "metadata": {
    "colab": {},
    "colab_type": "code",
    "id": "Ccjx8JeyvU5_"
   },
   "outputs": [],
   "source": [
    "def is_prime(n):\n",
    "    for k in range(2, int(n**0.5)+1):\n",
    "        if n % k == 0:\n",
    "            return False\n",
    "    return True"
   ]
  },
  {
   "cell_type": "code",
   "execution_count": 12,
   "metadata": {
    "colab": {},
    "colab_type": "code",
    "id": "gnaa2r0GvU6D",
    "outputId": "79245513-9b66-4b3c-82c7-9be89099c784"
   },
   "outputs": [
    {
     "name": "stdout",
     "output_type": "stream",
     "text": [
      "True\n"
     ]
    }
   ],
   "source": [
    "print(is_prime(101))"
   ]
  },
  {
   "cell_type": "markdown",
   "metadata": {
    "colab_type": "text",
    "id": "7SiRT5VAvU6G"
   },
   "source": [
    "#### Part 2"
   ]
  },
  {
   "cell_type": "code",
   "execution_count": 13,
   "metadata": {
    "colab": {},
    "colab_type": "code",
    "id": "WuIBFGE0vU6H"
   },
   "outputs": [],
   "source": [
    "def get_nearest_prime(n):\n",
    "    dist = 0\n",
    "    while True:\n",
    "        if is_prime(n - dist):\n",
    "            return n - dist\n",
    "        elif is_prime(n + dist):\n",
    "            return n + dist\n",
    "        dist += 1"
   ]
  },
  {
   "cell_type": "code",
   "execution_count": 14,
   "metadata": {
    "colab": {},
    "colab_type": "code",
    "id": "PkILUhWQvU6I",
    "outputId": "0105bb49-d27e-4eaf-e893-751eaa6abecf"
   },
   "outputs": [
    {
     "name": "stdout",
     "output_type": "stream",
     "text": [
      "What is your integer?\n",
      "12345\n",
      "\n",
      "12343 is the closest prime to 12345\n"
     ]
    }
   ],
   "source": [
    "n = int(input(\"What is your integer?\\n\"))\n",
    "p = get_nearest_prime(n)\n",
    "print(f\"\\n{p} is the closest prime to {n}\")"
   ]
  },
  {
   "cell_type": "markdown",
   "metadata": {
    "colab_type": "text",
    "id": "EIdNpvkfvU6L"
   },
   "source": [
    "## Arguments"
   ]
  },
  {
   "cell_type": "markdown",
   "metadata": {
    "colab_type": "text",
    "id": "i1duCL12vU6M"
   },
   "source": [
    "A function can have any number of input arguments as long as it \"knows\" what to do with each one of them. We've already saw the most straight-forward way of naming each one of the arguments and expect the exact same number of arguments. In this chapter we will see some advanced methods for specifying required arguments."
   ]
  },
  {
   "cell_type": "markdown",
   "metadata": {
    "colab_type": "text",
    "id": "debtFy2IvU6M"
   },
   "source": [
    "### Default values"
   ]
  },
  {
   "cell_type": "markdown",
   "metadata": {
    "colab_type": "text",
    "id": "yzkclSARvU6N"
   },
   "source": [
    "When defining a function, it is possible to give default values to its arguments, so that if the user does not specify them, the function will use the default values."
   ]
  },
  {
   "cell_type": "markdown",
   "metadata": {
    "colab_type": "text",
    "id": "MW_oTtBevU6O"
   },
   "source": [
    "#### Example"
   ]
  },
  {
   "cell_type": "markdown",
   "metadata": {
    "colab_type": "text",
    "id": "mxrwu4zpvU6O"
   },
   "source": [
    "The function _show_\\__summary(lst, n_\\__start, n_\\__stop)_ prints the first _n_\\__start_ and last _n_\\__end_ elements of _lst_. If the user does not specify how many elements he would like to see, then a defaul of three at each end is applied."
   ]
  },
  {
   "cell_type": "code",
   "execution_count": 15,
   "metadata": {
    "colab": {},
    "colab_type": "code",
    "id": "2hvjO49vvU6Q"
   },
   "outputs": [],
   "source": [
    "def show_summary(lst, n_start=3, n_end=3):\n",
    "    if len(lst) < n_start + n_end:\n",
    "        print(lst)\n",
    "    else:\n",
    "        print(\"[\", end=' ')\n",
    "        for i in range(n_start):\n",
    "            print(lst[i], end=' ')\n",
    "        print('...', end=' ')\n",
    "        for i in reversed(list(range(n_end))):\n",
    "            print(lst[-i-1], end=' ')\n",
    "        print(\"]\")"
   ]
  },
  {
   "cell_type": "code",
   "execution_count": 16,
   "metadata": {
    "colab": {},
    "colab_type": "code",
    "id": "RpVcNZ-KvU6R",
    "outputId": "6c6cdf0d-f3fc-4e65-d788-b55de6ab64c9"
   },
   "outputs": [
    {
     "name": "stdout",
     "output_type": "stream",
     "text": [
      "[ a b c ... 3 4 5 ]\n"
     ]
    }
   ],
   "source": [
    "my_list = ['a', 'b', 'c', 'd', 'e', 1, 2, 3, 4, 5]\n",
    "show_summary(my_list)\n",
    "# show_summary(my_list, 4, 2)\n",
    "# show_summary(my_list, 5)\n",
    "# show_summary(my_list, n_end=5)"
   ]
  },
  {
   "cell_type": "markdown",
   "metadata": {
    "colab_type": "text",
    "id": "RdavyAyCvU6a"
   },
   "source": [
    "#### Example"
   ]
  },
  {
   "cell_type": "markdown",
   "metadata": {
    "colab_type": "text",
    "id": "mCPjgGjXvU6b"
   },
   "source": [
    "_guys_ is a list of tuples of the form (name, gender, age) (An examplary list of guys is given).\n",
    "\n",
    "The function _count_\\__guys(guys, gender='all', min_\\__age=0, max_\\__age=120)_ should count relevant guys from _guys_. _gender_ can be one of {'all', 'm', 'f'}, and _min_\\__age_ and _max_\\__age_ represent the minimal and maximal ages to be counted."
   ]
  },
  {
   "cell_type": "code",
   "execution_count": 17,
   "metadata": {
    "colab": {},
    "colab_type": "code",
    "id": "PGg1hXYbvU6c"
   },
   "outputs": [],
   "source": [
    "guys = [('Avi', 'm', 24), ('Betty', 'f', 25), ('Carl', 'm', 22),\n",
    "        ('David', 'm', 45), ('Edward', 'm', 31), ('Frittata', 'f', 28)]"
   ]
  },
  {
   "cell_type": "code",
   "execution_count": 18,
   "metadata": {
    "colab": {},
    "colab_type": "code",
    "id": "HWBzEgRNvU6d"
   },
   "outputs": [],
   "source": [
    "def count_guys(guys, gender='all', min_age=0, max_age=120):\n",
    "    guys2 = [guy for guy in guys if min_age <= guy[2] <= max_age]\n",
    "    if gender == 'all':\n",
    "        return len(guys)\n",
    "    else:\n",
    "        return len([guy for guy in guys2 if guy[1] == gender])"
   ]
  },
  {
   "cell_type": "code",
   "execution_count": 19,
   "metadata": {
    "colab": {},
    "colab_type": "code",
    "id": "HT_gR-a7vU6e",
    "outputId": "f9d9a498-3743-4d5d-a503-12133b1c46af"
   },
   "outputs": [
    {
     "name": "stdout",
     "output_type": "stream",
     "text": [
      "6\n"
     ]
    }
   ],
   "source": [
    "print(count_guys(guys)) \n",
    "# print(count_guys(guys, 'm'))\n",
    "# print(count_guys(guys, 'm', 20, 40))\n",
    "# print(count_guys(guys, 'f', 30))\n",
    "# print(count_guys(guys, 'f', max_age=30))\n",
    "# print(count_guys(guys, max_age=30))"
   ]
  },
  {
   "cell_type": "markdown",
   "metadata": {
    "colab_type": "text",
    "id": "VTrgd3MpvU7W"
   },
   "source": [
    "## Lambda functions"
   ]
  },
  {
   "cell_type": "markdown",
   "metadata": {
    "colab_type": "text",
    "id": "lsEy0f3_vU7X"
   },
   "source": [
    "### functions are objects, too"
   ]
  },
  {
   "cell_type": "markdown",
   "metadata": {
    "colab_type": "text",
    "id": "vHHldet7vU7Y"
   },
   "source": [
    "Before we speak about lambda functions it is importamnt to understand that functions, like anything else in Python, are objects. To illustarte that, we can see that a function can be assigned to a variable just like a number or a string."
   ]
  },
  {
   "cell_type": "code",
   "execution_count": 20,
   "metadata": {
    "colab": {},
    "colab_type": "code",
    "id": "YtPzeCAqvU7Y"
   },
   "outputs": [],
   "source": [
    "def square(x):\n",
    "    return x**2\n",
    "\n",
    "my_func = square"
   ]
  },
  {
   "cell_type": "markdown",
   "metadata": {
    "colab_type": "text",
    "id": "s4KJnQgOvU7b"
   },
   "source": [
    "_square()_ is a function, defined regularly, and the variable _my_\\__func_ is a variable holding the function _square()_, and they are completely equivalent."
   ]
  },
  {
   "cell_type": "code",
   "execution_count": 21,
   "metadata": {
    "colab": {},
    "colab_type": "code",
    "id": "knD2spA-vU7b",
    "outputId": "152f63d9-96b9-43d5-aa2e-5263e627d89f"
   },
   "outputs": [
    {
     "name": "stdout",
     "output_type": "stream",
     "text": [
      "<class 'function'>\n",
      "<class 'function'>\n"
     ]
    }
   ],
   "source": [
    "print(type(square))\n",
    "print(type(my_func))"
   ]
  },
  {
   "cell_type": "markdown",
   "metadata": {
    "colab_type": "text",
    "id": "Wqlpb1gEvU7h"
   },
   "source": [
    "Moreover, they perform the same functionality."
   ]
  },
  {
   "cell_type": "code",
   "execution_count": 22,
   "metadata": {
    "colab": {},
    "colab_type": "code",
    "id": "3zazC11tvU7i",
    "outputId": "93a9b1f1-e11b-4579-d5b8-3c0e1fe78e73"
   },
   "outputs": [
    {
     "name": "stdout",
     "output_type": "stream",
     "text": [
      "25\n",
      "25\n"
     ]
    }
   ],
   "source": [
    "print(square(5))\n",
    "print(my_func(5))"
   ]
  },
  {
   "cell_type": "markdown",
   "metadata": {
    "colab_type": "text",
    "id": "dvDTUR67vU7l"
   },
   "source": [
    "> **NOTE:** It should be noted that functions have different meanings with and without parenthesis. The parenthesis are used when a function is actually called, and they are removed when the function is referred to as an object. This will be much more clear later in this chapter, when we'll see functions that get other functions as arguments."
   ]
  },
  {
   "cell_type": "markdown",
   "metadata": {
    "colab_type": "text",
    "id": "VUMJuKhfiC8J"
   },
   "source": [
    "#### Example"
   ]
  },
  {
   "cell_type": "markdown",
   "metadata": {
    "colab_type": "text",
    "id": "Xrocx9fPiC8J"
   },
   "source": [
    "Let's write a function (*shazam(s, func)*) that applies the function *func* to the string *s*."
   ]
  },
  {
   "cell_type": "code",
   "execution_count": 23,
   "metadata": {
    "colab": {},
    "colab_type": "code",
    "id": "Yxna8TaOiC8K"
   },
   "outputs": [],
   "source": [
    "def glue(s):\n",
    "  return ''.join(s.split())\n",
    "\n",
    "def duplicate(s):\n",
    "  return ''.join([2*ch for ch in s])\n",
    "\n",
    "def flip(s):\n",
    "  return s[::-1]"
   ]
  },
  {
   "cell_type": "code",
   "execution_count": 24,
   "metadata": {
    "colab": {},
    "colab_type": "code",
    "id": "sFl9GOymiC8L"
   },
   "outputs": [],
   "source": [
    "def shazam(s, f):\n",
    "  return f(s)"
   ]
  },
  {
   "cell_type": "code",
   "execution_count": 25,
   "metadata": {
    "colab": {
     "base_uri": "https://localhost:8080/",
     "height": 34
    },
    "colab_type": "code",
    "executionInfo": {
     "elapsed": 723,
     "status": "ok",
     "timestamp": 1539153731332,
     "user": {
      "displayName": "Amit Rappel",
      "photoUrl": "",
      "userId": "16505003500853190417"
     },
     "user_tz": -180
    },
    "id": "rAAWvKUIiC8M",
    "outputId": "97eac05b-627a-4b3f-82b3-192327f029c7"
   },
   "outputs": [
    {
     "name": "stdout",
     "output_type": "stream",
     "text": [
      "MMyy  nnaammee  iiss  AAmmiitt\n"
     ]
    }
   ],
   "source": [
    "print(shazam('My name is Amit', duplicate))"
   ]
  },
  {
   "cell_type": "markdown",
   "metadata": {
    "colab_type": "text",
    "id": "RI6Q4SoOvU7v"
   },
   "source": [
    "### Lambda functions"
   ]
  },
  {
   "cell_type": "markdown",
   "metadata": {
    "colab_type": "text",
    "id": "OEDZAD7RvU7w"
   },
   "source": [
    "First, we need to understand that the lambda syntax is simply another way, though restricted to a single line, for defining a function in Python. The advantage of lambda functions lies in their single-line syntax, which supports using a function \"on the fly\", and We will see later where exactly this syntax is _preferred_. However, we should remember that it does exactly the same."
   ]
  },
  {
   "cell_type": "markdown",
   "metadata": {
    "colab_type": "text",
    "id": "wkP9bx9SvU7x"
   },
   "source": [
    "#### Syntax"
   ]
  },
  {
   "cell_type": "markdown",
   "metadata": {
    "colab_type": "text",
    "id": "916NbBgvvU7x"
   },
   "source": [
    "The functions _f1()_ and _f2()_ are exactly the same."
   ]
  },
  {
   "cell_type": "code",
   "execution_count": 26,
   "metadata": {
    "colab": {},
    "colab_type": "code",
    "id": "0yCIwxswvU7y"
   },
   "outputs": [],
   "source": [
    "def f1(x):\n",
    "    return 2*x + 1\n",
    "\n",
    "f2 = lambda x: 2*x + 1"
   ]
  },
  {
   "cell_type": "code",
   "execution_count": 27,
   "metadata": {
    "colab": {},
    "colab_type": "code",
    "id": "Zb2Tr86LvU72",
    "outputId": "1a89470e-b948-4b2c-d65b-caeceb228b48"
   },
   "outputs": [
    {
     "name": "stdout",
     "output_type": "stream",
     "text": [
      "9\n",
      "9\n"
     ]
    }
   ],
   "source": [
    "print(f1(4))\n",
    "print(f2(4))"
   ]
  },
  {
   "cell_type": "markdown",
   "metadata": {
    "colab_type": "text",
    "id": "HpXB_zMyvU7-"
   },
   "source": [
    "## Built-in functions"
   ]
  },
  {
   "cell_type": "markdown",
   "metadata": {
    "colab_type": "text",
    "id": "c14A_BxPvU7-"
   },
   "source": [
    "Python includes many function as part of its core capabilities. Their implementation is very efficient, so it is highly advisable to use them when possible. The entire list of built-in functions is documented [here][Built-in functions], but here are some examples:\n",
    "\n",
    "* **General utiliy**:  _map()_, _zip()_, _sorted()_, _all()_, _any()_, _enumerate()_, _filter()_, etc.\n",
    "* **Conversion**: _int()_, _str()_, _list()_, _dict()_, _unicode()_, etc.\n",
    "* **Math**: _abs()_, _min()_, _max()_, _sum()_, etc.\n",
    "* **Object-Oriented**: _isinstance()_, _hasattr()_, _delattr()_, _classmethod()_, etc.\n",
    "\n",
    "In this chappter we will discuss the general utility functions mentioned.\n",
    "\n",
    "[Built-in functions]: https://docs.python.org/2/library/functions.html \"Built-in functions documentation\""
   ]
  },
  {
   "cell_type": "markdown",
   "metadata": {
    "colab_type": "text",
    "id": "Ve8nqKwkvU90"
   },
   "source": [
    "### _map(function, iterable[, iterable...])_"
   ]
  },
  {
   "cell_type": "markdown",
   "metadata": {
    "colab_type": "text",
    "id": "xsXYUWfDvU91"
   },
   "source": [
    "The function [_map(function, iterable[, iterable...])_][map] applies _function_ to every item of _iterable_ and returns a list of the results. If additional iterable arguments are passed, _function_ must take that many arguments and is applied to the items from all iterables in parallel.\n",
    "\n",
    "[map]: https://docs.python.org/2/library/functions.html#map \"map() documentation\""
   ]
  },
  {
   "cell_type": "markdown",
   "metadata": {
    "colab_type": "text",
    "id": "6D5vv0z5vU91"
   },
   "source": [
    "#### Example 8"
   ]
  },
  {
   "cell_type": "markdown",
   "metadata": {
    "colab_type": "text",
    "id": "jQCBGWYJvU92"
   },
   "source": [
    "In the game '7-boom' the players count loudly the numbers from 1 and up, but if the number is divisible by 7 or contains the digit 7 they say 'Boom' instead. Generate the first _n_ calls of the game."
   ]
  },
  {
   "cell_type": "code",
   "execution_count": 28,
   "metadata": {
    "colab": {},
    "colab_type": "code",
    "id": "nCfuBo_4vU93"
   },
   "outputs": [],
   "source": [
    "def call_7_boom(i):\n",
    "    if (i % 7 ==0) or '7' in str(i):\n",
    "        return 'Boom'\n",
    "    else:\n",
    "        return i"
   ]
  },
  {
   "cell_type": "code",
   "execution_count": 29,
   "metadata": {
    "colab": {},
    "colab_type": "code",
    "id": "Epb5ouFEvU94",
    "outputId": "414ec28d-3cc9-46ee-d018-251a82b17d7a"
   },
   "outputs": [
    {
     "name": "stdout",
     "output_type": "stream",
     "text": [
      "[1, 2, 3, 4, 5, 6, 'Boom', 8, 9, 10, 11, 12, 13, 'Boom', 15, 16, 'Boom', 18, 19, 20, 'Boom', 22, 23, 24, 25, 26, 'Boom', 'Boom', 29, 30, 31, 32, 33, 34, 'Boom', 36, 'Boom', 38, 39, 40, 41, 'Boom', 43, 44, 45, 46, 'Boom', 48, 'Boom', 50, 51, 52, 53, 54, 55, 'Boom', 'Boom', 58, 59, 60, 61, 62, 'Boom', 64, 65, 66, 'Boom', 68, 69, 'Boom', 'Boom', 'Boom', 'Boom', 'Boom', 'Boom', 'Boom', 'Boom', 'Boom', 'Boom', 80, 81, 82, 83, 'Boom', 85, 86, 'Boom', 88, 89, 90, 'Boom', 92, 93, 94, 95, 96, 'Boom', 'Boom', 99, 100]\n"
     ]
    }
   ],
   "source": [
    "n = 100\n",
    "results = list(map(call_7_boom, range(1, n+1)))\n",
    "print(results)"
   ]
  },
  {
   "cell_type": "markdown",
   "metadata": {
    "colab_type": "text",
    "id": "CSf4r3hLvU9_"
   },
   "source": [
    "Usually _function_ is specified in lambda form. Also, *map()* can take more than a single iterable."
   ]
  },
  {
   "cell_type": "markdown",
   "metadata": {},
   "source": [
    "### Example"
   ]
  },
  {
   "cell_type": "markdown",
   "metadata": {},
   "source": [
    "You are given two lists of the same length of words. For each pair of words, find the number of their common letters."
   ]
  },
  {
   "cell_type": "code",
   "execution_count": 30,
   "metadata": {},
   "outputs": [
    {
     "name": "stdout",
     "output_type": "stream",
     "text": [
      "\"Don't\tlet\twhat\tyou\tcannot\tdo\tinterfere\n",
      "with\twhat\tyou\tcan\tdo.\"\t(John\tWooden)\n"
     ]
    }
   ],
   "source": [
    "sentence = '\"Don\\'t let what you cannot do interfere with what you can do.\" (John Wooden)'.split()\n",
    "words1 = sentence[:7]\n",
    "words2 = sentence[7:]\n",
    "\n",
    "print('\\t'.join(words1))\n",
    "print('\\t'.join(words2))"
   ]
  },
  {
   "cell_type": "code",
   "execution_count": 31,
   "metadata": {},
   "outputs": [
    {
     "data": {
      "text/plain": [
       "[1, 1, 0, 0, 1, 1, 2]"
      ]
     },
     "execution_count": 31,
     "metadata": {},
     "output_type": "execute_result"
    }
   ],
   "source": [
    "list(map(lambda w1, w2: len(set(w1) & set(w2)), words1, words2))"
   ]
  },
  {
   "cell_type": "markdown",
   "metadata": {
    "colab_type": "text",
    "id": "oeN2GeF4vU9V"
   },
   "source": [
    "### _zip(iterable, iterable, ...)_"
   ]
  },
  {
   "cell_type": "markdown",
   "metadata": {
    "colab_type": "text",
    "id": "SpwyhLVrvU9V"
   },
   "source": [
    "This function [_zip()_][zip] returns a **list of tuples**, where the i-th tuple contains the i-th element from each of the argument sequences or iterables. It is called _zip_ because it \"zips\" (from zipper) the iterables into a single iterable.\n",
    "\n",
    "[zip]: https://docs.python.org/2/library/functions.html#zip \"zip() documentation\""
   ]
  },
  {
   "cell_type": "code",
   "execution_count": 32,
   "metadata": {
    "colab": {},
    "colab_type": "code",
    "id": "3jlW2qtRvU9W"
   },
   "outputs": [],
   "source": [
    "students = {'Andy': ('m', 51), 'Brad': ('f', 34), 'Craig': ('m', 25), 'Dan': ('m', 36)}"
   ]
  },
  {
   "cell_type": "code",
   "execution_count": 33,
   "metadata": {
    "colab": {},
    "colab_type": "code",
    "id": "mGr086kTvU9W",
    "outputId": "10a899ac-b2e1-46e8-fd87-e37612663876"
   },
   "outputs": [
    {
     "name": "stdout",
     "output_type": "stream",
     "text": [
      "['Andy', 'Brad', 'Craig', 'Dan'] \n",
      " [51, 34, 25, 36] \n",
      " ['m', 'f', 'm', 'm']\n"
     ]
    }
   ],
   "source": [
    "names = list(students.keys())\n",
    "ages = [students[name][1] for name in names]\n",
    "genders = [students[name][0] for name in names]\n",
    "print(names, \"\\n\", ages, \"\\n\", genders)"
   ]
  },
  {
   "cell_type": "code",
   "execution_count": 34,
   "metadata": {
    "colab": {},
    "colab_type": "code",
    "id": "K1RfIi3svU9a",
    "outputId": "e7bfa5f0-e6a4-4d9d-b7bd-810e11f92c9a"
   },
   "outputs": [
    {
     "data": {
      "text/plain": [
       "[('Andy', 51, 'm'), ('Brad', 34, 'f'), ('Craig', 25, 'm'), ('Dan', 36, 'm')]"
      ]
     },
     "execution_count": 34,
     "metadata": {},
     "output_type": "execute_result"
    }
   ],
   "source": [
    "zipped_students = list(zip(names, ages, genders))\n",
    "zipped_students"
   ]
  },
  {
   "cell_type": "code",
   "execution_count": 35,
   "metadata": {
    "colab": {},
    "colab_type": "code",
    "id": "HAKmT_-KvU9e",
    "outputId": "ee9a271f-999f-40ff-a3fb-469ca1e55b6f"
   },
   "outputs": [
    {
     "data": {
      "text/plain": [
       "[('Craig', 'Dan', 'Andy', 'Brad'), (25, 36, 51, 34), ('m', 'm', 'm', 'f')]"
      ]
     },
     "execution_count": 35,
     "metadata": {},
     "output_type": "execute_result"
    }
   ],
   "source": [
    "list(zip(*[('Craig', 25, 'm'), ('Dan', 36, 'm'), ('Andy', 51, 'm'), ('Brad', 34, 'f')]))"
   ]
  },
  {
   "cell_type": "markdown",
   "metadata": {
    "colab_type": "text",
    "id": "id50ES5avU80"
   },
   "source": [
    "### _sorted(iterable, key, reverse)_"
   ]
  },
  {
   "cell_type": "markdown",
   "metadata": {
    "colab_type": "text",
    "id": "v8LD9ItgvU81"
   },
   "source": [
    "The function [sorted(iterable, key, reverse)][sorted] returns a list with the elements of _iterable_ sorted by the key defined by the _key_ function and displayed in reverse order if the Boolean _reverse_ is _True_.\n",
    "\n",
    "\n",
    "[sorted]: https://docs.python.org/2/library/functions.html#enumerate \"sorted() documentation\""
   ]
  },
  {
   "cell_type": "markdown",
   "metadata": {
    "colab_type": "text",
    "id": "fjPATH2YvU9F"
   },
   "source": [
    "#### Lexicographic order"
   ]
  },
  {
   "cell_type": "markdown",
   "metadata": {
    "colab_type": "text",
    "id": "eAXZmNwWvU9G"
   },
   "source": [
    "If _key_ is not defined, then the standard lexicographic order is applied. The _reverse_ argument specifies whether the items should be displayed in reverse order."
   ]
  },
  {
   "cell_type": "code",
   "execution_count": 36,
   "metadata": {
    "colab": {},
    "colab_type": "code",
    "id": "_KoVglEavU9G"
   },
   "outputs": [],
   "source": [
    "students = {'Andy': ('m', 51), 'Brad': ('m', 34), 'Craig': ('m', 25), 'Dan': ('m', 36),\n",
    "            'Elaine': ('f', 36), 'Fiona': ('f', 36), 'George': ('m', 41), 'Herbert': ('m', 23),\n",
    "            'Isabel': ('f', 27), 'Jerry': ('m', 19), 'Kramer': ('m', 42), 'Lena': ('f', 22)}"
   ]
  },
  {
   "cell_type": "code",
   "execution_count": 37,
   "metadata": {
    "colab": {},
    "colab_type": "code",
    "id": "dCaS2oKqvU9G",
    "outputId": "cedb679b-09d8-42f1-adb7-c0a854900be0"
   },
   "outputs": [
    {
     "name": "stdout",
     "output_type": "stream",
     "text": [
      "['Andy', 'Brad', 'Craig', 'Dan', 'Elaine', 'Fiona', 'George', 'Herbert', 'Isabel', 'Jerry', 'Kramer', 'Lena']\n",
      " * ~ * ~ * ~ * ~ * ~ * ~ * ~ * ~ * ~ * ~ * ~ * ~ * ~ * ~ * ~ * ~ * ~ * ~ * ~ * ~\n",
      "['Lena', 'Kramer', 'Jerry', 'Isabel', 'Herbert', 'George', 'Fiona', 'Elaine', 'Dan', 'Craig', 'Brad', 'Andy']\n"
     ]
    }
   ],
   "source": [
    "names = list(students.keys())\n",
    "print(sorted(names))\n",
    "print(20 * ' * ~')\n",
    "print(sorted(names, reverse=True))"
   ]
  },
  {
   "cell_type": "markdown",
   "metadata": {
    "colab_type": "text",
    "id": "MNJENdoxvU9L"
   },
   "source": [
    "If the elements of _iterable_ are iterables themselves, then the lexicographic order will be applied to their first element, then to their second, and so on."
   ]
  },
  {
   "cell_type": "code",
   "execution_count": 38,
   "metadata": {
    "colab": {},
    "colab_type": "code",
    "id": "hLMkboYHvU9L",
    "outputId": "a6a1e3de-5eee-4f33-b92b-61b4f524df92"
   },
   "outputs": [
    {
     "name": "stdout",
     "output_type": "stream",
     "text": [
      "[('f', 22), ('f', 27), ('f', 36), ('f', 36), ('m', 19), ('m', 23), ('m', 25), ('m', 34), ('m', 36), ('m', 41), ('m', 42), ('m', 51)]\n"
     ]
    }
   ],
   "source": [
    "details = list(students.values())\n",
    "print(sorted(details))"
   ]
  },
  {
   "cell_type": "markdown",
   "metadata": {
    "colab_type": "text",
    "id": "YC22daoPvU9N"
   },
   "source": [
    "#### The _key_ function"
   ]
  },
  {
   "cell_type": "markdown",
   "metadata": {
    "colab_type": "text",
    "id": "CbSVPLqYvU9O"
   },
   "source": [
    "_key_ is an auxiliary **function** that defines the \"key\" of the elements, according to which we sort them. Most of the times this function is in a lambda function form."
   ]
  },
  {
   "cell_type": "code",
   "execution_count": 39,
   "metadata": {
    "colab": {},
    "colab_type": "code",
    "id": "rPcvv5REvU9O"
   },
   "outputs": [],
   "source": [
    "students = {'Andy': ('m', 51), 'Brad': ('m', 34), 'Craig': ('m', 25), 'Dan': ('m', 36),\n",
    "            'Elaine': ('f', 36), 'Fiona': ('f', 36), 'George': ('m', 41), 'Herbert': ('m', 23),\n",
    "            'Isabel': ('f', 27), 'Jerry': ('m', 19), 'Kramer': ('m', 42), 'Lena': ('f', 22)}"
   ]
  },
  {
   "cell_type": "code",
   "execution_count": 40,
   "metadata": {
    "colab": {},
    "colab_type": "code",
    "id": "jEViqpRavU9Q",
    "outputId": "5a132d66-ed28-4d96-ef36-5d43009b8ebc"
   },
   "outputs": [
    {
     "name": "stdout",
     "output_type": "stream",
     "text": [
      "['Jerry', 'Lena', 'Herbert', 'Craig', 'Isabel', 'Brad', 'Dan', 'Elaine', 'Fiona', 'George', 'Kramer', 'Andy']\n"
     ]
    }
   ],
   "source": [
    "sorted_by_age = sorted(students, key=lambda name: students[name][1])\n",
    "print(sorted_by_age)"
   ]
  },
  {
   "cell_type": "code",
   "execution_count": 41,
   "metadata": {
    "colab": {},
    "colab_type": "code",
    "id": "VtpW383JvU9T",
    "outputId": "00a21fd7-5794-42b7-91f9-ea102bf53036"
   },
   "outputs": [
    {
     "name": "stdout",
     "output_type": "stream",
     "text": [
      "['Dan', 'Andy', 'Brad', 'Lena', 'Craig', 'Fiona', 'Jerry', 'Elaine', 'George', 'Isabel', 'Kramer', 'Herbert']\n"
     ]
    }
   ],
   "source": [
    "sorted_by_name_length = sorted(students, key=lambda name: len(name))\n",
    "print(sorted_by_name_length)"
   ]
  },
  {
   "cell_type": "markdown",
   "metadata": {
    "colab_type": "text",
    "id": "P96iQwPfErfa"
   },
   "source": [
    "> **Your turn:** Explore the functions `all()`, `any()`,  `enumerate()` & `filter()`"
   ]
  },
  {
   "cell_type": "markdown",
   "metadata": {
    "colab_type": "text",
    "id": "MfmtbkT5vU7_"
   },
   "source": [
    "### _all(iterable)_ and _any(iterable)_"
   ]
  },
  {
   "cell_type": "markdown",
   "metadata": {
    "colab_type": "text",
    "id": "HL2T9Y_FvU8A"
   },
   "source": [
    "The function [_all(iterable)_][all] returns _True_ if all the elements of _iterable_ are _True_, and the function [_any(iterable)_][any] returns _True_ if any of the elements of _iterable_ are _True_.\n",
    "\n",
    "\n",
    "[all]: https://docs.python.org/2/library/functions.html#all \"all() documentation\"\n",
    "[any]: https://docs.python.org/2/library/functions.html#any \"any() documentation\""
   ]
  },
  {
   "cell_type": "code",
   "execution_count": 42,
   "metadata": {
    "colab": {},
    "colab_type": "code",
    "id": "DGDaFlj7vU8A"
   },
   "outputs": [],
   "source": [
    "students = {'Andy': ('m', 51), 'Brad': ('m', 34), 'Craig': ('m', 25), 'Dan': ('m', 36),\n",
    "            'Elaine': ('f', 36), 'Fiona': ('f', 36), 'George': ('m', 41), 'Herbert': ('m', 23),\n",
    "            'Isabel': ('f', 27), 'Jerry': ('m', 19), 'Kramer': ('m', 42), 'Lena': ('f', 22)}\n",
    "ages = [age for sex, age in list(students.values())]"
   ]
  },
  {
   "cell_type": "code",
   "execution_count": 43,
   "metadata": {
    "colab": {},
    "colab_type": "code",
    "id": "eaZK6_q5vU8C",
    "outputId": "d640bfcf-b4a3-4b06-939b-40cbe49a5c76"
   },
   "outputs": [
    {
     "name": "stdout",
     "output_type": "stream",
     "text": [
      "True\n",
      "False\n"
     ]
    }
   ],
   "source": [
    "print(all([age >= 18 for age in ages]))\n",
    "print(all([age >= 30 for age in ages]))"
   ]
  },
  {
   "cell_type": "code",
   "execution_count": 44,
   "metadata": {
    "colab": {},
    "colab_type": "code",
    "id": "RrzpgMckvU8F",
    "outputId": "4d2f8f4d-badf-48a0-fee5-92a05a667ef6"
   },
   "outputs": [
    {
     "name": "stdout",
     "output_type": "stream",
     "text": [
      "True\n",
      "False\n"
     ]
    }
   ],
   "source": [
    "print(any([age >= 50 for age in ages]))\n",
    "print(any([age >= 60 for age in ages]))"
   ]
  },
  {
   "cell_type": "markdown",
   "metadata": {
    "colab_type": "text",
    "id": "HfSZ2EvyvU8K"
   },
   "source": [
    "### _enumerate(iterable, start)_"
   ]
  },
  {
   "cell_type": "markdown",
   "metadata": {
    "colab_type": "text",
    "id": "X3IcBqDgvU8L"
   },
   "source": [
    "The function [_enumerate(iterable, start)_][enumerate] generates a list of tuples of the form _(i, element)_, where _i_ is the index of the element _element_ within _iterable_, starting to count from _start_, which equals 0 by default.\n",
    "\n",
    "the following two scripts demonstrate the (minor) advantage of using _enumerate()_.\n",
    "\n",
    "[enumerate]: https://docs.python.org/2/library/functions.html#enumerate \"enumerate() documentation\""
   ]
  },
  {
   "cell_type": "code",
   "execution_count": 45,
   "metadata": {
    "colab": {},
    "colab_type": "code",
    "id": "OZ2_92zvvU8L"
   },
   "outputs": [],
   "source": [
    "students = {'Andy': ('m', 51), 'Brad': ('m', 34), 'Craig': ('m', 25), 'Dan': ('m', 36),\n",
    "            'Elaine': ('f', 36), 'Fiona': ('f', 36), 'George': ('m', 41), 'Herbert': ('m', 23),\n",
    "            'Isabel': ('f', 27), 'Jerry': ('m', 19), 'Kramer': ('m', 42), 'Lena': ('f', 22)}"
   ]
  },
  {
   "cell_type": "code",
   "execution_count": 46,
   "metadata": {
    "colab": {},
    "colab_type": "code",
    "id": "iWEyFFPXvU8O",
    "outputId": "169e22e8-5f7c-4732-d416-93c328e25ba9"
   },
   "outputs": [
    {
     "name": "stdout",
     "output_type": "stream",
     "text": [
      " 1: Andy    is a 51-year old male\n",
      " 2: Brad    is a 34-year old male\n",
      " 3: Craig   is a 25-year old male\n",
      " 4: Dan     is a 36-year old male\n",
      " 5: Elaine  is a 36-year old female\n",
      " 6: Fiona   is a 36-year old female\n",
      " 7: George  is a 41-year old male\n",
      " 8: Herbert is a 23-year old male\n",
      " 9: Isabel  is a 27-year old female\n",
      "10: Jerry   is a 19-year old male\n",
      "11: Kramer  is a 42-year old male\n",
      "12: Lena    is a 22-year old female\n"
     ]
    }
   ],
   "source": [
    "counter = 1\n",
    "for name, (gen, age) in list(students.items()):\n",
    "    gender = 'male' if gen == 'm' else 'female'\n",
    "    print(\"{:2}: {:7} is a {}-year old {}\".format(counter, name, age, gender))\n",
    "    counter += 1"
   ]
  },
  {
   "cell_type": "code",
   "execution_count": 47,
   "metadata": {
    "colab": {},
    "colab_type": "code",
    "id": "-QTgp_pzvU8S",
    "outputId": "6fc72d3a-14a9-4a62-b4d8-e1fa46e7e780"
   },
   "outputs": [
    {
     "name": "stdout",
     "output_type": "stream",
     "text": [
      " 1: Andy    is a 51-year old male\n",
      " 2: Brad    is a 34-year old male\n",
      " 3: Craig   is a 25-year old male\n",
      " 4: Dan     is a 36-year old male\n",
      " 5: Elaine  is a 36-year old female\n",
      " 6: Fiona   is a 36-year old female\n",
      " 7: George  is a 41-year old male\n",
      " 8: Herbert is a 23-year old male\n",
      " 9: Isabel  is a 27-year old female\n",
      "10: Jerry   is a 19-year old male\n",
      "11: Kramer  is a 42-year old male\n",
      "12: Lena    is a 22-year old female\n"
     ]
    }
   ],
   "source": [
    "for counter, (name, (gen, age)) in enumerate(list(students.items()), 1):\n",
    "    gender = 'male' if gen == 'm' else 'female'\n",
    "    print(\"{:2}: {:7} is a {}-year old {}\".format(counter, name, age, gender))"
   ]
  },
  {
   "cell_type": "markdown",
   "metadata": {
    "colab_type": "text",
    "id": "S6qhqCtrvU8X"
   },
   "source": [
    "It is adventagous to use _enumerate()_ when you have something to do with the index of the item, e.g. call another object."
   ]
  },
  {
   "cell_type": "markdown",
   "metadata": {
    "colab_type": "text",
    "id": "pvmS73Z0vU8X"
   },
   "source": [
    "#### Iterator objects"
   ]
  },
  {
   "cell_type": "markdown",
   "metadata": {
    "colab_type": "text",
    "id": "Sekc3JHavU8Z"
   },
   "source": [
    "_enumerate()_ does not actually create a list of tuples as expected, but rather an **iterator** object called _enumerate_. We do not cover this topic in the course, but it should be noted that such an object can be used within a _for_-loop, otherwise it requires the funciton _list()_ to access its elements."
   ]
  },
  {
   "cell_type": "code",
   "execution_count": 48,
   "metadata": {
    "colab": {},
    "colab_type": "code",
    "id": "t2S9iZkNvU8a",
    "outputId": "6ec3768f-e24c-4571-ff9f-b77f52c909e1"
   },
   "outputs": [
    {
     "name": "stdout",
     "output_type": "stream",
     "text": [
      "<class 'enumerate'>\n"
     ]
    }
   ],
   "source": [
    "print(type(enumerate(students)))"
   ]
  },
  {
   "cell_type": "code",
   "execution_count": 49,
   "metadata": {
    "colab": {},
    "colab_type": "code",
    "id": "PFLjNpMMvU8f",
    "outputId": "84b4332c-728b-40c2-9699-bbf1f78f36bc"
   },
   "outputs": [
    {
     "name": "stdout",
     "output_type": "stream",
     "text": [
      "<enumerate object at 0x0000023D0D926510>\n"
     ]
    }
   ],
   "source": [
    "print(enumerate(students))"
   ]
  },
  {
   "cell_type": "code",
   "execution_count": 50,
   "metadata": {
    "colab": {},
    "colab_type": "code",
    "id": "3ip8gdDyvU8h",
    "outputId": "5aa617c3-6d82-4daa-a079-73a4c34b6623"
   },
   "outputs": [
    {
     "name": "stdout",
     "output_type": "stream",
     "text": [
      "[(0, 'Andy'), (1, 'Brad'), (2, 'Craig'), (3, 'Dan'), (4, 'Elaine'), (5, 'Fiona'), (6, 'George'), (7, 'Herbert'), (8, 'Isabel'), (9, 'Jerry'), (10, 'Kramer'), (11, 'Lena')]\n"
     ]
    }
   ],
   "source": [
    "print(list(enumerate(students)))"
   ]
  },
  {
   "cell_type": "markdown",
   "metadata": {
    "colab_type": "text",
    "id": "HtcTvt8zvU8q"
   },
   "source": [
    "Comparing the following two implementation, we see that they have the same result, but the second one unnecessarily creates a list."
   ]
  },
  {
   "cell_type": "code",
   "execution_count": 51,
   "metadata": {
    "colab": {},
    "colab_type": "code",
    "id": "K6aIU9pJvU8q",
    "outputId": "9970751b-7c9a-4281-8842-ce1f132c2def"
   },
   "outputs": [
    {
     "name": "stdout",
     "output_type": "stream",
     "text": [
      "(0, 'Andy') (1, 'Brad') (2, 'Craig') (3, 'Dan') (4, 'Elaine') (5, 'Fiona') (6, 'George') (7, 'Herbert') (8, 'Isabel') (9, 'Jerry') (10, 'Kramer') (11, 'Lena') "
     ]
    }
   ],
   "source": [
    "for x in enumerate(students):\n",
    "    print(x, end=' ') "
   ]
  },
  {
   "cell_type": "code",
   "execution_count": 52,
   "metadata": {
    "colab": {},
    "colab_type": "code",
    "id": "LuF4aeuRvU8w",
    "outputId": "5feb42bb-aebd-4370-8bfc-0cfe409bee0a"
   },
   "outputs": [
    {
     "name": "stdout",
     "output_type": "stream",
     "text": [
      "(0, 'Andy') (1, 'Brad') (2, 'Craig') (3, 'Dan') (4, 'Elaine') (5, 'Fiona') (6, 'George') (7, 'Herbert') (8, 'Isabel') (9, 'Jerry') (10, 'Kramer') (11, 'Lena') "
     ]
    }
   ],
   "source": [
    "for x in list(enumerate(students)):\n",
    "    print(x, end=' ') "
   ]
  },
  {
   "cell_type": "markdown",
   "metadata": {
    "colab_type": "text",
    "id": "FG2ogDWPvU9o"
   },
   "source": [
    "### _filter(function, iterable)_"
   ]
  },
  {
   "cell_type": "markdown",
   "metadata": {
    "colab_type": "text",
    "id": "uBVLX1vCvU9p"
   },
   "source": [
    "The function [_filter(function, iterable)_][filter] constructs a list from those elements of _iterable_ for which _function_ returns _True_. It should be noted that _filter(function, iterable)_ is completely equivalent to the following list comprehension: **[_item_ for _item_ in _iterable_ if _function(item)_]**\n",
    "\n",
    "[filter]: https://docs.python.org/2/library/functions.html#filter \"filter() documentation\""
   ]
  },
  {
   "cell_type": "markdown",
   "metadata": {
    "colab_type": "text",
    "id": "DgKD1ivrvU9p"
   },
   "source": [
    "#### Example 1"
   ]
  },
  {
   "cell_type": "markdown",
   "metadata": {
    "colab_type": "text",
    "id": "1ZVXykXxvU9q"
   },
   "source": [
    "Write a function that returns a list of the prime numbers between two intergers - _m_ and _n_."
   ]
  },
  {
   "cell_type": "code",
   "execution_count": 53,
   "metadata": {
    "colab": {},
    "colab_type": "code",
    "id": "RIXufXbsvU9r"
   },
   "outputs": [],
   "source": [
    "def is_prime(n):\n",
    "    for k in range(2, int(n**0.5)+1):\n",
    "        if n % k == 0:\n",
    "            return False\n",
    "    return True\n",
    "\n",
    "def list_primes(m, n):\n",
    "    return list(filter(is_prime, range(m, n + 1)))"
   ]
  },
  {
   "cell_type": "code",
   "execution_count": 54,
   "metadata": {
    "colab": {},
    "colab_type": "code",
    "id": "l5-joTsavU9r",
    "outputId": "d49fd9b6-f2eb-44db-c55d-2254b3c2d35a"
   },
   "outputs": [
    {
     "name": "stdout",
     "output_type": "stream",
     "text": [
      "[11, 13, 17, 19]\n"
     ]
    }
   ],
   "source": [
    "print(list_primes(10, 20))"
   ]
  },
  {
   "cell_type": "markdown",
   "metadata": {
    "colab_type": "text",
    "id": "WhiTshRQvU9u"
   },
   "source": [
    "Usually _function_ is specified in lambda form."
   ]
  },
  {
   "cell_type": "markdown",
   "metadata": {
    "colab_type": "text",
    "id": "GS9RqZXovU9u"
   },
   "source": [
    "#### Example 7"
   ]
  },
  {
   "cell_type": "markdown",
   "metadata": {
    "colab_type": "text",
    "id": "7JW-6jhOvU9u"
   },
   "source": [
    "Derive the following lists from _students_:\n",
    "* Only the female students\n",
    "* Only the students that are younger than 25"
   ]
  },
  {
   "cell_type": "code",
   "execution_count": 55,
   "metadata": {
    "colab": {},
    "colab_type": "code",
    "id": "IBP_wAW7vU9u"
   },
   "outputs": [],
   "source": [
    "students = {'Andy': ('m', 51), 'Brad': ('m', 34), 'Craig': ('m', 25), 'Dan': ('m', 36),\n",
    "            'Elaine': ('f', 36), 'Fiona': ('f', 36), 'George': ('m', 41), 'Herbert': ('m', 23),\n",
    "            'Isabel': ('f', 27), 'Jerry': ('m', 19), 'Kramer': ('m', 42), 'Lena': ('f', 22)}"
   ]
  },
  {
   "cell_type": "code",
   "execution_count": 56,
   "metadata": {
    "colab": {},
    "colab_type": "code",
    "id": "Ioiaujn_vU9w",
    "outputId": "d68620eb-e24e-4785-cc3d-75056cfd5422"
   },
   "outputs": [
    {
     "name": "stdout",
     "output_type": "stream",
     "text": [
      "[('Elaine', ('f', 36)), ('Fiona', ('f', 36)), ('Isabel', ('f', 27)), ('Lena', ('f', 22))]\n"
     ]
    }
   ],
   "source": [
    "females = [student for student in students.items() if student[1][0] == 'f']\n",
    "print(females)"
   ]
  },
  {
   "cell_type": "code",
   "execution_count": 57,
   "metadata": {
    "colab": {},
    "colab_type": "code",
    "id": "LK8JlIG8vU9z",
    "outputId": "4f8b6b45-5a83-4801-e5b6-039783fdbf44"
   },
   "outputs": [
    {
     "name": "stdout",
     "output_type": "stream",
     "text": [
      "['Herbert', 'Jerry', 'Lena']\n"
     ]
    }
   ],
   "source": [
    "young = [student for student in students if students[student][1] < 25]\n",
    "print(young)"
   ]
  },
  {
   "cell_type": "markdown",
   "metadata": {
    "colab_type": "text",
    "id": "u5lm0V8NvU90"
   },
   "source": [
    "Note that _filter_ uses an iterable, so we can iterate either the keys or the items of the dictionary _students_."
   ]
  }
 ],
 "metadata": {
  "colab": {
   "name": "functions_notebook.ipynb",
   "provenance": [],
   "version": "0.3.2"
  },
  "kernelspec": {
   "display_name": "Python 3",
   "language": "python",
   "name": "python3"
  },
  "language_info": {
   "codemirror_mode": {
    "name": "ipython",
    "version": 3
   },
   "file_extension": ".py",
   "mimetype": "text/x-python",
   "name": "python",
   "nbconvert_exporter": "python",
   "pygments_lexer": "ipython3",
   "version": "3.7.1"
  }
 },
 "nbformat": 4,
 "nbformat_minor": 1
}
